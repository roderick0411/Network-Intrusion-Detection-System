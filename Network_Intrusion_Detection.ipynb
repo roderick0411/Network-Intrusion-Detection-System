{
 "cells": [
  {
   "cell_type": "markdown",
   "metadata": {
    "id": "LfLTM12_pRUu"
   },
   "source": [
    "# Network Intrusion Detection using Machine Learning"
   ]
  },
  {
   "cell_type": "markdown",
   "metadata": {
    "id": "AUeCf-9spbf5"
   },
   "source": [
    "### Importing Libraries"
   ]
  },
  {
   "cell_type": "code",
   "execution_count": 100,
   "metadata": {
    "colab": {
     "base_uri": "https://localhost:8080/"
    },
    "id": "D1sd6wbPk8LO",
    "outputId": "ae46f642-7812-4758-f4cd-d3772e25db4f"
   },
   "outputs": [],
   "source": [
    "%matplotlib inline\n",
    "import matplotlib\n",
    "import matplotlib.pyplot as plt\n",
    "import pandas as pd\n",
    "pd.options.mode.chained_assignment = None\n",
    "import numpy as np\n",
    "\n",
    "import seaborn as sns\n",
    "import sklearn\n",
    "from sklearn.model_selection import train_test_split, GridSearchCV, cross_val_score, StratifiedKFold\n",
    "from sklearn import metrics\n",
    "from sklearn.metrics import (confusion_matrix, accuracy_score, roc_auc_score, precision_score, recall_score, f1_score,\n",
    "                             roc_curve, auc, classification_report, mean_squared_error, mean_absolute_error, log_loss)\n",
    "import imblearn\n",
    "import pickle\n",
    "\n",
    "# Settings\n",
    "pd.set_option('display.max_columns', 500)\n",
    "pd.set_option('display.max_rows', 500)\n",
    "\n"
   ]
  },
  {
   "cell_type": "markdown",
   "metadata": {
    "id": "afpCeaTOpgec"
   },
   "source": [
    "### Loading the data"
   ]
  },
  {
   "cell_type": "code",
   "execution_count": 2,
   "metadata": {
    "id": "zZyE6Wi7mGpy"
   },
   "outputs": [],
   "source": [
    "# Dataset field names\n",
    "datacols = [\"duration\",\"protocol_type\",\"service\",\"flag\",\"src_bytes\",\n",
    "    \"dst_bytes\",\"land\",\"wrong_fragment\",\"urgent\",\"hot\",\"num_failed_logins\",\n",
    "    \"logged_in\",\"num_compromised\",\"root_shell\",\"su_attempted\",\"num_root\",\n",
    "    \"num_file_creations\",\"num_shells\",\"num_access_files\",\"num_outbound_cmds\",\n",
    "    \"is_host_login\",\"is_guest_login\",\"count\",\"srv_count\",\"serror_rate\",\n",
    "    \"srv_serror_rate\",\"rerror_rate\",\"srv_rerror_rate\",\"same_srv_rate\",\n",
    "    \"diff_srv_rate\",\"srv_diff_host_rate\",\"dst_host_count\",\"dst_host_srv_count\",\n",
    "    \"dst_host_same_srv_rate\",\"dst_host_diff_srv_rate\",\"dst_host_same_src_port_rate\",\n",
    "    \"dst_host_srv_diff_host_rate\",\"dst_host_serror_rate\",\"dst_host_srv_serror_rate\",\n",
    "    \"dst_host_rerror_rate\",\"dst_host_srv_rerror_rate\",\"attack\", \"last_flag\"]"
   ]
  },
  {
   "cell_type": "code",
   "execution_count": 3,
   "metadata": {
    "id": "0ykO_CrnmG4i"
   },
   "outputs": [],
   "source": [
    "# Load NSL_KDD train dataset\n",
    "dfkdd_train = pd.read_csv(\"NSL_Dataset/Train.txt\", names=datacols) \n",
    "\n",
    "# Load NSL_KDD test dataset\n",
    "dfkdd_test = pd.read_csv(\"NSL_Dataset/Test.txt\", names=datacols)"
   ]
  },
  {
   "cell_type": "code",
   "execution_count": 4,
   "metadata": {},
   "outputs": [],
   "source": [
    "# To get groups of features with high correlation among each other\n",
    "def corr_groups(df, thresh):\n",
    "    related_features = []\n",
    "    cols = list(df.columns)\n",
    "    corr_scores = {}\n",
    "    for f in cols:\n",
    "        corr_scores[f]=0\n",
    "    for i in range(len(cols)-1):\n",
    "        rel_features=[cols[i]]\n",
    "        for j in range(i+1, len(cols)):\n",
    "            score = df[cols[i]].corr(df[cols[j]])\n",
    "            if((abs(score) > thresh) & (abs(score) > corr_scores[cols[j]])):\n",
    "                rel_features.append(cols[j])\n",
    "                corr_scores[cols[j]] = abs(score)\n",
    "        if (len(rel_features) > 1):\n",
    "            related_features.append(rel_features)\n",
    "    print('\\n**************** GROUPS WITH HIGH CORRELATION ****************\\n')\n",
    "    for i in range(len(related_features)):\n",
    "        print(\"------------- Group {} -------------\".format(i+1))\n",
    "        print(related_features[i],'\\n')\n",
    "        plt.figure(dpi=150)\n",
    "        sns.heatmap(df[related_features[i]].corr(), annot=True, cmap=\"YlGnBu\", fmt=\".2f\")\n",
    "        plt.show()"
   ]
  },
  {
   "cell_type": "markdown",
   "metadata": {
    "id": "a9ibr4qNpmil"
   },
   "source": [
    "### Train Dataset"
   ]
  },
  {
   "cell_type": "code",
   "execution_count": 5,
   "metadata": {
    "colab": {
     "base_uri": "https://localhost:8080/",
     "height": 162
    },
    "id": "609YaHudo32R",
    "outputId": "1c565aa7-9ce8-47aa-a761-26a327780b1c"
   },
   "outputs": [
    {
     "data": {
      "text/html": [
       "<div>\n",
       "<style scoped>\n",
       "    .dataframe tbody tr th:only-of-type {\n",
       "        vertical-align: middle;\n",
       "    }\n",
       "\n",
       "    .dataframe tbody tr th {\n",
       "        vertical-align: top;\n",
       "    }\n",
       "\n",
       "    .dataframe thead th {\n",
       "        text-align: right;\n",
       "    }\n",
       "</style>\n",
       "<table border=\"1\" class=\"dataframe\">\n",
       "  <thead>\n",
       "    <tr style=\"text-align: right;\">\n",
       "      <th></th>\n",
       "      <th>duration</th>\n",
       "      <th>protocol_type</th>\n",
       "      <th>service</th>\n",
       "      <th>flag</th>\n",
       "      <th>src_bytes</th>\n",
       "      <th>dst_bytes</th>\n",
       "      <th>land</th>\n",
       "      <th>wrong_fragment</th>\n",
       "      <th>urgent</th>\n",
       "      <th>hot</th>\n",
       "      <th>num_failed_logins</th>\n",
       "      <th>logged_in</th>\n",
       "      <th>num_compromised</th>\n",
       "      <th>root_shell</th>\n",
       "      <th>su_attempted</th>\n",
       "      <th>num_root</th>\n",
       "      <th>num_file_creations</th>\n",
       "      <th>num_shells</th>\n",
       "      <th>num_access_files</th>\n",
       "      <th>num_outbound_cmds</th>\n",
       "      <th>is_host_login</th>\n",
       "      <th>is_guest_login</th>\n",
       "      <th>count</th>\n",
       "      <th>srv_count</th>\n",
       "      <th>serror_rate</th>\n",
       "      <th>srv_serror_rate</th>\n",
       "      <th>rerror_rate</th>\n",
       "      <th>srv_rerror_rate</th>\n",
       "      <th>same_srv_rate</th>\n",
       "      <th>diff_srv_rate</th>\n",
       "      <th>srv_diff_host_rate</th>\n",
       "      <th>dst_host_count</th>\n",
       "      <th>dst_host_srv_count</th>\n",
       "      <th>dst_host_same_srv_rate</th>\n",
       "      <th>dst_host_diff_srv_rate</th>\n",
       "      <th>dst_host_same_src_port_rate</th>\n",
       "      <th>dst_host_srv_diff_host_rate</th>\n",
       "      <th>dst_host_serror_rate</th>\n",
       "      <th>dst_host_srv_serror_rate</th>\n",
       "      <th>dst_host_rerror_rate</th>\n",
       "      <th>dst_host_srv_rerror_rate</th>\n",
       "      <th>attack</th>\n",
       "      <th>last_flag</th>\n",
       "    </tr>\n",
       "  </thead>\n",
       "  <tbody>\n",
       "    <tr>\n",
       "      <th>0</th>\n",
       "      <td>0</td>\n",
       "      <td>tcp</td>\n",
       "      <td>ftp_data</td>\n",
       "      <td>SF</td>\n",
       "      <td>491</td>\n",
       "      <td>0</td>\n",
       "      <td>0</td>\n",
       "      <td>0</td>\n",
       "      <td>0</td>\n",
       "      <td>0</td>\n",
       "      <td>0</td>\n",
       "      <td>0</td>\n",
       "      <td>0</td>\n",
       "      <td>0</td>\n",
       "      <td>0</td>\n",
       "      <td>0</td>\n",
       "      <td>0</td>\n",
       "      <td>0</td>\n",
       "      <td>0</td>\n",
       "      <td>0</td>\n",
       "      <td>0</td>\n",
       "      <td>0</td>\n",
       "      <td>2</td>\n",
       "      <td>2</td>\n",
       "      <td>0.0</td>\n",
       "      <td>0.0</td>\n",
       "      <td>0.0</td>\n",
       "      <td>0.0</td>\n",
       "      <td>1.00</td>\n",
       "      <td>0.00</td>\n",
       "      <td>0.0</td>\n",
       "      <td>150</td>\n",
       "      <td>25</td>\n",
       "      <td>0.17</td>\n",
       "      <td>0.03</td>\n",
       "      <td>0.17</td>\n",
       "      <td>0.0</td>\n",
       "      <td>0.0</td>\n",
       "      <td>0.0</td>\n",
       "      <td>0.05</td>\n",
       "      <td>0.0</td>\n",
       "      <td>normal</td>\n",
       "      <td>20</td>\n",
       "    </tr>\n",
       "    <tr>\n",
       "      <th>1</th>\n",
       "      <td>0</td>\n",
       "      <td>udp</td>\n",
       "      <td>other</td>\n",
       "      <td>SF</td>\n",
       "      <td>146</td>\n",
       "      <td>0</td>\n",
       "      <td>0</td>\n",
       "      <td>0</td>\n",
       "      <td>0</td>\n",
       "      <td>0</td>\n",
       "      <td>0</td>\n",
       "      <td>0</td>\n",
       "      <td>0</td>\n",
       "      <td>0</td>\n",
       "      <td>0</td>\n",
       "      <td>0</td>\n",
       "      <td>0</td>\n",
       "      <td>0</td>\n",
       "      <td>0</td>\n",
       "      <td>0</td>\n",
       "      <td>0</td>\n",
       "      <td>0</td>\n",
       "      <td>13</td>\n",
       "      <td>1</td>\n",
       "      <td>0.0</td>\n",
       "      <td>0.0</td>\n",
       "      <td>0.0</td>\n",
       "      <td>0.0</td>\n",
       "      <td>0.08</td>\n",
       "      <td>0.15</td>\n",
       "      <td>0.0</td>\n",
       "      <td>255</td>\n",
       "      <td>1</td>\n",
       "      <td>0.00</td>\n",
       "      <td>0.60</td>\n",
       "      <td>0.88</td>\n",
       "      <td>0.0</td>\n",
       "      <td>0.0</td>\n",
       "      <td>0.0</td>\n",
       "      <td>0.00</td>\n",
       "      <td>0.0</td>\n",
       "      <td>normal</td>\n",
       "      <td>15</td>\n",
       "    </tr>\n",
       "    <tr>\n",
       "      <th>2</th>\n",
       "      <td>0</td>\n",
       "      <td>tcp</td>\n",
       "      <td>private</td>\n",
       "      <td>S0</td>\n",
       "      <td>0</td>\n",
       "      <td>0</td>\n",
       "      <td>0</td>\n",
       "      <td>0</td>\n",
       "      <td>0</td>\n",
       "      <td>0</td>\n",
       "      <td>0</td>\n",
       "      <td>0</td>\n",
       "      <td>0</td>\n",
       "      <td>0</td>\n",
       "      <td>0</td>\n",
       "      <td>0</td>\n",
       "      <td>0</td>\n",
       "      <td>0</td>\n",
       "      <td>0</td>\n",
       "      <td>0</td>\n",
       "      <td>0</td>\n",
       "      <td>0</td>\n",
       "      <td>123</td>\n",
       "      <td>6</td>\n",
       "      <td>1.0</td>\n",
       "      <td>1.0</td>\n",
       "      <td>0.0</td>\n",
       "      <td>0.0</td>\n",
       "      <td>0.05</td>\n",
       "      <td>0.07</td>\n",
       "      <td>0.0</td>\n",
       "      <td>255</td>\n",
       "      <td>26</td>\n",
       "      <td>0.10</td>\n",
       "      <td>0.05</td>\n",
       "      <td>0.00</td>\n",
       "      <td>0.0</td>\n",
       "      <td>1.0</td>\n",
       "      <td>1.0</td>\n",
       "      <td>0.00</td>\n",
       "      <td>0.0</td>\n",
       "      <td>neptune</td>\n",
       "      <td>19</td>\n",
       "    </tr>\n",
       "  </tbody>\n",
       "</table>\n",
       "</div>"
      ],
      "text/plain": [
       "   duration protocol_type   service flag  src_bytes  dst_bytes  land  \\\n",
       "0         0           tcp  ftp_data   SF        491          0     0   \n",
       "1         0           udp     other   SF        146          0     0   \n",
       "2         0           tcp   private   S0          0          0     0   \n",
       "\n",
       "   wrong_fragment  urgent  hot  num_failed_logins  logged_in  num_compromised  \\\n",
       "0               0       0    0                  0          0                0   \n",
       "1               0       0    0                  0          0                0   \n",
       "2               0       0    0                  0          0                0   \n",
       "\n",
       "   root_shell  su_attempted  num_root  num_file_creations  num_shells  \\\n",
       "0           0             0         0                   0           0   \n",
       "1           0             0         0                   0           0   \n",
       "2           0             0         0                   0           0   \n",
       "\n",
       "   num_access_files  num_outbound_cmds  is_host_login  is_guest_login  count  \\\n",
       "0                 0                  0              0               0      2   \n",
       "1                 0                  0              0               0     13   \n",
       "2                 0                  0              0               0    123   \n",
       "\n",
       "   srv_count  serror_rate  srv_serror_rate  rerror_rate  srv_rerror_rate  \\\n",
       "0          2          0.0              0.0          0.0              0.0   \n",
       "1          1          0.0              0.0          0.0              0.0   \n",
       "2          6          1.0              1.0          0.0              0.0   \n",
       "\n",
       "   same_srv_rate  diff_srv_rate  srv_diff_host_rate  dst_host_count  \\\n",
       "0           1.00           0.00                 0.0             150   \n",
       "1           0.08           0.15                 0.0             255   \n",
       "2           0.05           0.07                 0.0             255   \n",
       "\n",
       "   dst_host_srv_count  dst_host_same_srv_rate  dst_host_diff_srv_rate  \\\n",
       "0                  25                    0.17                    0.03   \n",
       "1                   1                    0.00                    0.60   \n",
       "2                  26                    0.10                    0.05   \n",
       "\n",
       "   dst_host_same_src_port_rate  dst_host_srv_diff_host_rate  \\\n",
       "0                         0.17                          0.0   \n",
       "1                         0.88                          0.0   \n",
       "2                         0.00                          0.0   \n",
       "\n",
       "   dst_host_serror_rate  dst_host_srv_serror_rate  dst_host_rerror_rate  \\\n",
       "0                   0.0                       0.0                  0.05   \n",
       "1                   0.0                       0.0                  0.00   \n",
       "2                   1.0                       1.0                  0.00   \n",
       "\n",
       "   dst_host_srv_rerror_rate   attack  last_flag  \n",
       "0                       0.0   normal         20  \n",
       "1                       0.0   normal         15  \n",
       "2                       0.0  neptune         19  "
      ]
     },
     "execution_count": 5,
     "metadata": {},
     "output_type": "execute_result"
    }
   ],
   "source": [
    "# View train data\n",
    "dfkdd_train.head(3)"
   ]
  },
  {
   "cell_type": "code",
   "execution_count": 6,
   "metadata": {
    "colab": {
     "base_uri": "https://localhost:8080/"
    },
    "id": "zKR6wFIHpFwM",
    "outputId": "7f7d5363-d932-40a1-9697-9401e5d358fe"
   },
   "outputs": [
    {
     "data": {
      "text/plain": [
       "(125973, 43)"
      ]
     },
     "execution_count": 6,
     "metadata": {},
     "output_type": "execute_result"
    }
   ],
   "source": [
    "# train set dimension\n",
    "dfkdd_train.shape"
   ]
  },
  {
   "cell_type": "markdown",
   "metadata": {
    "id": "Fg4U_5W_pM2C"
   },
   "source": [
    "### Test Dataset"
   ]
  },
  {
   "cell_type": "code",
   "execution_count": 7,
   "metadata": {
    "colab": {
     "base_uri": "https://localhost:8080/",
     "height": 162
    },
    "id": "6An8LPFkpLVi",
    "outputId": "b18a2c15-dad1-46dd-98a4-268f260adc95"
   },
   "outputs": [
    {
     "data": {
      "text/html": [
       "<div>\n",
       "<style scoped>\n",
       "    .dataframe tbody tr th:only-of-type {\n",
       "        vertical-align: middle;\n",
       "    }\n",
       "\n",
       "    .dataframe tbody tr th {\n",
       "        vertical-align: top;\n",
       "    }\n",
       "\n",
       "    .dataframe thead th {\n",
       "        text-align: right;\n",
       "    }\n",
       "</style>\n",
       "<table border=\"1\" class=\"dataframe\">\n",
       "  <thead>\n",
       "    <tr style=\"text-align: right;\">\n",
       "      <th></th>\n",
       "      <th>duration</th>\n",
       "      <th>protocol_type</th>\n",
       "      <th>service</th>\n",
       "      <th>flag</th>\n",
       "      <th>src_bytes</th>\n",
       "      <th>dst_bytes</th>\n",
       "      <th>land</th>\n",
       "      <th>wrong_fragment</th>\n",
       "      <th>urgent</th>\n",
       "      <th>hot</th>\n",
       "      <th>num_failed_logins</th>\n",
       "      <th>logged_in</th>\n",
       "      <th>num_compromised</th>\n",
       "      <th>root_shell</th>\n",
       "      <th>su_attempted</th>\n",
       "      <th>num_root</th>\n",
       "      <th>num_file_creations</th>\n",
       "      <th>num_shells</th>\n",
       "      <th>num_access_files</th>\n",
       "      <th>num_outbound_cmds</th>\n",
       "      <th>is_host_login</th>\n",
       "      <th>is_guest_login</th>\n",
       "      <th>count</th>\n",
       "      <th>srv_count</th>\n",
       "      <th>serror_rate</th>\n",
       "      <th>srv_serror_rate</th>\n",
       "      <th>rerror_rate</th>\n",
       "      <th>srv_rerror_rate</th>\n",
       "      <th>same_srv_rate</th>\n",
       "      <th>diff_srv_rate</th>\n",
       "      <th>srv_diff_host_rate</th>\n",
       "      <th>dst_host_count</th>\n",
       "      <th>dst_host_srv_count</th>\n",
       "      <th>dst_host_same_srv_rate</th>\n",
       "      <th>dst_host_diff_srv_rate</th>\n",
       "      <th>dst_host_same_src_port_rate</th>\n",
       "      <th>dst_host_srv_diff_host_rate</th>\n",
       "      <th>dst_host_serror_rate</th>\n",
       "      <th>dst_host_srv_serror_rate</th>\n",
       "      <th>dst_host_rerror_rate</th>\n",
       "      <th>dst_host_srv_rerror_rate</th>\n",
       "      <th>attack</th>\n",
       "      <th>last_flag</th>\n",
       "    </tr>\n",
       "  </thead>\n",
       "  <tbody>\n",
       "    <tr>\n",
       "      <th>0</th>\n",
       "      <td>0</td>\n",
       "      <td>tcp</td>\n",
       "      <td>private</td>\n",
       "      <td>REJ</td>\n",
       "      <td>0</td>\n",
       "      <td>0</td>\n",
       "      <td>0</td>\n",
       "      <td>0</td>\n",
       "      <td>0</td>\n",
       "      <td>0</td>\n",
       "      <td>0</td>\n",
       "      <td>0</td>\n",
       "      <td>0</td>\n",
       "      <td>0</td>\n",
       "      <td>0</td>\n",
       "      <td>0</td>\n",
       "      <td>0</td>\n",
       "      <td>0</td>\n",
       "      <td>0</td>\n",
       "      <td>0</td>\n",
       "      <td>0</td>\n",
       "      <td>0</td>\n",
       "      <td>229</td>\n",
       "      <td>10</td>\n",
       "      <td>0.0</td>\n",
       "      <td>0.0</td>\n",
       "      <td>1.0</td>\n",
       "      <td>1.0</td>\n",
       "      <td>0.04</td>\n",
       "      <td>0.06</td>\n",
       "      <td>0.0</td>\n",
       "      <td>255</td>\n",
       "      <td>10</td>\n",
       "      <td>0.04</td>\n",
       "      <td>0.06</td>\n",
       "      <td>0.00</td>\n",
       "      <td>0.00</td>\n",
       "      <td>0.0</td>\n",
       "      <td>0.0</td>\n",
       "      <td>1.0</td>\n",
       "      <td>1.0</td>\n",
       "      <td>neptune</td>\n",
       "      <td>21</td>\n",
       "    </tr>\n",
       "    <tr>\n",
       "      <th>1</th>\n",
       "      <td>0</td>\n",
       "      <td>tcp</td>\n",
       "      <td>private</td>\n",
       "      <td>REJ</td>\n",
       "      <td>0</td>\n",
       "      <td>0</td>\n",
       "      <td>0</td>\n",
       "      <td>0</td>\n",
       "      <td>0</td>\n",
       "      <td>0</td>\n",
       "      <td>0</td>\n",
       "      <td>0</td>\n",
       "      <td>0</td>\n",
       "      <td>0</td>\n",
       "      <td>0</td>\n",
       "      <td>0</td>\n",
       "      <td>0</td>\n",
       "      <td>0</td>\n",
       "      <td>0</td>\n",
       "      <td>0</td>\n",
       "      <td>0</td>\n",
       "      <td>0</td>\n",
       "      <td>136</td>\n",
       "      <td>1</td>\n",
       "      <td>0.0</td>\n",
       "      <td>0.0</td>\n",
       "      <td>1.0</td>\n",
       "      <td>1.0</td>\n",
       "      <td>0.01</td>\n",
       "      <td>0.06</td>\n",
       "      <td>0.0</td>\n",
       "      <td>255</td>\n",
       "      <td>1</td>\n",
       "      <td>0.00</td>\n",
       "      <td>0.06</td>\n",
       "      <td>0.00</td>\n",
       "      <td>0.00</td>\n",
       "      <td>0.0</td>\n",
       "      <td>0.0</td>\n",
       "      <td>1.0</td>\n",
       "      <td>1.0</td>\n",
       "      <td>neptune</td>\n",
       "      <td>21</td>\n",
       "    </tr>\n",
       "    <tr>\n",
       "      <th>2</th>\n",
       "      <td>2</td>\n",
       "      <td>tcp</td>\n",
       "      <td>ftp_data</td>\n",
       "      <td>SF</td>\n",
       "      <td>12983</td>\n",
       "      <td>0</td>\n",
       "      <td>0</td>\n",
       "      <td>0</td>\n",
       "      <td>0</td>\n",
       "      <td>0</td>\n",
       "      <td>0</td>\n",
       "      <td>0</td>\n",
       "      <td>0</td>\n",
       "      <td>0</td>\n",
       "      <td>0</td>\n",
       "      <td>0</td>\n",
       "      <td>0</td>\n",
       "      <td>0</td>\n",
       "      <td>0</td>\n",
       "      <td>0</td>\n",
       "      <td>0</td>\n",
       "      <td>0</td>\n",
       "      <td>1</td>\n",
       "      <td>1</td>\n",
       "      <td>0.0</td>\n",
       "      <td>0.0</td>\n",
       "      <td>0.0</td>\n",
       "      <td>0.0</td>\n",
       "      <td>1.00</td>\n",
       "      <td>0.00</td>\n",
       "      <td>0.0</td>\n",
       "      <td>134</td>\n",
       "      <td>86</td>\n",
       "      <td>0.61</td>\n",
       "      <td>0.04</td>\n",
       "      <td>0.61</td>\n",
       "      <td>0.02</td>\n",
       "      <td>0.0</td>\n",
       "      <td>0.0</td>\n",
       "      <td>0.0</td>\n",
       "      <td>0.0</td>\n",
       "      <td>normal</td>\n",
       "      <td>21</td>\n",
       "    </tr>\n",
       "  </tbody>\n",
       "</table>\n",
       "</div>"
      ],
      "text/plain": [
       "   duration protocol_type   service flag  src_bytes  dst_bytes  land  \\\n",
       "0         0           tcp   private  REJ          0          0     0   \n",
       "1         0           tcp   private  REJ          0          0     0   \n",
       "2         2           tcp  ftp_data   SF      12983          0     0   \n",
       "\n",
       "   wrong_fragment  urgent  hot  num_failed_logins  logged_in  num_compromised  \\\n",
       "0               0       0    0                  0          0                0   \n",
       "1               0       0    0                  0          0                0   \n",
       "2               0       0    0                  0          0                0   \n",
       "\n",
       "   root_shell  su_attempted  num_root  num_file_creations  num_shells  \\\n",
       "0           0             0         0                   0           0   \n",
       "1           0             0         0                   0           0   \n",
       "2           0             0         0                   0           0   \n",
       "\n",
       "   num_access_files  num_outbound_cmds  is_host_login  is_guest_login  count  \\\n",
       "0                 0                  0              0               0    229   \n",
       "1                 0                  0              0               0    136   \n",
       "2                 0                  0              0               0      1   \n",
       "\n",
       "   srv_count  serror_rate  srv_serror_rate  rerror_rate  srv_rerror_rate  \\\n",
       "0         10          0.0              0.0          1.0              1.0   \n",
       "1          1          0.0              0.0          1.0              1.0   \n",
       "2          1          0.0              0.0          0.0              0.0   \n",
       "\n",
       "   same_srv_rate  diff_srv_rate  srv_diff_host_rate  dst_host_count  \\\n",
       "0           0.04           0.06                 0.0             255   \n",
       "1           0.01           0.06                 0.0             255   \n",
       "2           1.00           0.00                 0.0             134   \n",
       "\n",
       "   dst_host_srv_count  dst_host_same_srv_rate  dst_host_diff_srv_rate  \\\n",
       "0                  10                    0.04                    0.06   \n",
       "1                   1                    0.00                    0.06   \n",
       "2                  86                    0.61                    0.04   \n",
       "\n",
       "   dst_host_same_src_port_rate  dst_host_srv_diff_host_rate  \\\n",
       "0                         0.00                         0.00   \n",
       "1                         0.00                         0.00   \n",
       "2                         0.61                         0.02   \n",
       "\n",
       "   dst_host_serror_rate  dst_host_srv_serror_rate  dst_host_rerror_rate  \\\n",
       "0                   0.0                       0.0                   1.0   \n",
       "1                   0.0                       0.0                   1.0   \n",
       "2                   0.0                       0.0                   0.0   \n",
       "\n",
       "   dst_host_srv_rerror_rate   attack  last_flag  \n",
       "0                       1.0  neptune         21  \n",
       "1                       1.0  neptune         21  \n",
       "2                       0.0   normal         21  "
      ]
     },
     "execution_count": 7,
     "metadata": {},
     "output_type": "execute_result"
    }
   ],
   "source": [
    "# View test data\n",
    "dfkdd_test.head(3)"
   ]
  },
  {
   "cell_type": "code",
   "execution_count": 8,
   "metadata": {
    "colab": {
     "base_uri": "https://localhost:8080/"
    },
    "id": "AiBF_mpApqe1",
    "outputId": "859ac576-dd0b-465e-9591-77b253035104"
   },
   "outputs": [
    {
     "data": {
      "text/plain": [
       "(22544, 43)"
      ]
     },
     "execution_count": 8,
     "metadata": {},
     "output_type": "execute_result"
    }
   ],
   "source": [
    "# test set dimension\n",
    "dfkdd_test.shape"
   ]
  },
  {
   "cell_type": "markdown",
   "metadata": {
    "id": "HlXVA_T5qRZX"
   },
   "source": [
    "# Data Preprocessing"
   ]
  },
  {
   "cell_type": "markdown",
   "metadata": {
    "id": "1YrLZUscpyXm"
   },
   "source": [
    "## Mapping attack field to attack class"
   ]
  },
  {
   "cell_type": "code",
   "execution_count": 9,
   "metadata": {
    "id": "jXZcCfQzpqbr"
   },
   "outputs": [],
   "source": [
    "mapping = {'ipsweep': 'Probe','satan': 'Probe','nmap': 'Probe','portsweep': 'Probe','saint': 'Probe','mscan': 'Probe',\n",
    "        'teardrop': 'DoS','pod': 'DoS','land': 'DoS','back': 'DoS','neptune': 'DoS','smurf': 'DoS','mailbomb': 'DoS',\n",
    "        'udpstorm': 'DoS','apache2': 'DoS','processtable': 'DoS',\n",
    "        'perl': 'U2R','loadmodule': 'U2R','rootkit': 'U2R','buffer_overflow': 'U2R','xterm': 'U2R','ps': 'U2R',\n",
    "        'sqlattack': 'U2R','httptunnel': 'U2R',\n",
    "        'ftp_write': 'R2L','phf': 'R2L','guess_passwd': 'R2L','warezmaster': 'R2L','warezclient': 'R2L','imap': 'R2L',\n",
    "        'spy': 'R2L','multihop': 'R2L','named': 'R2L','snmpguess': 'R2L','worm': 'R2L','snmpgetattack': 'R2L',\n",
    "        'xsnoop': 'R2L','xlock': 'R2L','sendmail': 'R2L',\n",
    "        'normal': 'Normal'\n",
    "        }"
   ]
  },
  {
   "cell_type": "code",
   "execution_count": 10,
   "metadata": {
    "id": "4BaobGMkpqXw"
   },
   "outputs": [],
   "source": [
    "# Apply attack class mappings to the dataset\n",
    "dfkdd_train['attack_class'] = dfkdd_train['attack'].apply(lambda v: mapping[v])\n",
    "dfkdd_test['attack_class'] = dfkdd_test['attack'].apply(lambda v: mapping[v])"
   ]
  },
  {
   "cell_type": "code",
   "execution_count": 11,
   "metadata": {},
   "outputs": [
    {
     "data": {
      "text/plain": [
       "array(['Normal', 'DoS', 'R2L', 'Probe', 'U2R'], dtype=object)"
      ]
     },
     "execution_count": 11,
     "metadata": {},
     "output_type": "execute_result"
    }
   ],
   "source": [
    "dfkdd_train['attack_class'].unique()"
   ]
  },
  {
   "cell_type": "code",
   "execution_count": 12,
   "metadata": {
    "id": "Vhe0RvkEpqSA"
   },
   "outputs": [],
   "source": [
    "# Tweak the activity column for bibary classification \n",
    "dfkdd_train['activity'] = dfkdd_train['attack'].apply(lambda x: 'Normal' if x=='normal' else 'Attack')\n",
    "dfkdd_test['activity'] = dfkdd_test['attack'].apply(lambda x: 'Normal' if x=='normal' else 'Attack')"
   ]
  },
  {
   "cell_type": "code",
   "execution_count": 13,
   "metadata": {},
   "outputs": [],
   "source": [
    "# Drop attack field from both train and test data\n",
    "dfkdd_train.drop(['attack'], axis=1, inplace=True)\n",
    "dfkdd_test.drop(['attack'], axis=1, inplace=True)"
   ]
  },
  {
   "cell_type": "code",
   "execution_count": 14,
   "metadata": {
    "colab": {
     "base_uri": "https://localhost:8080/",
     "height": 162
    },
    "id": "ErN3MuJYpqEx",
    "outputId": "8d50a85c-bac0-43ac-edf8-14eebf5d6a8a"
   },
   "outputs": [
    {
     "data": {
      "text/html": [
       "<div>\n",
       "<style scoped>\n",
       "    .dataframe tbody tr th:only-of-type {\n",
       "        vertical-align: middle;\n",
       "    }\n",
       "\n",
       "    .dataframe tbody tr th {\n",
       "        vertical-align: top;\n",
       "    }\n",
       "\n",
       "    .dataframe thead th {\n",
       "        text-align: right;\n",
       "    }\n",
       "</style>\n",
       "<table border=\"1\" class=\"dataframe\">\n",
       "  <thead>\n",
       "    <tr style=\"text-align: right;\">\n",
       "      <th></th>\n",
       "      <th>duration</th>\n",
       "      <th>protocol_type</th>\n",
       "      <th>service</th>\n",
       "      <th>flag</th>\n",
       "      <th>src_bytes</th>\n",
       "      <th>dst_bytes</th>\n",
       "      <th>land</th>\n",
       "      <th>wrong_fragment</th>\n",
       "      <th>urgent</th>\n",
       "      <th>hot</th>\n",
       "      <th>num_failed_logins</th>\n",
       "      <th>logged_in</th>\n",
       "      <th>num_compromised</th>\n",
       "      <th>root_shell</th>\n",
       "      <th>su_attempted</th>\n",
       "      <th>num_root</th>\n",
       "      <th>num_file_creations</th>\n",
       "      <th>num_shells</th>\n",
       "      <th>num_access_files</th>\n",
       "      <th>num_outbound_cmds</th>\n",
       "      <th>is_host_login</th>\n",
       "      <th>is_guest_login</th>\n",
       "      <th>count</th>\n",
       "      <th>srv_count</th>\n",
       "      <th>serror_rate</th>\n",
       "      <th>srv_serror_rate</th>\n",
       "      <th>rerror_rate</th>\n",
       "      <th>srv_rerror_rate</th>\n",
       "      <th>same_srv_rate</th>\n",
       "      <th>diff_srv_rate</th>\n",
       "      <th>srv_diff_host_rate</th>\n",
       "      <th>dst_host_count</th>\n",
       "      <th>dst_host_srv_count</th>\n",
       "      <th>dst_host_same_srv_rate</th>\n",
       "      <th>dst_host_diff_srv_rate</th>\n",
       "      <th>dst_host_same_src_port_rate</th>\n",
       "      <th>dst_host_srv_diff_host_rate</th>\n",
       "      <th>dst_host_serror_rate</th>\n",
       "      <th>dst_host_srv_serror_rate</th>\n",
       "      <th>dst_host_rerror_rate</th>\n",
       "      <th>dst_host_srv_rerror_rate</th>\n",
       "      <th>last_flag</th>\n",
       "      <th>attack_class</th>\n",
       "      <th>activity</th>\n",
       "    </tr>\n",
       "  </thead>\n",
       "  <tbody>\n",
       "    <tr>\n",
       "      <th>0</th>\n",
       "      <td>0</td>\n",
       "      <td>tcp</td>\n",
       "      <td>ftp_data</td>\n",
       "      <td>SF</td>\n",
       "      <td>491</td>\n",
       "      <td>0</td>\n",
       "      <td>0</td>\n",
       "      <td>0</td>\n",
       "      <td>0</td>\n",
       "      <td>0</td>\n",
       "      <td>0</td>\n",
       "      <td>0</td>\n",
       "      <td>0</td>\n",
       "      <td>0</td>\n",
       "      <td>0</td>\n",
       "      <td>0</td>\n",
       "      <td>0</td>\n",
       "      <td>0</td>\n",
       "      <td>0</td>\n",
       "      <td>0</td>\n",
       "      <td>0</td>\n",
       "      <td>0</td>\n",
       "      <td>2</td>\n",
       "      <td>2</td>\n",
       "      <td>0.0</td>\n",
       "      <td>0.0</td>\n",
       "      <td>0.0</td>\n",
       "      <td>0.0</td>\n",
       "      <td>1.00</td>\n",
       "      <td>0.00</td>\n",
       "      <td>0.0</td>\n",
       "      <td>150</td>\n",
       "      <td>25</td>\n",
       "      <td>0.17</td>\n",
       "      <td>0.03</td>\n",
       "      <td>0.17</td>\n",
       "      <td>0.0</td>\n",
       "      <td>0.0</td>\n",
       "      <td>0.0</td>\n",
       "      <td>0.05</td>\n",
       "      <td>0.0</td>\n",
       "      <td>20</td>\n",
       "      <td>Normal</td>\n",
       "      <td>Normal</td>\n",
       "    </tr>\n",
       "    <tr>\n",
       "      <th>1</th>\n",
       "      <td>0</td>\n",
       "      <td>udp</td>\n",
       "      <td>other</td>\n",
       "      <td>SF</td>\n",
       "      <td>146</td>\n",
       "      <td>0</td>\n",
       "      <td>0</td>\n",
       "      <td>0</td>\n",
       "      <td>0</td>\n",
       "      <td>0</td>\n",
       "      <td>0</td>\n",
       "      <td>0</td>\n",
       "      <td>0</td>\n",
       "      <td>0</td>\n",
       "      <td>0</td>\n",
       "      <td>0</td>\n",
       "      <td>0</td>\n",
       "      <td>0</td>\n",
       "      <td>0</td>\n",
       "      <td>0</td>\n",
       "      <td>0</td>\n",
       "      <td>0</td>\n",
       "      <td>13</td>\n",
       "      <td>1</td>\n",
       "      <td>0.0</td>\n",
       "      <td>0.0</td>\n",
       "      <td>0.0</td>\n",
       "      <td>0.0</td>\n",
       "      <td>0.08</td>\n",
       "      <td>0.15</td>\n",
       "      <td>0.0</td>\n",
       "      <td>255</td>\n",
       "      <td>1</td>\n",
       "      <td>0.00</td>\n",
       "      <td>0.60</td>\n",
       "      <td>0.88</td>\n",
       "      <td>0.0</td>\n",
       "      <td>0.0</td>\n",
       "      <td>0.0</td>\n",
       "      <td>0.00</td>\n",
       "      <td>0.0</td>\n",
       "      <td>15</td>\n",
       "      <td>Normal</td>\n",
       "      <td>Normal</td>\n",
       "    </tr>\n",
       "    <tr>\n",
       "      <th>2</th>\n",
       "      <td>0</td>\n",
       "      <td>tcp</td>\n",
       "      <td>private</td>\n",
       "      <td>S0</td>\n",
       "      <td>0</td>\n",
       "      <td>0</td>\n",
       "      <td>0</td>\n",
       "      <td>0</td>\n",
       "      <td>0</td>\n",
       "      <td>0</td>\n",
       "      <td>0</td>\n",
       "      <td>0</td>\n",
       "      <td>0</td>\n",
       "      <td>0</td>\n",
       "      <td>0</td>\n",
       "      <td>0</td>\n",
       "      <td>0</td>\n",
       "      <td>0</td>\n",
       "      <td>0</td>\n",
       "      <td>0</td>\n",
       "      <td>0</td>\n",
       "      <td>0</td>\n",
       "      <td>123</td>\n",
       "      <td>6</td>\n",
       "      <td>1.0</td>\n",
       "      <td>1.0</td>\n",
       "      <td>0.0</td>\n",
       "      <td>0.0</td>\n",
       "      <td>0.05</td>\n",
       "      <td>0.07</td>\n",
       "      <td>0.0</td>\n",
       "      <td>255</td>\n",
       "      <td>26</td>\n",
       "      <td>0.10</td>\n",
       "      <td>0.05</td>\n",
       "      <td>0.00</td>\n",
       "      <td>0.0</td>\n",
       "      <td>1.0</td>\n",
       "      <td>1.0</td>\n",
       "      <td>0.00</td>\n",
       "      <td>0.0</td>\n",
       "      <td>19</td>\n",
       "      <td>DoS</td>\n",
       "      <td>Attack</td>\n",
       "    </tr>\n",
       "  </tbody>\n",
       "</table>\n",
       "</div>"
      ],
      "text/plain": [
       "   duration protocol_type   service flag  src_bytes  dst_bytes  land  \\\n",
       "0         0           tcp  ftp_data   SF        491          0     0   \n",
       "1         0           udp     other   SF        146          0     0   \n",
       "2         0           tcp   private   S0          0          0     0   \n",
       "\n",
       "   wrong_fragment  urgent  hot  num_failed_logins  logged_in  num_compromised  \\\n",
       "0               0       0    0                  0          0                0   \n",
       "1               0       0    0                  0          0                0   \n",
       "2               0       0    0                  0          0                0   \n",
       "\n",
       "   root_shell  su_attempted  num_root  num_file_creations  num_shells  \\\n",
       "0           0             0         0                   0           0   \n",
       "1           0             0         0                   0           0   \n",
       "2           0             0         0                   0           0   \n",
       "\n",
       "   num_access_files  num_outbound_cmds  is_host_login  is_guest_login  count  \\\n",
       "0                 0                  0              0               0      2   \n",
       "1                 0                  0              0               0     13   \n",
       "2                 0                  0              0               0    123   \n",
       "\n",
       "   srv_count  serror_rate  srv_serror_rate  rerror_rate  srv_rerror_rate  \\\n",
       "0          2          0.0              0.0          0.0              0.0   \n",
       "1          1          0.0              0.0          0.0              0.0   \n",
       "2          6          1.0              1.0          0.0              0.0   \n",
       "\n",
       "   same_srv_rate  diff_srv_rate  srv_diff_host_rate  dst_host_count  \\\n",
       "0           1.00           0.00                 0.0             150   \n",
       "1           0.08           0.15                 0.0             255   \n",
       "2           0.05           0.07                 0.0             255   \n",
       "\n",
       "   dst_host_srv_count  dst_host_same_srv_rate  dst_host_diff_srv_rate  \\\n",
       "0                  25                    0.17                    0.03   \n",
       "1                   1                    0.00                    0.60   \n",
       "2                  26                    0.10                    0.05   \n",
       "\n",
       "   dst_host_same_src_port_rate  dst_host_srv_diff_host_rate  \\\n",
       "0                         0.17                          0.0   \n",
       "1                         0.88                          0.0   \n",
       "2                         0.00                          0.0   \n",
       "\n",
       "   dst_host_serror_rate  dst_host_srv_serror_rate  dst_host_rerror_rate  \\\n",
       "0                   0.0                       0.0                  0.05   \n",
       "1                   0.0                       0.0                  0.00   \n",
       "2                   1.0                       1.0                  0.00   \n",
       "\n",
       "   dst_host_srv_rerror_rate  last_flag attack_class activity  \n",
       "0                       0.0         20       Normal   Normal  \n",
       "1                       0.0         15       Normal   Normal  \n",
       "2                       0.0         19          DoS   Attack  "
      ]
     },
     "execution_count": 14,
     "metadata": {},
     "output_type": "execute_result"
    }
   ],
   "source": [
    "# View top 3 train data \n",
    "dfkdd_train.head(3)"
   ]
  },
  {
   "cell_type": "markdown",
   "metadata": {},
   "source": [
    "### A quick review of the different labels before proceeding"
   ]
  },
  {
   "cell_type": "code",
   "execution_count": 15,
   "metadata": {
    "scrolled": false
   },
   "outputs": [
    {
     "data": {
      "text/html": [
       "<style type=\"text/css\">\n",
       "#T_5d728_ thead tr th:nth-child(1) {\n",
       "  position: sticky;\n",
       "  background-color: white;\n",
       "  left: 0px;\n",
       "  z-index: 3 !important;\n",
       "}\n",
       "#T_5d728_ tbody tr th:nth-child(1) {\n",
       "  position: sticky;\n",
       "  background-color: white;\n",
       "  left: 0px;\n",
       "  z-index: 1;\n",
       "}\n",
       "</style>\n",
       "<table id=\"T_5d728_\">\n",
       "  <thead>\n",
       "    <tr>\n",
       "      <th class=\"blank level0\" >&nbsp;</th>\n",
       "      <th class=\"col_heading level0 col0\" >duration</th>\n",
       "      <th class=\"col_heading level0 col1\" >src_bytes</th>\n",
       "      <th class=\"col_heading level0 col2\" >dst_bytes</th>\n",
       "      <th class=\"col_heading level0 col3\" >land</th>\n",
       "      <th class=\"col_heading level0 col4\" >wrong_fragment</th>\n",
       "      <th class=\"col_heading level0 col5\" >urgent</th>\n",
       "      <th class=\"col_heading level0 col6\" >hot</th>\n",
       "      <th class=\"col_heading level0 col7\" >num_failed_logins</th>\n",
       "      <th class=\"col_heading level0 col8\" >logged_in</th>\n",
       "      <th class=\"col_heading level0 col9\" >num_compromised</th>\n",
       "      <th class=\"col_heading level0 col10\" >root_shell</th>\n",
       "      <th class=\"col_heading level0 col11\" >su_attempted</th>\n",
       "      <th class=\"col_heading level0 col12\" >num_root</th>\n",
       "      <th class=\"col_heading level0 col13\" >num_file_creations</th>\n",
       "      <th class=\"col_heading level0 col14\" >num_shells</th>\n",
       "      <th class=\"col_heading level0 col15\" >num_access_files</th>\n",
       "      <th class=\"col_heading level0 col16\" >num_outbound_cmds</th>\n",
       "      <th class=\"col_heading level0 col17\" >is_host_login</th>\n",
       "      <th class=\"col_heading level0 col18\" >is_guest_login</th>\n",
       "      <th class=\"col_heading level0 col19\" >count</th>\n",
       "      <th class=\"col_heading level0 col20\" >srv_count</th>\n",
       "      <th class=\"col_heading level0 col21\" >serror_rate</th>\n",
       "      <th class=\"col_heading level0 col22\" >srv_serror_rate</th>\n",
       "      <th class=\"col_heading level0 col23\" >rerror_rate</th>\n",
       "      <th class=\"col_heading level0 col24\" >srv_rerror_rate</th>\n",
       "      <th class=\"col_heading level0 col25\" >same_srv_rate</th>\n",
       "      <th class=\"col_heading level0 col26\" >diff_srv_rate</th>\n",
       "      <th class=\"col_heading level0 col27\" >srv_diff_host_rate</th>\n",
       "      <th class=\"col_heading level0 col28\" >dst_host_count</th>\n",
       "      <th class=\"col_heading level0 col29\" >dst_host_srv_count</th>\n",
       "      <th class=\"col_heading level0 col30\" >dst_host_same_srv_rate</th>\n",
       "      <th class=\"col_heading level0 col31\" >dst_host_diff_srv_rate</th>\n",
       "      <th class=\"col_heading level0 col32\" >dst_host_same_src_port_rate</th>\n",
       "      <th class=\"col_heading level0 col33\" >dst_host_srv_diff_host_rate</th>\n",
       "      <th class=\"col_heading level0 col34\" >dst_host_serror_rate</th>\n",
       "      <th class=\"col_heading level0 col35\" >dst_host_srv_serror_rate</th>\n",
       "      <th class=\"col_heading level0 col36\" >dst_host_rerror_rate</th>\n",
       "      <th class=\"col_heading level0 col37\" >dst_host_srv_rerror_rate</th>\n",
       "      <th class=\"col_heading level0 col38\" >last_flag</th>\n",
       "    </tr>\n",
       "    <tr>\n",
       "      <th class=\"index_name level0\" >activity</th>\n",
       "      <th class=\"blank col0\" >&nbsp;</th>\n",
       "      <th class=\"blank col1\" >&nbsp;</th>\n",
       "      <th class=\"blank col2\" >&nbsp;</th>\n",
       "      <th class=\"blank col3\" >&nbsp;</th>\n",
       "      <th class=\"blank col4\" >&nbsp;</th>\n",
       "      <th class=\"blank col5\" >&nbsp;</th>\n",
       "      <th class=\"blank col6\" >&nbsp;</th>\n",
       "      <th class=\"blank col7\" >&nbsp;</th>\n",
       "      <th class=\"blank col8\" >&nbsp;</th>\n",
       "      <th class=\"blank col9\" >&nbsp;</th>\n",
       "      <th class=\"blank col10\" >&nbsp;</th>\n",
       "      <th class=\"blank col11\" >&nbsp;</th>\n",
       "      <th class=\"blank col12\" >&nbsp;</th>\n",
       "      <th class=\"blank col13\" >&nbsp;</th>\n",
       "      <th class=\"blank col14\" >&nbsp;</th>\n",
       "      <th class=\"blank col15\" >&nbsp;</th>\n",
       "      <th class=\"blank col16\" >&nbsp;</th>\n",
       "      <th class=\"blank col17\" >&nbsp;</th>\n",
       "      <th class=\"blank col18\" >&nbsp;</th>\n",
       "      <th class=\"blank col19\" >&nbsp;</th>\n",
       "      <th class=\"blank col20\" >&nbsp;</th>\n",
       "      <th class=\"blank col21\" >&nbsp;</th>\n",
       "      <th class=\"blank col22\" >&nbsp;</th>\n",
       "      <th class=\"blank col23\" >&nbsp;</th>\n",
       "      <th class=\"blank col24\" >&nbsp;</th>\n",
       "      <th class=\"blank col25\" >&nbsp;</th>\n",
       "      <th class=\"blank col26\" >&nbsp;</th>\n",
       "      <th class=\"blank col27\" >&nbsp;</th>\n",
       "      <th class=\"blank col28\" >&nbsp;</th>\n",
       "      <th class=\"blank col29\" >&nbsp;</th>\n",
       "      <th class=\"blank col30\" >&nbsp;</th>\n",
       "      <th class=\"blank col31\" >&nbsp;</th>\n",
       "      <th class=\"blank col32\" >&nbsp;</th>\n",
       "      <th class=\"blank col33\" >&nbsp;</th>\n",
       "      <th class=\"blank col34\" >&nbsp;</th>\n",
       "      <th class=\"blank col35\" >&nbsp;</th>\n",
       "      <th class=\"blank col36\" >&nbsp;</th>\n",
       "      <th class=\"blank col37\" >&nbsp;</th>\n",
       "      <th class=\"blank col38\" >&nbsp;</th>\n",
       "    </tr>\n",
       "  </thead>\n",
       "  <tbody>\n",
       "    <tr>\n",
       "      <th id=\"T_5d728_level0_row0\" class=\"row_heading level0 row0\" >Attack</th>\n",
       "      <td id=\"T_5d728_row0_col0\" class=\"data row0 col0\" >423.320689</td>\n",
       "      <td id=\"T_5d728_row0_col1\" class=\"data row0 col1\" >82820.141327</td>\n",
       "      <td id=\"T_5d728_row0_col2\" class=\"data row0 col2\" >37524.482159</td>\n",
       "      <td id=\"T_5d728_row0_col3\" class=\"data row0 col3\" >0.000307</td>\n",
       "      <td id=\"T_5d728_row0_col4\" class=\"data row0 col4\" >0.048746</td>\n",
       "      <td id=\"T_5d728_row0_col5\" class=\"data row0 col5\" >0.000068</td>\n",
       "      <td id=\"T_5d728_row0_col6\" class=\"data row0 col6\" >0.174262</td>\n",
       "      <td id=\"T_5d728_row0_col7\" class=\"data row0 col7\" >0.001040</td>\n",
       "      <td id=\"T_5d728_row0_col8\" class=\"data row0 col8\" >0.034027</td>\n",
       "      <td id=\"T_5d728_row0_col9\" class=\"data row0 col9\" >0.017568</td>\n",
       "      <td id=\"T_5d728_row0_col10\" class=\"data row0 col10\" >0.000546</td>\n",
       "      <td id=\"T_5d728_row0_col11\" class=\"data row0 col11\" >0.000017</td>\n",
       "      <td id=\"T_5d728_row0_col12\" class=\"data row0 col12\" >0.002712</td>\n",
       "      <td id=\"T_5d728_row0_col13\" class=\"data row0 col13\" >0.001637</td>\n",
       "      <td id=\"T_5d728_row0_col14\" class=\"data row0 col14\" >0.000188</td>\n",
       "      <td id=\"T_5d728_row0_col15\" class=\"data row0 col15\" >0.000188</td>\n",
       "      <td id=\"T_5d728_row0_col16\" class=\"data row0 col16\" >0.000000</td>\n",
       "      <td id=\"T_5d728_row0_col17\" class=\"data row0 col17\" >0.000000</td>\n",
       "      <td id=\"T_5d728_row0_col18\" class=\"data row0 col18\" >0.005356</td>\n",
       "      <td id=\"T_5d728_row0_col19\" class=\"data row0 col19\" >154.849991</td>\n",
       "      <td id=\"T_5d728_row0_col20\" class=\"data row0 col20\" >27.797885</td>\n",
       "      <td id=\"T_5d728_row0_col21\" class=\"data row0 col21\" >0.595808</td>\n",
       "      <td id=\"T_5d728_row0_col22\" class=\"data row0 col22\" >0.593072</td>\n",
       "      <td id=\"T_5d728_row0_col23\" class=\"data row0 col23\" >0.206980</td>\n",
       "      <td id=\"T_5d728_row0_col24\" class=\"data row0 col24\" >0.209114</td>\n",
       "      <td id=\"T_5d728_row0_col25\" class=\"data row0 col25\" >0.306659</td>\n",
       "      <td id=\"T_5d728_row0_col26\" class=\"data row0 col26\" >0.102410</td>\n",
       "      <td id=\"T_5d728_row0_col27\" class=\"data row0 col27\" >0.064079</td>\n",
       "      <td id=\"T_5d728_row0_col28\" class=\"data row0 col28\" >222.025260</td>\n",
       "      <td id=\"T_5d728_row0_col29\" class=\"data row0 col29\" >29.929081</td>\n",
       "      <td id=\"T_5d728_row0_col30\" class=\"data row0 col30\" >0.187417</td>\n",
       "      <td id=\"T_5d728_row0_col31\" class=\"data row0 col31\" >0.132131</td>\n",
       "      <td id=\"T_5d728_row0_col32\" class=\"data row0 col32\" >0.178993</td>\n",
       "      <td id=\"T_5d728_row0_col33\" class=\"data row0 col33\" >0.040062</td>\n",
       "      <td id=\"T_5d728_row0_col34\" class=\"data row0 col34\" >0.595177</td>\n",
       "      <td id=\"T_5d728_row0_col35\" class=\"data row0 col35\" >0.591329</td>\n",
       "      <td id=\"T_5d728_row0_col36\" class=\"data row0 col36\" >0.201810</td>\n",
       "      <td id=\"T_5d728_row0_col37\" class=\"data row0 col37\" >0.207008</td>\n",
       "      <td id=\"T_5d728_row0_col38\" class=\"data row0 col38\" >18.571550</td>\n",
       "    </tr>\n",
       "    <tr>\n",
       "      <th id=\"T_5d728_level0_row1\" class=\"row_heading level0 row1\" >Normal</th>\n",
       "      <td id=\"T_5d728_row1_col0\" class=\"data row1 col0\" >168.587396</td>\n",
       "      <td id=\"T_5d728_row1_col1\" class=\"data row1 col1\" >13133.279331</td>\n",
       "      <td id=\"T_5d728_row1_col2\" class=\"data row1 col2\" >4329.685223</td>\n",
       "      <td id=\"T_5d728_row1_col3\" class=\"data row1 col3\" >0.000104</td>\n",
       "      <td id=\"T_5d728_row1_col4\" class=\"data row1 col4\" >0.000000</td>\n",
       "      <td id=\"T_5d728_row1_col5\" class=\"data row1 col5\" >0.000148</td>\n",
       "      <td id=\"T_5d728_row1_col6\" class=\"data row1 col6\" >0.230655</td>\n",
       "      <td id=\"T_5d728_row1_col7\" class=\"data row1 col7\" >0.001381</td>\n",
       "      <td id=\"T_5d728_row1_col8\" class=\"data row1 col8\" >0.710646</td>\n",
       "      <td id=\"T_5d728_row1_col9\" class=\"data row1 col9\" >0.507076</td>\n",
       "      <td id=\"T_5d728_row1_col10\" class=\"data row1 col10\" >0.002034</td>\n",
       "      <td id=\"T_5d728_row1_col11\" class=\"data row1 col11\" >0.002049</td>\n",
       "      <td id=\"T_5d728_row1_col12\" class=\"data row1 col12\" >0.562924</td>\n",
       "      <td id=\"T_5d728_row1_col13\" class=\"data row1 col13\" >0.022274</td>\n",
       "      <td id=\"T_5d728_row1_col14\" class=\"data row1 col14\" >0.000609</td>\n",
       "      <td id=\"T_5d728_row1_col15\" class=\"data row1 col15\" >0.007499</td>\n",
       "      <td id=\"T_5d728_row1_col16\" class=\"data row1 col16\" >0.000000</td>\n",
       "      <td id=\"T_5d728_row1_col17\" class=\"data row1 col17\" >0.000015</td>\n",
       "      <td id=\"T_5d728_row1_col18\" class=\"data row1 col18\" >0.012963</td>\n",
       "      <td id=\"T_5d728_row1_col19\" class=\"data row1 col19\" >22.517945</td>\n",
       "      <td id=\"T_5d728_row1_col20\" class=\"data row1 col20\" >27.685654</td>\n",
       "      <td id=\"T_5d728_row1_col21\" class=\"data row1 col21\" >0.013441</td>\n",
       "      <td id=\"T_5d728_row1_col22\" class=\"data row1 col22\" >0.012083</td>\n",
       "      <td id=\"T_5d728_row1_col23\" class=\"data row1 col23\" >0.044196</td>\n",
       "      <td id=\"T_5d728_row1_col24\" class=\"data row1 col24\" >0.044629</td>\n",
       "      <td id=\"T_5d728_row1_col25\" class=\"data row1 col25\" >0.969360</td>\n",
       "      <td id=\"T_5d728_row1_col26\" class=\"data row1 col26\" >0.028788</td>\n",
       "      <td id=\"T_5d728_row1_col27\" class=\"data row1 col27\" >0.126263</td>\n",
       "      <td id=\"T_5d728_row1_col28\" class=\"data row1 col28\" >147.431923</td>\n",
       "      <td id=\"T_5d728_row1_col29\" class=\"data row1 col29\" >190.285761</td>\n",
       "      <td id=\"T_5d728_row1_col30\" class=\"data row1 col30\" >0.811875</td>\n",
       "      <td id=\"T_5d728_row1_col31\" class=\"data row1 col31\" >0.040134</td>\n",
       "      <td id=\"T_5d728_row1_col32\" class=\"data row1 col32\" >0.121726</td>\n",
       "      <td id=\"T_5d728_row1_col33\" class=\"data row1 col33\" >0.025996</td>\n",
       "      <td id=\"T_5d728_row1_col34\" class=\"data row1 col34\" >0.013930</td>\n",
       "      <td id=\"T_5d728_row1_col35\" class=\"data row1 col35\" >0.006116</td>\n",
       "      <td id=\"T_5d728_row1_col36\" class=\"data row1 col36\" >0.046589</td>\n",
       "      <td id=\"T_5d728_row1_col37\" class=\"data row1 col37\" >0.044698</td>\n",
       "      <td id=\"T_5d728_row1_col38\" class=\"data row1 col38\" >20.315920</td>\n",
       "    </tr>\n",
       "  </tbody>\n",
       "</table>\n"
      ],
      "text/plain": [
       "<pandas.io.formats.style.Styler at 0x1db95e5e5b0>"
      ]
     },
     "execution_count": 15,
     "metadata": {},
     "output_type": "execute_result"
    }
   ],
   "source": [
    "num = dfkdd_train.select_dtypes(include='number').columns\n",
    "#dfkdd_train.groupby('activity')[num].agg(['min', 'median', 'mean', 'max']).style.set_sticky(axis='index')\n",
    "dfkdd_train.groupby('activity')[num].mean().style.set_sticky(axis='index')"
   ]
  },
  {
   "cell_type": "markdown",
   "metadata": {},
   "source": [
    "#### The distinction between 'Attack' & 'Normal' here seems pretty straight forward, adapting a simple linear model might be a good starting point"
   ]
  },
  {
   "cell_type": "code",
   "execution_count": 16,
   "metadata": {
    "scrolled": true
   },
   "outputs": [
    {
     "name": "stdout",
     "output_type": "stream",
     "text": [
      "\n",
      "--------------- PERENTAGE DISTRIBUTION OF ATTACK CLASS ---------------\n",
      "\n"
     ]
    },
    {
     "data": {
      "text/plain": [
       "Normal    53.458281\n",
       "DoS       36.457812\n",
       "Probe      9.252776\n",
       "R2L        0.789852\n",
       "U2R        0.041279\n",
       "Name: attack_class, dtype: float64"
      ]
     },
     "execution_count": 16,
     "metadata": {},
     "output_type": "execute_result"
    }
   ],
   "source": [
    "print('\\n--------------- PERENTAGE DISTRIBUTION OF ATTACK CLASS ---------------\\n')\n",
    "dfkdd_train.attack_class.value_counts()*100/len(dfkdd_train)"
   ]
  },
  {
   "cell_type": "code",
   "execution_count": 17,
   "metadata": {
    "scrolled": true
   },
   "outputs": [
    {
     "data": {
      "text/html": [
       "<style type=\"text/css\">\n",
       "#T_46325_ thead tr th:nth-child(1) {\n",
       "  position: sticky;\n",
       "  background-color: white;\n",
       "  left: 0px;\n",
       "  z-index: 3 !important;\n",
       "}\n",
       "#T_46325_ tbody tr th:nth-child(1) {\n",
       "  position: sticky;\n",
       "  background-color: white;\n",
       "  left: 0px;\n",
       "  z-index: 1;\n",
       "}\n",
       "</style>\n",
       "<table id=\"T_46325_\">\n",
       "  <thead>\n",
       "    <tr>\n",
       "      <th class=\"blank level0\" >&nbsp;</th>\n",
       "      <th class=\"col_heading level0 col0\" >duration</th>\n",
       "      <th class=\"col_heading level0 col1\" >src_bytes</th>\n",
       "      <th class=\"col_heading level0 col2\" >dst_bytes</th>\n",
       "      <th class=\"col_heading level0 col3\" >land</th>\n",
       "      <th class=\"col_heading level0 col4\" >wrong_fragment</th>\n",
       "      <th class=\"col_heading level0 col5\" >urgent</th>\n",
       "      <th class=\"col_heading level0 col6\" >hot</th>\n",
       "      <th class=\"col_heading level0 col7\" >num_failed_logins</th>\n",
       "      <th class=\"col_heading level0 col8\" >logged_in</th>\n",
       "      <th class=\"col_heading level0 col9\" >num_compromised</th>\n",
       "      <th class=\"col_heading level0 col10\" >root_shell</th>\n",
       "      <th class=\"col_heading level0 col11\" >su_attempted</th>\n",
       "      <th class=\"col_heading level0 col12\" >num_root</th>\n",
       "      <th class=\"col_heading level0 col13\" >num_file_creations</th>\n",
       "      <th class=\"col_heading level0 col14\" >num_shells</th>\n",
       "      <th class=\"col_heading level0 col15\" >num_access_files</th>\n",
       "      <th class=\"col_heading level0 col16\" >num_outbound_cmds</th>\n",
       "      <th class=\"col_heading level0 col17\" >is_host_login</th>\n",
       "      <th class=\"col_heading level0 col18\" >is_guest_login</th>\n",
       "      <th class=\"col_heading level0 col19\" >count</th>\n",
       "      <th class=\"col_heading level0 col20\" >srv_count</th>\n",
       "      <th class=\"col_heading level0 col21\" >serror_rate</th>\n",
       "      <th class=\"col_heading level0 col22\" >srv_serror_rate</th>\n",
       "      <th class=\"col_heading level0 col23\" >rerror_rate</th>\n",
       "      <th class=\"col_heading level0 col24\" >srv_rerror_rate</th>\n",
       "      <th class=\"col_heading level0 col25\" >same_srv_rate</th>\n",
       "      <th class=\"col_heading level0 col26\" >diff_srv_rate</th>\n",
       "      <th class=\"col_heading level0 col27\" >srv_diff_host_rate</th>\n",
       "      <th class=\"col_heading level0 col28\" >dst_host_count</th>\n",
       "      <th class=\"col_heading level0 col29\" >dst_host_srv_count</th>\n",
       "      <th class=\"col_heading level0 col30\" >dst_host_same_srv_rate</th>\n",
       "      <th class=\"col_heading level0 col31\" >dst_host_diff_srv_rate</th>\n",
       "      <th class=\"col_heading level0 col32\" >dst_host_same_src_port_rate</th>\n",
       "      <th class=\"col_heading level0 col33\" >dst_host_srv_diff_host_rate</th>\n",
       "      <th class=\"col_heading level0 col34\" >dst_host_serror_rate</th>\n",
       "      <th class=\"col_heading level0 col35\" >dst_host_srv_serror_rate</th>\n",
       "      <th class=\"col_heading level0 col36\" >dst_host_rerror_rate</th>\n",
       "      <th class=\"col_heading level0 col37\" >dst_host_srv_rerror_rate</th>\n",
       "      <th class=\"col_heading level0 col38\" >last_flag</th>\n",
       "    </tr>\n",
       "    <tr>\n",
       "      <th class=\"index_name level0\" >attack_class</th>\n",
       "      <th class=\"blank col0\" >&nbsp;</th>\n",
       "      <th class=\"blank col1\" >&nbsp;</th>\n",
       "      <th class=\"blank col2\" >&nbsp;</th>\n",
       "      <th class=\"blank col3\" >&nbsp;</th>\n",
       "      <th class=\"blank col4\" >&nbsp;</th>\n",
       "      <th class=\"blank col5\" >&nbsp;</th>\n",
       "      <th class=\"blank col6\" >&nbsp;</th>\n",
       "      <th class=\"blank col7\" >&nbsp;</th>\n",
       "      <th class=\"blank col8\" >&nbsp;</th>\n",
       "      <th class=\"blank col9\" >&nbsp;</th>\n",
       "      <th class=\"blank col10\" >&nbsp;</th>\n",
       "      <th class=\"blank col11\" >&nbsp;</th>\n",
       "      <th class=\"blank col12\" >&nbsp;</th>\n",
       "      <th class=\"blank col13\" >&nbsp;</th>\n",
       "      <th class=\"blank col14\" >&nbsp;</th>\n",
       "      <th class=\"blank col15\" >&nbsp;</th>\n",
       "      <th class=\"blank col16\" >&nbsp;</th>\n",
       "      <th class=\"blank col17\" >&nbsp;</th>\n",
       "      <th class=\"blank col18\" >&nbsp;</th>\n",
       "      <th class=\"blank col19\" >&nbsp;</th>\n",
       "      <th class=\"blank col20\" >&nbsp;</th>\n",
       "      <th class=\"blank col21\" >&nbsp;</th>\n",
       "      <th class=\"blank col22\" >&nbsp;</th>\n",
       "      <th class=\"blank col23\" >&nbsp;</th>\n",
       "      <th class=\"blank col24\" >&nbsp;</th>\n",
       "      <th class=\"blank col25\" >&nbsp;</th>\n",
       "      <th class=\"blank col26\" >&nbsp;</th>\n",
       "      <th class=\"blank col27\" >&nbsp;</th>\n",
       "      <th class=\"blank col28\" >&nbsp;</th>\n",
       "      <th class=\"blank col29\" >&nbsp;</th>\n",
       "      <th class=\"blank col30\" >&nbsp;</th>\n",
       "      <th class=\"blank col31\" >&nbsp;</th>\n",
       "      <th class=\"blank col32\" >&nbsp;</th>\n",
       "      <th class=\"blank col33\" >&nbsp;</th>\n",
       "      <th class=\"blank col34\" >&nbsp;</th>\n",
       "      <th class=\"blank col35\" >&nbsp;</th>\n",
       "      <th class=\"blank col36\" >&nbsp;</th>\n",
       "      <th class=\"blank col37\" >&nbsp;</th>\n",
       "      <th class=\"blank col38\" >&nbsp;</th>\n",
       "    </tr>\n",
       "  </thead>\n",
       "  <tbody>\n",
       "    <tr>\n",
       "      <th id=\"T_46325_level0_row0\" class=\"row_heading level0 row0\" >DoS</th>\n",
       "      <td id=\"T_46325_row0_col0\" class=\"data row0 col0\" >0.006227</td>\n",
       "      <td id=\"T_46325_row0_col1\" class=\"data row0 col1\" >1176.321162</td>\n",
       "      <td id=\"T_46325_row0_col2\" class=\"data row0 col2\" >169.201537</td>\n",
       "      <td id=\"T_46325_row0_col3\" class=\"data row0 col3\" >0.000392</td>\n",
       "      <td id=\"T_46325_row0_col4\" class=\"data row0 col4\" >0.062229</td>\n",
       "      <td id=\"T_46325_row0_col5\" class=\"data row0 col5\" >0.000000</td>\n",
       "      <td id=\"T_46325_row0_col6\" class=\"data row0 col6\" >0.039889</td>\n",
       "      <td id=\"T_46325_row0_col7\" class=\"data row0 col7\" >0.000000</td>\n",
       "      <td id=\"T_46325_row0_col8\" class=\"data row0 col8\" >0.020837</td>\n",
       "      <td id=\"T_46325_row0_col9\" class=\"data row0 col9\" >0.019226</td>\n",
       "      <td id=\"T_46325_row0_col10\" class=\"data row0 col10\" >0.000000</td>\n",
       "      <td id=\"T_46325_row0_col11\" class=\"data row0 col11\" >0.000000</td>\n",
       "      <td id=\"T_46325_row0_col12\" class=\"data row0 col12\" >0.000000</td>\n",
       "      <td id=\"T_46325_row0_col13\" class=\"data row0 col13\" >0.000000</td>\n",
       "      <td id=\"T_46325_row0_col14\" class=\"data row0 col14\" >0.000000</td>\n",
       "      <td id=\"T_46325_row0_col15\" class=\"data row0 col15\" >0.000000</td>\n",
       "      <td id=\"T_46325_row0_col16\" class=\"data row0 col16\" >0.000000</td>\n",
       "      <td id=\"T_46325_row0_col17\" class=\"data row0 col17\" >0.000000</td>\n",
       "      <td id=\"T_46325_row0_col18\" class=\"data row0 col18\" >0.000000</td>\n",
       "      <td id=\"T_46325_row0_col19\" class=\"data row0 col19\" >178.090034</td>\n",
       "      <td id=\"T_46325_row0_col20\" class=\"data row0 col20\" >32.656346</td>\n",
       "      <td id=\"T_46325_row0_col21\" class=\"data row0 col21\" >0.748494</td>\n",
       "      <td id=\"T_46325_row0_col22\" class=\"data row0 col22\" >0.746678</td>\n",
       "      <td id=\"T_46325_row0_col23\" class=\"data row0 col23\" >0.152107</td>\n",
       "      <td id=\"T_46325_row0_col24\" class=\"data row0 col24\" >0.153000</td>\n",
       "      <td id=\"T_46325_row0_col25\" class=\"data row0 col25\" >0.191887</td>\n",
       "      <td id=\"T_46325_row0_col26\" class=\"data row0 col26\" >0.065403</td>\n",
       "      <td id=\"T_46325_row0_col27\" class=\"data row0 col27\" >0.005317</td>\n",
       "      <td id=\"T_46325_row0_col28\" class=\"data row0 col28\" >244.600475</td>\n",
       "      <td id=\"T_46325_row0_col29\" class=\"data row0 col29\" >26.524005</td>\n",
       "      <td id=\"T_46325_row0_col30\" class=\"data row0 col30\" >0.123423</td>\n",
       "      <td id=\"T_46325_row0_col31\" class=\"data row0 col31\" >0.066333</td>\n",
       "      <td id=\"T_46325_row0_col32\" class=\"data row0 col32\" >0.049492</td>\n",
       "      <td id=\"T_46325_row0_col33\" class=\"data row0 col33\" >0.001647</td>\n",
       "      <td id=\"T_46325_row0_col34\" class=\"data row0 col34\" >0.747922</td>\n",
       "      <td id=\"T_46325_row0_col35\" class=\"data row0 col35\" >0.744434</td>\n",
       "      <td id=\"T_46325_row0_col36\" class=\"data row0 col36\" >0.157569</td>\n",
       "      <td id=\"T_46325_row0_col37\" class=\"data row0 col37\" >0.151286</td>\n",
       "      <td id=\"T_46325_row0_col38\" class=\"data row0 col38\" >19.311560</td>\n",
       "    </tr>\n",
       "    <tr>\n",
       "      <th id=\"T_46325_level0_row1\" class=\"row_heading level0 row1\" >Normal</th>\n",
       "      <td id=\"T_46325_row1_col0\" class=\"data row1 col0\" >168.587396</td>\n",
       "      <td id=\"T_46325_row1_col1\" class=\"data row1 col1\" >13133.279331</td>\n",
       "      <td id=\"T_46325_row1_col2\" class=\"data row1 col2\" >4329.685223</td>\n",
       "      <td id=\"T_46325_row1_col3\" class=\"data row1 col3\" >0.000104</td>\n",
       "      <td id=\"T_46325_row1_col4\" class=\"data row1 col4\" >0.000000</td>\n",
       "      <td id=\"T_46325_row1_col5\" class=\"data row1 col5\" >0.000148</td>\n",
       "      <td id=\"T_46325_row1_col6\" class=\"data row1 col6\" >0.230655</td>\n",
       "      <td id=\"T_46325_row1_col7\" class=\"data row1 col7\" >0.001381</td>\n",
       "      <td id=\"T_46325_row1_col8\" class=\"data row1 col8\" >0.710646</td>\n",
       "      <td id=\"T_46325_row1_col9\" class=\"data row1 col9\" >0.507076</td>\n",
       "      <td id=\"T_46325_row1_col10\" class=\"data row1 col10\" >0.002034</td>\n",
       "      <td id=\"T_46325_row1_col11\" class=\"data row1 col11\" >0.002049</td>\n",
       "      <td id=\"T_46325_row1_col12\" class=\"data row1 col12\" >0.562924</td>\n",
       "      <td id=\"T_46325_row1_col13\" class=\"data row1 col13\" >0.022274</td>\n",
       "      <td id=\"T_46325_row1_col14\" class=\"data row1 col14\" >0.000609</td>\n",
       "      <td id=\"T_46325_row1_col15\" class=\"data row1 col15\" >0.007499</td>\n",
       "      <td id=\"T_46325_row1_col16\" class=\"data row1 col16\" >0.000000</td>\n",
       "      <td id=\"T_46325_row1_col17\" class=\"data row1 col17\" >0.000015</td>\n",
       "      <td id=\"T_46325_row1_col18\" class=\"data row1 col18\" >0.012963</td>\n",
       "      <td id=\"T_46325_row1_col19\" class=\"data row1 col19\" >22.517945</td>\n",
       "      <td id=\"T_46325_row1_col20\" class=\"data row1 col20\" >27.685654</td>\n",
       "      <td id=\"T_46325_row1_col21\" class=\"data row1 col21\" >0.013441</td>\n",
       "      <td id=\"T_46325_row1_col22\" class=\"data row1 col22\" >0.012083</td>\n",
       "      <td id=\"T_46325_row1_col23\" class=\"data row1 col23\" >0.044196</td>\n",
       "      <td id=\"T_46325_row1_col24\" class=\"data row1 col24\" >0.044629</td>\n",
       "      <td id=\"T_46325_row1_col25\" class=\"data row1 col25\" >0.969360</td>\n",
       "      <td id=\"T_46325_row1_col26\" class=\"data row1 col26\" >0.028788</td>\n",
       "      <td id=\"T_46325_row1_col27\" class=\"data row1 col27\" >0.126263</td>\n",
       "      <td id=\"T_46325_row1_col28\" class=\"data row1 col28\" >147.431923</td>\n",
       "      <td id=\"T_46325_row1_col29\" class=\"data row1 col29\" >190.285761</td>\n",
       "      <td id=\"T_46325_row1_col30\" class=\"data row1 col30\" >0.811875</td>\n",
       "      <td id=\"T_46325_row1_col31\" class=\"data row1 col31\" >0.040134</td>\n",
       "      <td id=\"T_46325_row1_col32\" class=\"data row1 col32\" >0.121726</td>\n",
       "      <td id=\"T_46325_row1_col33\" class=\"data row1 col33\" >0.025996</td>\n",
       "      <td id=\"T_46325_row1_col34\" class=\"data row1 col34\" >0.013930</td>\n",
       "      <td id=\"T_46325_row1_col35\" class=\"data row1 col35\" >0.006116</td>\n",
       "      <td id=\"T_46325_row1_col36\" class=\"data row1 col36\" >0.046589</td>\n",
       "      <td id=\"T_46325_row1_col37\" class=\"data row1 col37\" >0.044698</td>\n",
       "      <td id=\"T_46325_row1_col38\" class=\"data row1 col38\" >20.315920</td>\n",
       "    </tr>\n",
       "    <tr>\n",
       "      <th id=\"T_46325_level0_row2\" class=\"row_heading level0 row2\" >Probe</th>\n",
       "      <td id=\"T_46325_row2_col0\" class=\"data row2 col0\" >2074.858185</td>\n",
       "      <td id=\"T_46325_row2_col1\" class=\"data row2 col1\" >385679.838367</td>\n",
       "      <td id=\"T_46325_row2_col2\" class=\"data row2 col2\" >181074.911805</td>\n",
       "      <td id=\"T_46325_row2_col3\" class=\"data row2 col3\" >0.000000</td>\n",
       "      <td id=\"T_46325_row2_col4\" class=\"data row2 col4\" >0.000000</td>\n",
       "      <td id=\"T_46325_row2_col5\" class=\"data row2 col5\" >0.000000</td>\n",
       "      <td id=\"T_46325_row2_col6\" class=\"data row2 col6\" >0.001630</td>\n",
       "      <td id=\"T_46325_row2_col7\" class=\"data row2 col7\" >0.000343</td>\n",
       "      <td id=\"T_46325_row2_col8\" class=\"data row2 col8\" >0.007121</td>\n",
       "      <td id=\"T_46325_row2_col9\" class=\"data row2 col9\" >0.000601</td>\n",
       "      <td id=\"T_46325_row2_col10\" class=\"data row2 col10\" >0.000000</td>\n",
       "      <td id=\"T_46325_row2_col11\" class=\"data row2 col11\" >0.000000</td>\n",
       "      <td id=\"T_46325_row2_col12\" class=\"data row2 col12\" >0.000601</td>\n",
       "      <td id=\"T_46325_row2_col13\" class=\"data row2 col13\" >0.001716</td>\n",
       "      <td id=\"T_46325_row2_col14\" class=\"data row2 col14\" >0.000000</td>\n",
       "      <td id=\"T_46325_row2_col15\" class=\"data row2 col15\" >0.000000</td>\n",
       "      <td id=\"T_46325_row2_col16\" class=\"data row2 col16\" >0.000000</td>\n",
       "      <td id=\"T_46325_row2_col17\" class=\"data row2 col17\" >0.000000</td>\n",
       "      <td id=\"T_46325_row2_col18\" class=\"data row2 col18\" >0.000086</td>\n",
       "      <td id=\"T_46325_row2_col19\" class=\"data row2 col19\" >77.052248</td>\n",
       "      <td id=\"T_46325_row2_col20\" class=\"data row2 col20\" >10.936084</td>\n",
       "      <td id=\"T_46325_row2_col21\" class=\"data row2 col21\" >0.046525</td>\n",
       "      <td id=\"T_46325_row2_col22\" class=\"data row2 col22\" >0.040160</td>\n",
       "      <td id=\"T_46325_row2_col23\" class=\"data row2 col23\" >0.437319</td>\n",
       "      <td id=\"T_46325_row2_col24\" class=\"data row2 col24\" >0.444469</td>\n",
       "      <td id=\"T_46325_row2_col25\" class=\"data row2 col25\" >0.697196</td>\n",
       "      <td id=\"T_46325_row2_col26\" class=\"data row2 col26\" >0.256567</td>\n",
       "      <td id=\"T_46325_row2_col27\" class=\"data row2 col27\" >0.299903</td>\n",
       "      <td id=\"T_46325_row2_col28\" class=\"data row2 col28\" >145.204101</td>\n",
       "      <td id=\"T_46325_row2_col29\" class=\"data row2 col29\" >42.367193</td>\n",
       "      <td id=\"T_46325_row2_col30\" class=\"data row2 col30\" >0.390825</td>\n",
       "      <td id=\"T_46325_row2_col31\" class=\"data row2 col31\" >0.401263</td>\n",
       "      <td id=\"T_46325_row2_col32\" class=\"data row2 col32\" >0.651840</td>\n",
       "      <td id=\"T_46325_row2_col33\" class=\"data row2 col33\" >0.187343</td>\n",
       "      <td id=\"T_46325_row2_col34\" class=\"data row2 col34\" >0.044757</td>\n",
       "      <td id=\"T_46325_row2_col35\" class=\"data row2 col35\" >0.039799</td>\n",
       "      <td id=\"T_46325_row2_col36\" class=\"data row2 col36\" >0.389717</td>\n",
       "      <td id=\"T_46325_row2_col37\" class=\"data row2 col37\" >0.441030</td>\n",
       "      <td id=\"T_46325_row2_col38\" class=\"data row2 col38\" >16.461050</td>\n",
       "    </tr>\n",
       "    <tr>\n",
       "      <th id=\"T_46325_level0_row3\" class=\"row_heading level0 row3\" >R2L</th>\n",
       "      <td id=\"T_46325_row3_col0\" class=\"data row3 col0\" >633.417085</td>\n",
       "      <td id=\"T_46325_row3_col1\" class=\"data row3 col1\" >307727.300503</td>\n",
       "      <td id=\"T_46325_row3_col2\" class=\"data row3 col2\" >81822.026131</td>\n",
       "      <td id=\"T_46325_row3_col3\" class=\"data row3 col3\" >0.000000</td>\n",
       "      <td id=\"T_46325_row3_col4\" class=\"data row3 col4\" >0.000000</td>\n",
       "      <td id=\"T_46325_row3_col5\" class=\"data row3 col5\" >0.003015</td>\n",
       "      <td id=\"T_46325_row3_col6\" class=\"data row3 col6\" >8.334673</td>\n",
       "      <td id=\"T_46325_row3_col7\" class=\"data row3 col7\" >0.056281</td>\n",
       "      <td id=\"T_46325_row3_col8\" class=\"data row3 col8\" >0.913568</td>\n",
       "      <td id=\"T_46325_row3_col9\" class=\"data row3 col9\" >0.077387</td>\n",
       "      <td id=\"T_46325_row3_col10\" class=\"data row3 col10\" >0.006030</td>\n",
       "      <td id=\"T_46325_row3_col11\" class=\"data row3 col11\" >0.001005</td>\n",
       "      <td id=\"T_46325_row3_col12\" class=\"data row3 col12\" >0.111558</td>\n",
       "      <td id=\"T_46325_row3_col13\" class=\"data row3 col13\" >0.035176</td>\n",
       "      <td id=\"T_46325_row3_col14\" class=\"data row3 col14\" >0.004020</td>\n",
       "      <td id=\"T_46325_row3_col15\" class=\"data row3 col15\" >0.010050</td>\n",
       "      <td id=\"T_46325_row3_col16\" class=\"data row3 col16\" >0.000000</td>\n",
       "      <td id=\"T_46325_row3_col17\" class=\"data row3 col17\" >0.000000</td>\n",
       "      <td id=\"T_46325_row3_col18\" class=\"data row3 col18\" >0.314573</td>\n",
       "      <td id=\"T_46325_row3_col19\" class=\"data row3 col19\" >1.297487</td>\n",
       "      <td id=\"T_46325_row3_col20\" class=\"data row3 col20\" >2.457286</td>\n",
       "      <td id=\"T_46325_row3_col21\" class=\"data row3 col21\" >0.011899</td>\n",
       "      <td id=\"T_46325_row3_col22\" class=\"data row3 col22\" >0.011045</td>\n",
       "      <td id=\"T_46325_row3_col23\" class=\"data row3 col23\" >0.051759</td>\n",
       "      <td id=\"T_46325_row3_col24\" class=\"data row3 col24\" >0.052040</td>\n",
       "      <td id=\"T_46325_row3_col25\" class=\"data row3 col25\" >0.996653</td>\n",
       "      <td id=\"T_46325_row3_col26\" class=\"data row3 col26\" >0.006704</td>\n",
       "      <td id=\"T_46325_row3_col27\" class=\"data row3 col27\" >0.017156</td>\n",
       "      <td id=\"T_46325_row3_col28\" class=\"data row3 col28\" >89.037186</td>\n",
       "      <td id=\"T_46325_row3_col29\" class=\"data row3 col29\" >42.440201</td>\n",
       "      <td id=\"T_46325_row3_col30\" class=\"data row3 col30\" >0.727377</td>\n",
       "      <td id=\"T_46325_row3_col31\" class=\"data row3 col31\" >0.021307</td>\n",
       "      <td id=\"T_46325_row3_col32\" class=\"data row3 col32\" >0.596915</td>\n",
       "      <td id=\"T_46325_row3_col33\" class=\"data row3 col33\" >0.085739</td>\n",
       "      <td id=\"T_46325_row3_col34\" class=\"data row3 col34\" >0.023849</td>\n",
       "      <td id=\"T_46325_row3_col35\" class=\"data row3 col35\" >0.015960</td>\n",
       "      <td id=\"T_46325_row3_col36\" class=\"data row3 col36\" >0.051116</td>\n",
       "      <td id=\"T_46325_row3_col37\" class=\"data row3 col37\" >0.047367</td>\n",
       "      <td id=\"T_46325_row3_col38\" class=\"data row3 col38\" >9.878392</td>\n",
       "    </tr>\n",
       "    <tr>\n",
       "      <th id=\"T_46325_level0_row4\" class=\"row_heading level0 row4\" >U2R</th>\n",
       "      <td id=\"T_46325_row4_col0\" class=\"data row4 col0\" >80.942308</td>\n",
       "      <td id=\"T_46325_row4_col1\" class=\"data row4 col1\" >906.230769</td>\n",
       "      <td id=\"T_46325_row4_col2\" class=\"data row4 col2\" >5141.961538</td>\n",
       "      <td id=\"T_46325_row4_col3\" class=\"data row4 col3\" >0.000000</td>\n",
       "      <td id=\"T_46325_row4_col4\" class=\"data row4 col4\" >0.000000</td>\n",
       "      <td id=\"T_46325_row4_col5\" class=\"data row4 col5\" >0.019231</td>\n",
       "      <td id=\"T_46325_row4_col6\" class=\"data row4 col6\" >1.403846</td>\n",
       "      <td id=\"T_46325_row4_col7\" class=\"data row4 col7\" >0.019231</td>\n",
       "      <td id=\"T_46325_row4_col8\" class=\"data row4 col8\" >0.884615</td>\n",
       "      <td id=\"T_46325_row4_col9\" class=\"data row4 col9\" >1.211538</td>\n",
       "      <td id=\"T_46325_row4_col10\" class=\"data row4 col10\" >0.500000</td>\n",
       "      <td id=\"T_46325_row4_col11\" class=\"data row4 col11\" >0.000000</td>\n",
       "      <td id=\"T_46325_row4_col12\" class=\"data row4 col12\" >0.788462</td>\n",
       "      <td id=\"T_46325_row4_col13\" class=\"data row4 col13\" >0.788462</td>\n",
       "      <td id=\"T_46325_row4_col14\" class=\"data row4 col14\" >0.134615</td>\n",
       "      <td id=\"T_46325_row4_col15\" class=\"data row4 col15\" >0.019231</td>\n",
       "      <td id=\"T_46325_row4_col16\" class=\"data row4 col16\" >0.000000</td>\n",
       "      <td id=\"T_46325_row4_col17\" class=\"data row4 col17\" >0.000000</td>\n",
       "      <td id=\"T_46325_row4_col18\" class=\"data row4 col18\" >0.000000</td>\n",
       "      <td id=\"T_46325_row4_col19\" class=\"data row4 col19\" >5.807692</td>\n",
       "      <td id=\"T_46325_row4_col20\" class=\"data row4 col20\" >1.269231</td>\n",
       "      <td id=\"T_46325_row4_col21\" class=\"data row4 col21\" >0.038077</td>\n",
       "      <td id=\"T_46325_row4_col22\" class=\"data row4 col22\" >0.000000</td>\n",
       "      <td id=\"T_46325_row4_col23\" class=\"data row4 col23\" >0.009808</td>\n",
       "      <td id=\"T_46325_row4_col24\" class=\"data row4 col24\" >0.019231</td>\n",
       "      <td id=\"T_46325_row4_col25\" class=\"data row4 col25\" >0.931538</td>\n",
       "      <td id=\"T_46325_row4_col26\" class=\"data row4 col26\" >0.063654</td>\n",
       "      <td id=\"T_46325_row4_col27\" class=\"data row4 col27\" >0.000000</td>\n",
       "      <td id=\"T_46325_row4_col28\" class=\"data row4 col28\" >47.769231</td>\n",
       "      <td id=\"T_46325_row4_col29\" class=\"data row4 col29\" >9.884615</td>\n",
       "      <td id=\"T_46325_row4_col30\" class=\"data row4 col30\" >0.781154</td>\n",
       "      <td id=\"T_46325_row4_col31\" class=\"data row4 col31\" >0.040000</td>\n",
       "      <td id=\"T_46325_row4_col32\" class=\"data row4 col32\" >0.568269</td>\n",
       "      <td id=\"T_46325_row4_col33\" class=\"data row4 col33\" >0.081154</td>\n",
       "      <td id=\"T_46325_row4_col34\" class=\"data row4 col34\" >0.000000</td>\n",
       "      <td id=\"T_46325_row4_col35\" class=\"data row4 col35\" >0.004808</td>\n",
       "      <td id=\"T_46325_row4_col36\" class=\"data row4 col36\" >0.039615</td>\n",
       "      <td id=\"T_46325_row4_col37\" class=\"data row4 col37\" >0.019038</td>\n",
       "      <td id=\"T_46325_row4_col38\" class=\"data row4 col38\" >4.403846</td>\n",
       "    </tr>\n",
       "  </tbody>\n",
       "</table>\n"
      ],
      "text/plain": [
       "<pandas.io.formats.style.Styler at 0x1db95e71430>"
      ]
     },
     "execution_count": 17,
     "metadata": {},
     "output_type": "execute_result"
    }
   ],
   "source": [
    "# Comparing means\n",
    "#dfkdd_train.groupby('attack_class')[num].agg(['min', 'median', 'mean', 'max']).style.set_sticky(axis='index')\n",
    "dfkdd_train.groupby('attack_class')[num].mean().style.set_sticky(axis='index')"
   ]
  },
  {
   "cell_type": "markdown",
   "metadata": {},
   "source": [
    "##### A bit more analysis before getting into outlier treatment"
   ]
  },
  {
   "cell_type": "code",
   "execution_count": 18,
   "metadata": {
    "scrolled": true
   },
   "outputs": [
    {
     "data": {
      "text/html": [
       "<style type=\"text/css\">\n",
       "#T_3f386_ thead tr th:nth-child(1) {\n",
       "  position: sticky;\n",
       "  background-color: white;\n",
       "  left: 0px;\n",
       "  z-index: 3 !important;\n",
       "}\n",
       "#T_3f386_ tbody tr th:nth-child(1) {\n",
       "  position: sticky;\n",
       "  background-color: white;\n",
       "  left: 0px;\n",
       "  z-index: 1;\n",
       "}\n",
       "</style>\n",
       "<table id=\"T_3f386_\">\n",
       "  <thead>\n",
       "    <tr>\n",
       "      <th class=\"blank level0\" >&nbsp;</th>\n",
       "      <th class=\"col_heading level0 col0\" >N</th>\n",
       "      <th class=\"col_heading level0 col1\" >SUM</th>\n",
       "      <th class=\"col_heading level0 col2\" >MEAN</th>\n",
       "      <th class=\"col_heading level0 col3\" >MEDIAN</th>\n",
       "      <th class=\"col_heading level0 col4\" >MIN</th>\n",
       "      <th class=\"col_heading level0 col5\" >P1</th>\n",
       "      <th class=\"col_heading level0 col6\" >P5</th>\n",
       "      <th class=\"col_heading level0 col7\" >P10</th>\n",
       "      <th class=\"col_heading level0 col8\" >P25</th>\n",
       "      <th class=\"col_heading level0 col9\" >P50</th>\n",
       "      <th class=\"col_heading level0 col10\" >P75</th>\n",
       "      <th class=\"col_heading level0 col11\" >P90</th>\n",
       "      <th class=\"col_heading level0 col12\" >P95</th>\n",
       "      <th class=\"col_heading level0 col13\" >P99</th>\n",
       "      <th class=\"col_heading level0 col14\" >MAX</th>\n",
       "      <th class=\"col_heading level0 col15\" >SKEW</th>\n",
       "      <th class=\"col_heading level0 col16\" >KURT</th>\n",
       "      <th class=\"col_heading level0 col17\" >STD</th>\n",
       "      <th class=\"col_heading level0 col18\" >VAR</th>\n",
       "      <th class=\"col_heading level0 col19\" >ZEROS</th>\n",
       "      <th class=\"col_heading level0 col20\" >%ZEROS</th>\n",
       "      <th class=\"col_heading level0 col21\" >NMISS</th>\n",
       "      <th class=\"col_heading level0 col22\" >%NMISS</th>\n",
       "    </tr>\n",
       "  </thead>\n",
       "  <tbody>\n",
       "    <tr>\n",
       "      <th id=\"T_3f386_level0_row0\" class=\"row_heading level0 row0\" >duration</th>\n",
       "      <td id=\"T_3f386_row0_col0\" class=\"data row0 col0\" >125973.000000</td>\n",
       "      <td id=\"T_3f386_row0_col1\" class=\"data row0 col1\" >36172473.000000</td>\n",
       "      <td id=\"T_3f386_row0_col2\" class=\"data row0 col2\" >287.144650</td>\n",
       "      <td id=\"T_3f386_row0_col3\" class=\"data row0 col3\" >0.000000</td>\n",
       "      <td id=\"T_3f386_row0_col4\" class=\"data row0 col4\" >0.000000</td>\n",
       "      <td id=\"T_3f386_row0_col5\" class=\"data row0 col5\" >0.000000</td>\n",
       "      <td id=\"T_3f386_row0_col6\" class=\"data row0 col6\" >0.000000</td>\n",
       "      <td id=\"T_3f386_row0_col7\" class=\"data row0 col7\" >0.000000</td>\n",
       "      <td id=\"T_3f386_row0_col8\" class=\"data row0 col8\" >0.000000</td>\n",
       "      <td id=\"T_3f386_row0_col9\" class=\"data row0 col9\" >0.000000</td>\n",
       "      <td id=\"T_3f386_row0_col10\" class=\"data row0 col10\" >0.000000</td>\n",
       "      <td id=\"T_3f386_row0_col11\" class=\"data row0 col11\" >0.000000</td>\n",
       "      <td id=\"T_3f386_row0_col12\" class=\"data row0 col12\" >4.000000</td>\n",
       "      <td id=\"T_3f386_row0_col13\" class=\"data row0 col13\" >9590.560000</td>\n",
       "      <td id=\"T_3f386_row0_col14\" class=\"data row0 col14\" >42908.000000</td>\n",
       "      <td id=\"T_3f386_row0_col15\" class=\"data row0 col15\" >11.880230</td>\n",
       "      <td id=\"T_3f386_row0_col16\" class=\"data row0 col16\" >156.076810</td>\n",
       "      <td id=\"T_3f386_row0_col17\" class=\"data row0 col17\" >2604.515310</td>\n",
       "      <td id=\"T_3f386_row0_col18\" class=\"data row0 col18\" >6783499.999334</td>\n",
       "      <td id=\"T_3f386_row0_col19\" class=\"data row0 col19\" >115955.000000</td>\n",
       "      <td id=\"T_3f386_row0_col20\" class=\"data row0 col20\" >92.047502</td>\n",
       "      <td id=\"T_3f386_row0_col21\" class=\"data row0 col21\" >0.000000</td>\n",
       "      <td id=\"T_3f386_row0_col22\" class=\"data row0 col22\" >0.000000</td>\n",
       "    </tr>\n",
       "    <tr>\n",
       "      <th id=\"T_3f386_level0_row1\" class=\"row_heading level0 row1\" >src_bytes</th>\n",
       "      <td id=\"T_3f386_row1_col0\" class=\"data row1 col0\" >125973.000000</td>\n",
       "      <td id=\"T_3f386_row1_col1\" class=\"data row1 col1\" >5740179316.000000</td>\n",
       "      <td id=\"T_3f386_row1_col2\" class=\"data row1 col2\" >45566.743000</td>\n",
       "      <td id=\"T_3f386_row1_col3\" class=\"data row1 col3\" >44.000000</td>\n",
       "      <td id=\"T_3f386_row1_col4\" class=\"data row1 col4\" >0.000000</td>\n",
       "      <td id=\"T_3f386_row1_col5\" class=\"data row1 col5\" >0.000000</td>\n",
       "      <td id=\"T_3f386_row1_col6\" class=\"data row1 col6\" >0.000000</td>\n",
       "      <td id=\"T_3f386_row1_col7\" class=\"data row1 col7\" >0.000000</td>\n",
       "      <td id=\"T_3f386_row1_col8\" class=\"data row1 col8\" >0.000000</td>\n",
       "      <td id=\"T_3f386_row1_col9\" class=\"data row1 col9\" >44.000000</td>\n",
       "      <td id=\"T_3f386_row1_col10\" class=\"data row1 col10\" >276.000000</td>\n",
       "      <td id=\"T_3f386_row1_col11\" class=\"data row1 col11\" >848.000000</td>\n",
       "      <td id=\"T_3f386_row1_col12\" class=\"data row1 col12\" >1480.000000</td>\n",
       "      <td id=\"T_3f386_row1_col13\" class=\"data row1 col13\" >54540.000000</td>\n",
       "      <td id=\"T_3f386_row1_col14\" class=\"data row1 col14\" >1379963888.000000</td>\n",
       "      <td id=\"T_3f386_row1_col15\" class=\"data row1 col15\" >190.669347</td>\n",
       "      <td id=\"T_3f386_row1_col16\" class=\"data row1 col16\" >39354.121255</td>\n",
       "      <td id=\"T_3f386_row1_col17\" class=\"data row1 col17\" >5870331.181891</td>\n",
       "      <td id=\"T_3f386_row1_col18\" class=\"data row1 col18\" >34460788185085.687500</td>\n",
       "      <td id=\"T_3f386_row1_col19\" class=\"data row1 col19\" >49392.000000</td>\n",
       "      <td id=\"T_3f386_row1_col20\" class=\"data row1 col20\" >39.208402</td>\n",
       "      <td id=\"T_3f386_row1_col21\" class=\"data row1 col21\" >0.000000</td>\n",
       "      <td id=\"T_3f386_row1_col22\" class=\"data row1 col22\" >0.000000</td>\n",
       "    </tr>\n",
       "    <tr>\n",
       "      <th id=\"T_3f386_level0_row2\" class=\"row_heading level0 row2\" >dst_bytes</th>\n",
       "      <td id=\"T_3f386_row2_col0\" class=\"data row2 col0\" >125973.000000</td>\n",
       "      <td id=\"T_3f386_row2_col1\" class=\"data row2 col1\" >2491634381.000000</td>\n",
       "      <td id=\"T_3f386_row2_col2\" class=\"data row2 col2\" >19779.114421</td>\n",
       "      <td id=\"T_3f386_row2_col3\" class=\"data row2 col3\" >0.000000</td>\n",
       "      <td id=\"T_3f386_row2_col4\" class=\"data row2 col4\" >0.000000</td>\n",
       "      <td id=\"T_3f386_row2_col5\" class=\"data row2 col5\" >0.000000</td>\n",
       "      <td id=\"T_3f386_row2_col6\" class=\"data row2 col6\" >0.000000</td>\n",
       "      <td id=\"T_3f386_row2_col7\" class=\"data row2 col7\" >0.000000</td>\n",
       "      <td id=\"T_3f386_row2_col8\" class=\"data row2 col8\" >0.000000</td>\n",
       "      <td id=\"T_3f386_row2_col9\" class=\"data row2 col9\" >0.000000</td>\n",
       "      <td id=\"T_3f386_row2_col10\" class=\"data row2 col10\" >516.000000</td>\n",
       "      <td id=\"T_3f386_row2_col11\" class=\"data row2 col11\" >3375.800000</td>\n",
       "      <td id=\"T_3f386_row2_col12\" class=\"data row2 col12\" >8314.000000</td>\n",
       "      <td id=\"T_3f386_row2_col13\" class=\"data row2 col13\" >25519.000000</td>\n",
       "      <td id=\"T_3f386_row2_col14\" class=\"data row2 col14\" >1309937401.000000</td>\n",
       "      <td id=\"T_3f386_row2_col15\" class=\"data row2 col15\" >290.052911</td>\n",
       "      <td id=\"T_3f386_row2_col16\" class=\"data row2 col16\" >90941.734526</td>\n",
       "      <td id=\"T_3f386_row2_col17\" class=\"data row2 col17\" >4021269.151440</td>\n",
       "      <td id=\"T_3f386_row2_col18\" class=\"data row2 col18\" >16170605588320.134766</td>\n",
       "      <td id=\"T_3f386_row2_col19\" class=\"data row2 col19\" >67967.000000</td>\n",
       "      <td id=\"T_3f386_row2_col20\" class=\"data row2 col20\" >53.953625</td>\n",
       "      <td id=\"T_3f386_row2_col21\" class=\"data row2 col21\" >0.000000</td>\n",
       "      <td id=\"T_3f386_row2_col22\" class=\"data row2 col22\" >0.000000</td>\n",
       "    </tr>\n",
       "    <tr>\n",
       "      <th id=\"T_3f386_level0_row3\" class=\"row_heading level0 row3\" >land</th>\n",
       "      <td id=\"T_3f386_row3_col0\" class=\"data row3 col0\" >125973.000000</td>\n",
       "      <td id=\"T_3f386_row3_col1\" class=\"data row3 col1\" >25.000000</td>\n",
       "      <td id=\"T_3f386_row3_col2\" class=\"data row3 col2\" >0.000198</td>\n",
       "      <td id=\"T_3f386_row3_col3\" class=\"data row3 col3\" >0.000000</td>\n",
       "      <td id=\"T_3f386_row3_col4\" class=\"data row3 col4\" >0.000000</td>\n",
       "      <td id=\"T_3f386_row3_col5\" class=\"data row3 col5\" >0.000000</td>\n",
       "      <td id=\"T_3f386_row3_col6\" class=\"data row3 col6\" >0.000000</td>\n",
       "      <td id=\"T_3f386_row3_col7\" class=\"data row3 col7\" >0.000000</td>\n",
       "      <td id=\"T_3f386_row3_col8\" class=\"data row3 col8\" >0.000000</td>\n",
       "      <td id=\"T_3f386_row3_col9\" class=\"data row3 col9\" >0.000000</td>\n",
       "      <td id=\"T_3f386_row3_col10\" class=\"data row3 col10\" >0.000000</td>\n",
       "      <td id=\"T_3f386_row3_col11\" class=\"data row3 col11\" >0.000000</td>\n",
       "      <td id=\"T_3f386_row3_col12\" class=\"data row3 col12\" >0.000000</td>\n",
       "      <td id=\"T_3f386_row3_col13\" class=\"data row3 col13\" >0.000000</td>\n",
       "      <td id=\"T_3f386_row3_col14\" class=\"data row3 col14\" >1.000000</td>\n",
       "      <td id=\"T_3f386_row3_col15\" class=\"data row3 col15\" >70.965063</td>\n",
       "      <td id=\"T_3f386_row3_col16\" class=\"data row3 col16\" >5034.120053</td>\n",
       "      <td id=\"T_3f386_row3_col17\" class=\"data row3 col17\" >0.014086</td>\n",
       "      <td id=\"T_3f386_row3_col18\" class=\"data row3 col18\" >0.000198</td>\n",
       "      <td id=\"T_3f386_row3_col19\" class=\"data row3 col19\" >125948.000000</td>\n",
       "      <td id=\"T_3f386_row3_col20\" class=\"data row3 col20\" >99.980154</td>\n",
       "      <td id=\"T_3f386_row3_col21\" class=\"data row3 col21\" >0.000000</td>\n",
       "      <td id=\"T_3f386_row3_col22\" class=\"data row3 col22\" >0.000000</td>\n",
       "    </tr>\n",
       "    <tr>\n",
       "      <th id=\"T_3f386_level0_row4\" class=\"row_heading level0 row4\" >wrong_fragment</th>\n",
       "      <td id=\"T_3f386_row4_col0\" class=\"data row4 col0\" >125973.000000</td>\n",
       "      <td id=\"T_3f386_row4_col1\" class=\"data row4 col1\" >2858.000000</td>\n",
       "      <td id=\"T_3f386_row4_col2\" class=\"data row4 col2\" >0.022687</td>\n",
       "      <td id=\"T_3f386_row4_col3\" class=\"data row4 col3\" >0.000000</td>\n",
       "      <td id=\"T_3f386_row4_col4\" class=\"data row4 col4\" >0.000000</td>\n",
       "      <td id=\"T_3f386_row4_col5\" class=\"data row4 col5\" >0.000000</td>\n",
       "      <td id=\"T_3f386_row4_col6\" class=\"data row4 col6\" >0.000000</td>\n",
       "      <td id=\"T_3f386_row4_col7\" class=\"data row4 col7\" >0.000000</td>\n",
       "      <td id=\"T_3f386_row4_col8\" class=\"data row4 col8\" >0.000000</td>\n",
       "      <td id=\"T_3f386_row4_col9\" class=\"data row4 col9\" >0.000000</td>\n",
       "      <td id=\"T_3f386_row4_col10\" class=\"data row4 col10\" >0.000000</td>\n",
       "      <td id=\"T_3f386_row4_col11\" class=\"data row4 col11\" >0.000000</td>\n",
       "      <td id=\"T_3f386_row4_col12\" class=\"data row4 col12\" >0.000000</td>\n",
       "      <td id=\"T_3f386_row4_col13\" class=\"data row4 col13\" >0.000000</td>\n",
       "      <td id=\"T_3f386_row4_col14\" class=\"data row4 col14\" >3.000000</td>\n",
       "      <td id=\"T_3f386_row4_col15\" class=\"data row4 col15\" >11.457988</td>\n",
       "      <td id=\"T_3f386_row4_col16\" class=\"data row4 col16\" >130.829766</td>\n",
       "      <td id=\"T_3f386_row4_col17\" class=\"data row4 col17\" >0.253530</td>\n",
       "      <td id=\"T_3f386_row4_col18\" class=\"data row4 col18\" >0.064277</td>\n",
       "      <td id=\"T_3f386_row4_col19\" class=\"data row4 col19\" >124883.000000</td>\n",
       "      <td id=\"T_3f386_row4_col20\" class=\"data row4 col20\" >99.134735</td>\n",
       "      <td id=\"T_3f386_row4_col21\" class=\"data row4 col21\" >0.000000</td>\n",
       "      <td id=\"T_3f386_row4_col22\" class=\"data row4 col22\" >0.000000</td>\n",
       "    </tr>\n",
       "    <tr>\n",
       "      <th id=\"T_3f386_level0_row5\" class=\"row_heading level0 row5\" >urgent</th>\n",
       "      <td id=\"T_3f386_row5_col0\" class=\"data row5 col0\" >125973.000000</td>\n",
       "      <td id=\"T_3f386_row5_col1\" class=\"data row5 col1\" >14.000000</td>\n",
       "      <td id=\"T_3f386_row5_col2\" class=\"data row5 col2\" >0.000111</td>\n",
       "      <td id=\"T_3f386_row5_col3\" class=\"data row5 col3\" >0.000000</td>\n",
       "      <td id=\"T_3f386_row5_col4\" class=\"data row5 col4\" >0.000000</td>\n",
       "      <td id=\"T_3f386_row5_col5\" class=\"data row5 col5\" >0.000000</td>\n",
       "      <td id=\"T_3f386_row5_col6\" class=\"data row5 col6\" >0.000000</td>\n",
       "      <td id=\"T_3f386_row5_col7\" class=\"data row5 col7\" >0.000000</td>\n",
       "      <td id=\"T_3f386_row5_col8\" class=\"data row5 col8\" >0.000000</td>\n",
       "      <td id=\"T_3f386_row5_col9\" class=\"data row5 col9\" >0.000000</td>\n",
       "      <td id=\"T_3f386_row5_col10\" class=\"data row5 col10\" >0.000000</td>\n",
       "      <td id=\"T_3f386_row5_col11\" class=\"data row5 col11\" >0.000000</td>\n",
       "      <td id=\"T_3f386_row5_col12\" class=\"data row5 col12\" >0.000000</td>\n",
       "      <td id=\"T_3f386_row5_col13\" class=\"data row5 col13\" >0.000000</td>\n",
       "      <td id=\"T_3f386_row5_col14\" class=\"data row5 col14\" >3.000000</td>\n",
       "      <td id=\"T_3f386_row5_col15\" class=\"data row5 col15\" >149.914509</td>\n",
       "      <td id=\"T_3f386_row5_col16\" class=\"data row5 col16\" >24967.319945</td>\n",
       "      <td id=\"T_3f386_row5_col17\" class=\"data row5 col17\" >0.014366</td>\n",
       "      <td id=\"T_3f386_row5_col18\" class=\"data row5 col18\" >0.000206</td>\n",
       "      <td id=\"T_3f386_row5_col19\" class=\"data row5 col19\" >125964.000000</td>\n",
       "      <td id=\"T_3f386_row5_col20\" class=\"data row5 col20\" >99.992856</td>\n",
       "      <td id=\"T_3f386_row5_col21\" class=\"data row5 col21\" >0.000000</td>\n",
       "      <td id=\"T_3f386_row5_col22\" class=\"data row5 col22\" >0.000000</td>\n",
       "    </tr>\n",
       "    <tr>\n",
       "      <th id=\"T_3f386_level0_row6\" class=\"row_heading level0 row6\" >hot</th>\n",
       "      <td id=\"T_3f386_row6_col0\" class=\"data row6 col0\" >125973.000000</td>\n",
       "      <td id=\"T_3f386_row6_col1\" class=\"data row6 col1\" >25750.000000</td>\n",
       "      <td id=\"T_3f386_row6_col2\" class=\"data row6 col2\" >0.204409</td>\n",
       "      <td id=\"T_3f386_row6_col3\" class=\"data row6 col3\" >0.000000</td>\n",
       "      <td id=\"T_3f386_row6_col4\" class=\"data row6 col4\" >0.000000</td>\n",
       "      <td id=\"T_3f386_row6_col5\" class=\"data row6 col5\" >0.000000</td>\n",
       "      <td id=\"T_3f386_row6_col6\" class=\"data row6 col6\" >0.000000</td>\n",
       "      <td id=\"T_3f386_row6_col7\" class=\"data row6 col7\" >0.000000</td>\n",
       "      <td id=\"T_3f386_row6_col8\" class=\"data row6 col8\" >0.000000</td>\n",
       "      <td id=\"T_3f386_row6_col9\" class=\"data row6 col9\" >0.000000</td>\n",
       "      <td id=\"T_3f386_row6_col10\" class=\"data row6 col10\" >0.000000</td>\n",
       "      <td id=\"T_3f386_row6_col11\" class=\"data row6 col11\" >0.000000</td>\n",
       "      <td id=\"T_3f386_row6_col12\" class=\"data row6 col12\" >0.000000</td>\n",
       "      <td id=\"T_3f386_row6_col13\" class=\"data row6 col13\" >3.000000</td>\n",
       "      <td id=\"T_3f386_row6_col14\" class=\"data row6 col14\" >77.000000</td>\n",
       "      <td id=\"T_3f386_row6_col15\" class=\"data row6 col15\" >12.589886</td>\n",
       "      <td id=\"T_3f386_row6_col16\" class=\"data row6 col16\" >168.014265</td>\n",
       "      <td id=\"T_3f386_row6_col17\" class=\"data row6 col17\" >2.149968</td>\n",
       "      <td id=\"T_3f386_row6_col18\" class=\"data row6 col18\" >4.622364</td>\n",
       "      <td id=\"T_3f386_row6_col19\" class=\"data row6 col19\" >123302.000000</td>\n",
       "      <td id=\"T_3f386_row6_col20\" class=\"data row6 col20\" >97.879704</td>\n",
       "      <td id=\"T_3f386_row6_col21\" class=\"data row6 col21\" >0.000000</td>\n",
       "      <td id=\"T_3f386_row6_col22\" class=\"data row6 col22\" >0.000000</td>\n",
       "    </tr>\n",
       "    <tr>\n",
       "      <th id=\"T_3f386_level0_row7\" class=\"row_heading level0 row7\" >num_failed_logins</th>\n",
       "      <td id=\"T_3f386_row7_col0\" class=\"data row7 col0\" >125973.000000</td>\n",
       "      <td id=\"T_3f386_row7_col1\" class=\"data row7 col1\" >154.000000</td>\n",
       "      <td id=\"T_3f386_row7_col2\" class=\"data row7 col2\" >0.001222</td>\n",
       "      <td id=\"T_3f386_row7_col3\" class=\"data row7 col3\" >0.000000</td>\n",
       "      <td id=\"T_3f386_row7_col4\" class=\"data row7 col4\" >0.000000</td>\n",
       "      <td id=\"T_3f386_row7_col5\" class=\"data row7 col5\" >0.000000</td>\n",
       "      <td id=\"T_3f386_row7_col6\" class=\"data row7 col6\" >0.000000</td>\n",
       "      <td id=\"T_3f386_row7_col7\" class=\"data row7 col7\" >0.000000</td>\n",
       "      <td id=\"T_3f386_row7_col8\" class=\"data row7 col8\" >0.000000</td>\n",
       "      <td id=\"T_3f386_row7_col9\" class=\"data row7 col9\" >0.000000</td>\n",
       "      <td id=\"T_3f386_row7_col10\" class=\"data row7 col10\" >0.000000</td>\n",
       "      <td id=\"T_3f386_row7_col11\" class=\"data row7 col11\" >0.000000</td>\n",
       "      <td id=\"T_3f386_row7_col12\" class=\"data row7 col12\" >0.000000</td>\n",
       "      <td id=\"T_3f386_row7_col13\" class=\"data row7 col13\" >0.000000</td>\n",
       "      <td id=\"T_3f386_row7_col14\" class=\"data row7 col14\" >5.000000</td>\n",
       "      <td id=\"T_3f386_row7_col15\" class=\"data row7 col15\" >53.764424</td>\n",
       "      <td id=\"T_3f386_row7_col16\" class=\"data row7 col16\" >3869.069296</td>\n",
       "      <td id=\"T_3f386_row7_col17\" class=\"data row7 col17\" >0.045239</td>\n",
       "      <td id=\"T_3f386_row7_col18\" class=\"data row7 col18\" >0.002047</td>\n",
       "      <td id=\"T_3f386_row7_col19\" class=\"data row7 col19\" >125851.000000</td>\n",
       "      <td id=\"T_3f386_row7_col20\" class=\"data row7 col20\" >99.903154</td>\n",
       "      <td id=\"T_3f386_row7_col21\" class=\"data row7 col21\" >0.000000</td>\n",
       "      <td id=\"T_3f386_row7_col22\" class=\"data row7 col22\" >0.000000</td>\n",
       "    </tr>\n",
       "    <tr>\n",
       "      <th id=\"T_3f386_level0_row8\" class=\"row_heading level0 row8\" >logged_in</th>\n",
       "      <td id=\"T_3f386_row8_col0\" class=\"data row8 col0\" >125973.000000</td>\n",
       "      <td id=\"T_3f386_row8_col1\" class=\"data row8 col1\" >49852.000000</td>\n",
       "      <td id=\"T_3f386_row8_col2\" class=\"data row8 col2\" >0.395736</td>\n",
       "      <td id=\"T_3f386_row8_col3\" class=\"data row8 col3\" >0.000000</td>\n",
       "      <td id=\"T_3f386_row8_col4\" class=\"data row8 col4\" >0.000000</td>\n",
       "      <td id=\"T_3f386_row8_col5\" class=\"data row8 col5\" >0.000000</td>\n",
       "      <td id=\"T_3f386_row8_col6\" class=\"data row8 col6\" >0.000000</td>\n",
       "      <td id=\"T_3f386_row8_col7\" class=\"data row8 col7\" >0.000000</td>\n",
       "      <td id=\"T_3f386_row8_col8\" class=\"data row8 col8\" >0.000000</td>\n",
       "      <td id=\"T_3f386_row8_col9\" class=\"data row8 col9\" >0.000000</td>\n",
       "      <td id=\"T_3f386_row8_col10\" class=\"data row8 col10\" >1.000000</td>\n",
       "      <td id=\"T_3f386_row8_col11\" class=\"data row8 col11\" >1.000000</td>\n",
       "      <td id=\"T_3f386_row8_col12\" class=\"data row8 col12\" >1.000000</td>\n",
       "      <td id=\"T_3f386_row8_col13\" class=\"data row8 col13\" >1.000000</td>\n",
       "      <td id=\"T_3f386_row8_col14\" class=\"data row8 col14\" >1.000000</td>\n",
       "      <td id=\"T_3f386_row8_col15\" class=\"data row8 col15\" >0.426437</td>\n",
       "      <td id=\"T_3f386_row8_col16\" class=\"data row8 col16\" >-1.818180</td>\n",
       "      <td id=\"T_3f386_row8_col17\" class=\"data row8 col17\" >0.489010</td>\n",
       "      <td id=\"T_3f386_row8_col18\" class=\"data row8 col18\" >0.239131</td>\n",
       "      <td id=\"T_3f386_row8_col19\" class=\"data row8 col19\" >76121.000000</td>\n",
       "      <td id=\"T_3f386_row8_col20\" class=\"data row8 col20\" >60.426441</td>\n",
       "      <td id=\"T_3f386_row8_col21\" class=\"data row8 col21\" >0.000000</td>\n",
       "      <td id=\"T_3f386_row8_col22\" class=\"data row8 col22\" >0.000000</td>\n",
       "    </tr>\n",
       "    <tr>\n",
       "      <th id=\"T_3f386_level0_row9\" class=\"row_heading level0 row9\" >num_compromised</th>\n",
       "      <td id=\"T_3f386_row9_col0\" class=\"data row9 col0\" >125973.000000</td>\n",
       "      <td id=\"T_3f386_row9_col1\" class=\"data row9 col1\" >35178.000000</td>\n",
       "      <td id=\"T_3f386_row9_col2\" class=\"data row9 col2\" >0.279250</td>\n",
       "      <td id=\"T_3f386_row9_col3\" class=\"data row9 col3\" >0.000000</td>\n",
       "      <td id=\"T_3f386_row9_col4\" class=\"data row9 col4\" >0.000000</td>\n",
       "      <td id=\"T_3f386_row9_col5\" class=\"data row9 col5\" >0.000000</td>\n",
       "      <td id=\"T_3f386_row9_col6\" class=\"data row9 col6\" >0.000000</td>\n",
       "      <td id=\"T_3f386_row9_col7\" class=\"data row9 col7\" >0.000000</td>\n",
       "      <td id=\"T_3f386_row9_col8\" class=\"data row9 col8\" >0.000000</td>\n",
       "      <td id=\"T_3f386_row9_col9\" class=\"data row9 col9\" >0.000000</td>\n",
       "      <td id=\"T_3f386_row9_col10\" class=\"data row9 col10\" >0.000000</td>\n",
       "      <td id=\"T_3f386_row9_col11\" class=\"data row9 col11\" >0.000000</td>\n",
       "      <td id=\"T_3f386_row9_col12\" class=\"data row9 col12\" >0.000000</td>\n",
       "      <td id=\"T_3f386_row9_col13\" class=\"data row9 col13\" >1.000000</td>\n",
       "      <td id=\"T_3f386_row9_col14\" class=\"data row9 col14\" >7479.000000</td>\n",
       "      <td id=\"T_3f386_row9_col15\" class=\"data row9 col15\" >250.107883</td>\n",
       "      <td id=\"T_3f386_row9_col16\" class=\"data row9 col16\" >75956.227694</td>\n",
       "      <td id=\"T_3f386_row9_col17\" class=\"data row9 col17\" >23.942042</td>\n",
       "      <td id=\"T_3f386_row9_col18\" class=\"data row9 col18\" >573.221387</td>\n",
       "      <td id=\"T_3f386_row9_col19\" class=\"data row9 col19\" >124687.000000</td>\n",
       "      <td id=\"T_3f386_row9_col20\" class=\"data row9 col20\" >98.979146</td>\n",
       "      <td id=\"T_3f386_row9_col21\" class=\"data row9 col21\" >0.000000</td>\n",
       "      <td id=\"T_3f386_row9_col22\" class=\"data row9 col22\" >0.000000</td>\n",
       "    </tr>\n",
       "    <tr>\n",
       "      <th id=\"T_3f386_level0_row10\" class=\"row_heading level0 row10\" >root_shell</th>\n",
       "      <td id=\"T_3f386_row10_col0\" class=\"data row10 col0\" >125973.000000</td>\n",
       "      <td id=\"T_3f386_row10_col1\" class=\"data row10 col1\" >169.000000</td>\n",
       "      <td id=\"T_3f386_row10_col2\" class=\"data row10 col2\" >0.001342</td>\n",
       "      <td id=\"T_3f386_row10_col3\" class=\"data row10 col3\" >0.000000</td>\n",
       "      <td id=\"T_3f386_row10_col4\" class=\"data row10 col4\" >0.000000</td>\n",
       "      <td id=\"T_3f386_row10_col5\" class=\"data row10 col5\" >0.000000</td>\n",
       "      <td id=\"T_3f386_row10_col6\" class=\"data row10 col6\" >0.000000</td>\n",
       "      <td id=\"T_3f386_row10_col7\" class=\"data row10 col7\" >0.000000</td>\n",
       "      <td id=\"T_3f386_row10_col8\" class=\"data row10 col8\" >0.000000</td>\n",
       "      <td id=\"T_3f386_row10_col9\" class=\"data row10 col9\" >0.000000</td>\n",
       "      <td id=\"T_3f386_row10_col10\" class=\"data row10 col10\" >0.000000</td>\n",
       "      <td id=\"T_3f386_row10_col11\" class=\"data row10 col11\" >0.000000</td>\n",
       "      <td id=\"T_3f386_row10_col12\" class=\"data row10 col12\" >0.000000</td>\n",
       "      <td id=\"T_3f386_row10_col13\" class=\"data row10 col13\" >0.000000</td>\n",
       "      <td id=\"T_3f386_row10_col14\" class=\"data row10 col14\" >1.000000</td>\n",
       "      <td id=\"T_3f386_row10_col15\" class=\"data row10 col15\" >27.247411</td>\n",
       "      <td id=\"T_3f386_row10_col16\" class=\"data row10 col16\" >740.433146</td>\n",
       "      <td id=\"T_3f386_row10_col17\" class=\"data row10 col17\" >0.036603</td>\n",
       "      <td id=\"T_3f386_row10_col18\" class=\"data row10 col18\" >0.001340</td>\n",
       "      <td id=\"T_3f386_row10_col19\" class=\"data row10 col19\" >125804.000000</td>\n",
       "      <td id=\"T_3f386_row10_col20\" class=\"data row10 col20\" >99.865844</td>\n",
       "      <td id=\"T_3f386_row10_col21\" class=\"data row10 col21\" >0.000000</td>\n",
       "      <td id=\"T_3f386_row10_col22\" class=\"data row10 col22\" >0.000000</td>\n",
       "    </tr>\n",
       "    <tr>\n",
       "      <th id=\"T_3f386_level0_row11\" class=\"row_heading level0 row11\" >su_attempted</th>\n",
       "      <td id=\"T_3f386_row11_col0\" class=\"data row11 col0\" >125973.000000</td>\n",
       "      <td id=\"T_3f386_row11_col1\" class=\"data row11 col1\" >139.000000</td>\n",
       "      <td id=\"T_3f386_row11_col2\" class=\"data row11 col2\" >0.001103</td>\n",
       "      <td id=\"T_3f386_row11_col3\" class=\"data row11 col3\" >0.000000</td>\n",
       "      <td id=\"T_3f386_row11_col4\" class=\"data row11 col4\" >0.000000</td>\n",
       "      <td id=\"T_3f386_row11_col5\" class=\"data row11 col5\" >0.000000</td>\n",
       "      <td id=\"T_3f386_row11_col6\" class=\"data row11 col6\" >0.000000</td>\n",
       "      <td id=\"T_3f386_row11_col7\" class=\"data row11 col7\" >0.000000</td>\n",
       "      <td id=\"T_3f386_row11_col8\" class=\"data row11 col8\" >0.000000</td>\n",
       "      <td id=\"T_3f386_row11_col9\" class=\"data row11 col9\" >0.000000</td>\n",
       "      <td id=\"T_3f386_row11_col10\" class=\"data row11 col10\" >0.000000</td>\n",
       "      <td id=\"T_3f386_row11_col11\" class=\"data row11 col11\" >0.000000</td>\n",
       "      <td id=\"T_3f386_row11_col12\" class=\"data row11 col12\" >0.000000</td>\n",
       "      <td id=\"T_3f386_row11_col13\" class=\"data row11 col13\" >0.000000</td>\n",
       "      <td id=\"T_3f386_row11_col14\" class=\"data row11 col14\" >2.000000</td>\n",
       "      <td id=\"T_3f386_row11_col15\" class=\"data row11 col15\" >42.435591</td>\n",
       "      <td id=\"T_3f386_row11_col16\" class=\"data row11 col16\" >1835.631728</td>\n",
       "      <td id=\"T_3f386_row11_col17\" class=\"data row11 col17\" >0.045154</td>\n",
       "      <td id=\"T_3f386_row11_col18\" class=\"data row11 col18\" >0.002039</td>\n",
       "      <td id=\"T_3f386_row11_col19\" class=\"data row11 col19\" >125893.000000</td>\n",
       "      <td id=\"T_3f386_row11_col20\" class=\"data row11 col20\" >99.936494</td>\n",
       "      <td id=\"T_3f386_row11_col21\" class=\"data row11 col21\" >0.000000</td>\n",
       "      <td id=\"T_3f386_row11_col22\" class=\"data row11 col22\" >0.000000</td>\n",
       "    </tr>\n",
       "    <tr>\n",
       "      <th id=\"T_3f386_level0_row12\" class=\"row_heading level0 row12\" >num_root</th>\n",
       "      <td id=\"T_3f386_row12_col0\" class=\"data row12 col0\" >125973.000000</td>\n",
       "      <td id=\"T_3f386_row12_col1\" class=\"data row12 col1\" >38068.000000</td>\n",
       "      <td id=\"T_3f386_row12_col2\" class=\"data row12 col2\" >0.302192</td>\n",
       "      <td id=\"T_3f386_row12_col3\" class=\"data row12 col3\" >0.000000</td>\n",
       "      <td id=\"T_3f386_row12_col4\" class=\"data row12 col4\" >0.000000</td>\n",
       "      <td id=\"T_3f386_row12_col5\" class=\"data row12 col5\" >0.000000</td>\n",
       "      <td id=\"T_3f386_row12_col6\" class=\"data row12 col6\" >0.000000</td>\n",
       "      <td id=\"T_3f386_row12_col7\" class=\"data row12 col7\" >0.000000</td>\n",
       "      <td id=\"T_3f386_row12_col8\" class=\"data row12 col8\" >0.000000</td>\n",
       "      <td id=\"T_3f386_row12_col9\" class=\"data row12 col9\" >0.000000</td>\n",
       "      <td id=\"T_3f386_row12_col10\" class=\"data row12 col10\" >0.000000</td>\n",
       "      <td id=\"T_3f386_row12_col11\" class=\"data row12 col11\" >0.000000</td>\n",
       "      <td id=\"T_3f386_row12_col12\" class=\"data row12 col12\" >0.000000</td>\n",
       "      <td id=\"T_3f386_row12_col13\" class=\"data row12 col13\" >0.000000</td>\n",
       "      <td id=\"T_3f386_row12_col14\" class=\"data row12 col14\" >7468.000000</td>\n",
       "      <td id=\"T_3f386_row12_col15\" class=\"data row12 col15\" >236.913724</td>\n",
       "      <td id=\"T_3f386_row12_col16\" class=\"data row12 col16\" >70070.208760</td>\n",
       "      <td id=\"T_3f386_row12_col17\" class=\"data row12 col17\" >24.399618</td>\n",
       "      <td id=\"T_3f386_row12_col18\" class=\"data row12 col18\" >595.341363</td>\n",
       "      <td id=\"T_3f386_row12_col19\" class=\"data row12 col19\" >125324.000000</td>\n",
       "      <td id=\"T_3f386_row12_col20\" class=\"data row12 col20\" >99.484810</td>\n",
       "      <td id=\"T_3f386_row12_col21\" class=\"data row12 col21\" >0.000000</td>\n",
       "      <td id=\"T_3f386_row12_col22\" class=\"data row12 col22\" >0.000000</td>\n",
       "    </tr>\n",
       "    <tr>\n",
       "      <th id=\"T_3f386_level0_row13\" class=\"row_heading level0 row13\" >num_file_creations</th>\n",
       "      <td id=\"T_3f386_row13_col0\" class=\"data row13 col0\" >125973.000000</td>\n",
       "      <td id=\"T_3f386_row13_col1\" class=\"data row13 col1\" >1596.000000</td>\n",
       "      <td id=\"T_3f386_row13_col2\" class=\"data row13 col2\" >0.012669</td>\n",
       "      <td id=\"T_3f386_row13_col3\" class=\"data row13 col3\" >0.000000</td>\n",
       "      <td id=\"T_3f386_row13_col4\" class=\"data row13 col4\" >0.000000</td>\n",
       "      <td id=\"T_3f386_row13_col5\" class=\"data row13 col5\" >0.000000</td>\n",
       "      <td id=\"T_3f386_row13_col6\" class=\"data row13 col6\" >0.000000</td>\n",
       "      <td id=\"T_3f386_row13_col7\" class=\"data row13 col7\" >0.000000</td>\n",
       "      <td id=\"T_3f386_row13_col8\" class=\"data row13 col8\" >0.000000</td>\n",
       "      <td id=\"T_3f386_row13_col9\" class=\"data row13 col9\" >0.000000</td>\n",
       "      <td id=\"T_3f386_row13_col10\" class=\"data row13 col10\" >0.000000</td>\n",
       "      <td id=\"T_3f386_row13_col11\" class=\"data row13 col11\" >0.000000</td>\n",
       "      <td id=\"T_3f386_row13_col12\" class=\"data row13 col12\" >0.000000</td>\n",
       "      <td id=\"T_3f386_row13_col13\" class=\"data row13 col13\" >0.000000</td>\n",
       "      <td id=\"T_3f386_row13_col14\" class=\"data row13 col14\" >43.000000</td>\n",
       "      <td id=\"T_3f386_row13_col15\" class=\"data row13 col15\" >55.665341</td>\n",
       "      <td id=\"T_3f386_row13_col16\" class=\"data row13 col16\" >3603.311713</td>\n",
       "      <td id=\"T_3f386_row13_col17\" class=\"data row13 col17\" >0.483935</td>\n",
       "      <td id=\"T_3f386_row13_col18\" class=\"data row13 col18\" >0.234193</td>\n",
       "      <td id=\"T_3f386_row13_col19\" class=\"data row13 col19\" >125686.000000</td>\n",
       "      <td id=\"T_3f386_row13_col20\" class=\"data row13 col20\" >99.772173</td>\n",
       "      <td id=\"T_3f386_row13_col21\" class=\"data row13 col21\" >0.000000</td>\n",
       "      <td id=\"T_3f386_row13_col22\" class=\"data row13 col22\" >0.000000</td>\n",
       "    </tr>\n",
       "    <tr>\n",
       "      <th id=\"T_3f386_level0_row14\" class=\"row_heading level0 row14\" >num_shells</th>\n",
       "      <td id=\"T_3f386_row14_col0\" class=\"data row14 col0\" >125973.000000</td>\n",
       "      <td id=\"T_3f386_row14_col1\" class=\"data row14 col1\" >52.000000</td>\n",
       "      <td id=\"T_3f386_row14_col2\" class=\"data row14 col2\" >0.000413</td>\n",
       "      <td id=\"T_3f386_row14_col3\" class=\"data row14 col3\" >0.000000</td>\n",
       "      <td id=\"T_3f386_row14_col4\" class=\"data row14 col4\" >0.000000</td>\n",
       "      <td id=\"T_3f386_row14_col5\" class=\"data row14 col5\" >0.000000</td>\n",
       "      <td id=\"T_3f386_row14_col6\" class=\"data row14 col6\" >0.000000</td>\n",
       "      <td id=\"T_3f386_row14_col7\" class=\"data row14 col7\" >0.000000</td>\n",
       "      <td id=\"T_3f386_row14_col8\" class=\"data row14 col8\" >0.000000</td>\n",
       "      <td id=\"T_3f386_row14_col9\" class=\"data row14 col9\" >0.000000</td>\n",
       "      <td id=\"T_3f386_row14_col10\" class=\"data row14 col10\" >0.000000</td>\n",
       "      <td id=\"T_3f386_row14_col11\" class=\"data row14 col11\" >0.000000</td>\n",
       "      <td id=\"T_3f386_row14_col12\" class=\"data row14 col12\" >0.000000</td>\n",
       "      <td id=\"T_3f386_row14_col13\" class=\"data row14 col13\" >0.000000</td>\n",
       "      <td id=\"T_3f386_row14_col14\" class=\"data row14 col14\" >2.000000</td>\n",
       "      <td id=\"T_3f386_row14_col15\" class=\"data row14 col15\" >59.592151</td>\n",
       "      <td id=\"T_3f386_row14_col16\" class=\"data row14 col16\" >3993.592804</td>\n",
       "      <td id=\"T_3f386_row14_col17\" class=\"data row14 col17\" >0.022181</td>\n",
       "      <td id=\"T_3f386_row14_col18\" class=\"data row14 col18\" >0.000492</td>\n",
       "      <td id=\"T_3f386_row14_col19\" class=\"data row14 col19\" >125926.000000</td>\n",
       "      <td id=\"T_3f386_row14_col20\" class=\"data row14 col20\" >99.962690</td>\n",
       "      <td id=\"T_3f386_row14_col21\" class=\"data row14 col21\" >0.000000</td>\n",
       "      <td id=\"T_3f386_row14_col22\" class=\"data row14 col22\" >0.000000</td>\n",
       "    </tr>\n",
       "    <tr>\n",
       "      <th id=\"T_3f386_level0_row15\" class=\"row_heading level0 row15\" >num_access_files</th>\n",
       "      <td id=\"T_3f386_row15_col0\" class=\"data row15 col0\" >125973.000000</td>\n",
       "      <td id=\"T_3f386_row15_col1\" class=\"data row15 col1\" >516.000000</td>\n",
       "      <td id=\"T_3f386_row15_col2\" class=\"data row15 col2\" >0.004096</td>\n",
       "      <td id=\"T_3f386_row15_col3\" class=\"data row15 col3\" >0.000000</td>\n",
       "      <td id=\"T_3f386_row15_col4\" class=\"data row15 col4\" >0.000000</td>\n",
       "      <td id=\"T_3f386_row15_col5\" class=\"data row15 col5\" >0.000000</td>\n",
       "      <td id=\"T_3f386_row15_col6\" class=\"data row15 col6\" >0.000000</td>\n",
       "      <td id=\"T_3f386_row15_col7\" class=\"data row15 col7\" >0.000000</td>\n",
       "      <td id=\"T_3f386_row15_col8\" class=\"data row15 col8\" >0.000000</td>\n",
       "      <td id=\"T_3f386_row15_col9\" class=\"data row15 col9\" >0.000000</td>\n",
       "      <td id=\"T_3f386_row15_col10\" class=\"data row15 col10\" >0.000000</td>\n",
       "      <td id=\"T_3f386_row15_col11\" class=\"data row15 col11\" >0.000000</td>\n",
       "      <td id=\"T_3f386_row15_col12\" class=\"data row15 col12\" >0.000000</td>\n",
       "      <td id=\"T_3f386_row15_col13\" class=\"data row15 col13\" >0.000000</td>\n",
       "      <td id=\"T_3f386_row15_col14\" class=\"data row15 col14\" >9.000000</td>\n",
       "      <td id=\"T_3f386_row15_col15\" class=\"data row15 col15\" >45.554961</td>\n",
       "      <td id=\"T_3f386_row15_col16\" class=\"data row15 col16\" >2862.804357</td>\n",
       "      <td id=\"T_3f386_row15_col17\" class=\"data row15 col17\" >0.099370</td>\n",
       "      <td id=\"T_3f386_row15_col18\" class=\"data row15 col18\" >0.009874</td>\n",
       "      <td id=\"T_3f386_row15_col19\" class=\"data row15 col19\" >125602.000000</td>\n",
       "      <td id=\"T_3f386_row15_col20\" class=\"data row15 col20\" >99.705492</td>\n",
       "      <td id=\"T_3f386_row15_col21\" class=\"data row15 col21\" >0.000000</td>\n",
       "      <td id=\"T_3f386_row15_col22\" class=\"data row15 col22\" >0.000000</td>\n",
       "    </tr>\n",
       "    <tr>\n",
       "      <th id=\"T_3f386_level0_row16\" class=\"row_heading level0 row16\" >num_outbound_cmds</th>\n",
       "      <td id=\"T_3f386_row16_col0\" class=\"data row16 col0\" >125973.000000</td>\n",
       "      <td id=\"T_3f386_row16_col1\" class=\"data row16 col1\" >0.000000</td>\n",
       "      <td id=\"T_3f386_row16_col2\" class=\"data row16 col2\" >0.000000</td>\n",
       "      <td id=\"T_3f386_row16_col3\" class=\"data row16 col3\" >0.000000</td>\n",
       "      <td id=\"T_3f386_row16_col4\" class=\"data row16 col4\" >0.000000</td>\n",
       "      <td id=\"T_3f386_row16_col5\" class=\"data row16 col5\" >0.000000</td>\n",
       "      <td id=\"T_3f386_row16_col6\" class=\"data row16 col6\" >0.000000</td>\n",
       "      <td id=\"T_3f386_row16_col7\" class=\"data row16 col7\" >0.000000</td>\n",
       "      <td id=\"T_3f386_row16_col8\" class=\"data row16 col8\" >0.000000</td>\n",
       "      <td id=\"T_3f386_row16_col9\" class=\"data row16 col9\" >0.000000</td>\n",
       "      <td id=\"T_3f386_row16_col10\" class=\"data row16 col10\" >0.000000</td>\n",
       "      <td id=\"T_3f386_row16_col11\" class=\"data row16 col11\" >0.000000</td>\n",
       "      <td id=\"T_3f386_row16_col12\" class=\"data row16 col12\" >0.000000</td>\n",
       "      <td id=\"T_3f386_row16_col13\" class=\"data row16 col13\" >0.000000</td>\n",
       "      <td id=\"T_3f386_row16_col14\" class=\"data row16 col14\" >0.000000</td>\n",
       "      <td id=\"T_3f386_row16_col15\" class=\"data row16 col15\" >0.000000</td>\n",
       "      <td id=\"T_3f386_row16_col16\" class=\"data row16 col16\" >0.000000</td>\n",
       "      <td id=\"T_3f386_row16_col17\" class=\"data row16 col17\" >0.000000</td>\n",
       "      <td id=\"T_3f386_row16_col18\" class=\"data row16 col18\" >0.000000</td>\n",
       "      <td id=\"T_3f386_row16_col19\" class=\"data row16 col19\" >125973.000000</td>\n",
       "      <td id=\"T_3f386_row16_col20\" class=\"data row16 col20\" >100.000000</td>\n",
       "      <td id=\"T_3f386_row16_col21\" class=\"data row16 col21\" >0.000000</td>\n",
       "      <td id=\"T_3f386_row16_col22\" class=\"data row16 col22\" >0.000000</td>\n",
       "    </tr>\n",
       "    <tr>\n",
       "      <th id=\"T_3f386_level0_row17\" class=\"row_heading level0 row17\" >is_host_login</th>\n",
       "      <td id=\"T_3f386_row17_col0\" class=\"data row17 col0\" >125973.000000</td>\n",
       "      <td id=\"T_3f386_row17_col1\" class=\"data row17 col1\" >1.000000</td>\n",
       "      <td id=\"T_3f386_row17_col2\" class=\"data row17 col2\" >0.000008</td>\n",
       "      <td id=\"T_3f386_row17_col3\" class=\"data row17 col3\" >0.000000</td>\n",
       "      <td id=\"T_3f386_row17_col4\" class=\"data row17 col4\" >0.000000</td>\n",
       "      <td id=\"T_3f386_row17_col5\" class=\"data row17 col5\" >0.000000</td>\n",
       "      <td id=\"T_3f386_row17_col6\" class=\"data row17 col6\" >0.000000</td>\n",
       "      <td id=\"T_3f386_row17_col7\" class=\"data row17 col7\" >0.000000</td>\n",
       "      <td id=\"T_3f386_row17_col8\" class=\"data row17 col8\" >0.000000</td>\n",
       "      <td id=\"T_3f386_row17_col9\" class=\"data row17 col9\" >0.000000</td>\n",
       "      <td id=\"T_3f386_row17_col10\" class=\"data row17 col10\" >0.000000</td>\n",
       "      <td id=\"T_3f386_row17_col11\" class=\"data row17 col11\" >0.000000</td>\n",
       "      <td id=\"T_3f386_row17_col12\" class=\"data row17 col12\" >0.000000</td>\n",
       "      <td id=\"T_3f386_row17_col13\" class=\"data row17 col13\" >0.000000</td>\n",
       "      <td id=\"T_3f386_row17_col14\" class=\"data row17 col14\" >1.000000</td>\n",
       "      <td id=\"T_3f386_row17_col15\" class=\"data row17 col15\" >354.926753</td>\n",
       "      <td id=\"T_3f386_row17_col16\" class=\"data row17 col16\" >125973.000000</td>\n",
       "      <td id=\"T_3f386_row17_col17\" class=\"data row17 col17\" >0.002817</td>\n",
       "      <td id=\"T_3f386_row17_col18\" class=\"data row17 col18\" >0.000008</td>\n",
       "      <td id=\"T_3f386_row17_col19\" class=\"data row17 col19\" >125972.000000</td>\n",
       "      <td id=\"T_3f386_row17_col20\" class=\"data row17 col20\" >99.999206</td>\n",
       "      <td id=\"T_3f386_row17_col21\" class=\"data row17 col21\" >0.000000</td>\n",
       "      <td id=\"T_3f386_row17_col22\" class=\"data row17 col22\" >0.000000</td>\n",
       "    </tr>\n",
       "    <tr>\n",
       "      <th id=\"T_3f386_level0_row18\" class=\"row_heading level0 row18\" >is_guest_login</th>\n",
       "      <td id=\"T_3f386_row18_col0\" class=\"data row18 col0\" >125973.000000</td>\n",
       "      <td id=\"T_3f386_row18_col1\" class=\"data row18 col1\" >1187.000000</td>\n",
       "      <td id=\"T_3f386_row18_col2\" class=\"data row18 col2\" >0.009423</td>\n",
       "      <td id=\"T_3f386_row18_col3\" class=\"data row18 col3\" >0.000000</td>\n",
       "      <td id=\"T_3f386_row18_col4\" class=\"data row18 col4\" >0.000000</td>\n",
       "      <td id=\"T_3f386_row18_col5\" class=\"data row18 col5\" >0.000000</td>\n",
       "      <td id=\"T_3f386_row18_col6\" class=\"data row18 col6\" >0.000000</td>\n",
       "      <td id=\"T_3f386_row18_col7\" class=\"data row18 col7\" >0.000000</td>\n",
       "      <td id=\"T_3f386_row18_col8\" class=\"data row18 col8\" >0.000000</td>\n",
       "      <td id=\"T_3f386_row18_col9\" class=\"data row18 col9\" >0.000000</td>\n",
       "      <td id=\"T_3f386_row18_col10\" class=\"data row18 col10\" >0.000000</td>\n",
       "      <td id=\"T_3f386_row18_col11\" class=\"data row18 col11\" >0.000000</td>\n",
       "      <td id=\"T_3f386_row18_col12\" class=\"data row18 col12\" >0.000000</td>\n",
       "      <td id=\"T_3f386_row18_col13\" class=\"data row18 col13\" >0.000000</td>\n",
       "      <td id=\"T_3f386_row18_col14\" class=\"data row18 col14\" >1.000000</td>\n",
       "      <td id=\"T_3f386_row18_col15\" class=\"data row18 col15\" >10.155746</td>\n",
       "      <td id=\"T_3f386_row18_col16\" class=\"data row18 col16\" >101.140786</td>\n",
       "      <td id=\"T_3f386_row18_col17\" class=\"data row18 col17\" >0.096612</td>\n",
       "      <td id=\"T_3f386_row18_col18\" class=\"data row18 col18\" >0.009334</td>\n",
       "      <td id=\"T_3f386_row18_col19\" class=\"data row18 col19\" >124786.000000</td>\n",
       "      <td id=\"T_3f386_row18_col20\" class=\"data row18 col20\" >99.057735</td>\n",
       "      <td id=\"T_3f386_row18_col21\" class=\"data row18 col21\" >0.000000</td>\n",
       "      <td id=\"T_3f386_row18_col22\" class=\"data row18 col22\" >0.000000</td>\n",
       "    </tr>\n",
       "    <tr>\n",
       "      <th id=\"T_3f386_level0_row19\" class=\"row_heading level0 row19\" >count</th>\n",
       "      <td id=\"T_3f386_row19_col0\" class=\"data row19 col0\" >125973.000000</td>\n",
       "      <td id=\"T_3f386_row19_col1\" class=\"data row19 col1\" >10595281.000000</td>\n",
       "      <td id=\"T_3f386_row19_col2\" class=\"data row19 col2\" >84.107555</td>\n",
       "      <td id=\"T_3f386_row19_col3\" class=\"data row19 col3\" >14.000000</td>\n",
       "      <td id=\"T_3f386_row19_col4\" class=\"data row19 col4\" >0.000000</td>\n",
       "      <td id=\"T_3f386_row19_col5\" class=\"data row19 col5\" >1.000000</td>\n",
       "      <td id=\"T_3f386_row19_col6\" class=\"data row19 col6\" >1.000000</td>\n",
       "      <td id=\"T_3f386_row19_col7\" class=\"data row19 col7\" >1.000000</td>\n",
       "      <td id=\"T_3f386_row19_col8\" class=\"data row19 col8\" >2.000000</td>\n",
       "      <td id=\"T_3f386_row19_col9\" class=\"data row19 col9\" >14.000000</td>\n",
       "      <td id=\"T_3f386_row19_col10\" class=\"data row19 col10\" >143.000000</td>\n",
       "      <td id=\"T_3f386_row19_col11\" class=\"data row19 col11\" >256.000000</td>\n",
       "      <td id=\"T_3f386_row19_col12\" class=\"data row19 col12\" >286.000000</td>\n",
       "      <td id=\"T_3f386_row19_col13\" class=\"data row19 col13\" >511.000000</td>\n",
       "      <td id=\"T_3f386_row19_col14\" class=\"data row19 col14\" >511.000000</td>\n",
       "      <td id=\"T_3f386_row19_col15\" class=\"data row19 col15\" >1.514275</td>\n",
       "      <td id=\"T_3f386_row19_col16\" class=\"data row19 col16\" >2.006917</td>\n",
       "      <td id=\"T_3f386_row19_col17\" class=\"data row19 col17\" >114.508607</td>\n",
       "      <td id=\"T_3f386_row19_col18\" class=\"data row19 col18\" >13112.221158</td>\n",
       "      <td id=\"T_3f386_row19_col19\" class=\"data row19 col19\" >13.000000</td>\n",
       "      <td id=\"T_3f386_row19_col20\" class=\"data row19 col20\" >0.010320</td>\n",
       "      <td id=\"T_3f386_row19_col21\" class=\"data row19 col21\" >0.000000</td>\n",
       "      <td id=\"T_3f386_row19_col22\" class=\"data row19 col22\" >0.000000</td>\n",
       "    </tr>\n",
       "    <tr>\n",
       "      <th id=\"T_3f386_level0_row20\" class=\"row_heading level0 row20\" >srv_count</th>\n",
       "      <td id=\"T_3f386_row20_col0\" class=\"data row20 col0\" >125973.000000</td>\n",
       "      <td id=\"T_3f386_row20_col1\" class=\"data row20 col1\" >3494225.000000</td>\n",
       "      <td id=\"T_3f386_row20_col2\" class=\"data row20 col2\" >27.737888</td>\n",
       "      <td id=\"T_3f386_row20_col3\" class=\"data row20 col3\" >8.000000</td>\n",
       "      <td id=\"T_3f386_row20_col4\" class=\"data row20 col4\" >0.000000</td>\n",
       "      <td id=\"T_3f386_row20_col5\" class=\"data row20 col5\" >1.000000</td>\n",
       "      <td id=\"T_3f386_row20_col6\" class=\"data row20 col6\" >1.000000</td>\n",
       "      <td id=\"T_3f386_row20_col7\" class=\"data row20 col7\" >1.000000</td>\n",
       "      <td id=\"T_3f386_row20_col8\" class=\"data row20 col8\" >2.000000</td>\n",
       "      <td id=\"T_3f386_row20_col9\" class=\"data row20 col9\" >8.000000</td>\n",
       "      <td id=\"T_3f386_row20_col10\" class=\"data row20 col10\" >18.000000</td>\n",
       "      <td id=\"T_3f386_row20_col11\" class=\"data row20 col11\" >40.000000</td>\n",
       "      <td id=\"T_3f386_row20_col12\" class=\"data row20 col12\" >158.000000</td>\n",
       "      <td id=\"T_3f386_row20_col13\" class=\"data row20 col13\" >492.000000</td>\n",
       "      <td id=\"T_3f386_row20_col14\" class=\"data row20 col14\" >511.000000</td>\n",
       "      <td id=\"T_3f386_row20_col15\" class=\"data row20 col15\" >4.694162</td>\n",
       "      <td id=\"T_3f386_row20_col16\" class=\"data row20 col16\" >24.244484</td>\n",
       "      <td id=\"T_3f386_row20_col17\" class=\"data row20 col17\" >72.635840</td>\n",
       "      <td id=\"T_3f386_row20_col18\" class=\"data row20 col18\" >5275.965201</td>\n",
       "      <td id=\"T_3f386_row20_col19\" class=\"data row20 col19\" >13.000000</td>\n",
       "      <td id=\"T_3f386_row20_col20\" class=\"data row20 col20\" >0.010320</td>\n",
       "      <td id=\"T_3f386_row20_col21\" class=\"data row20 col21\" >0.000000</td>\n",
       "      <td id=\"T_3f386_row20_col22\" class=\"data row20 col22\" >0.000000</td>\n",
       "    </tr>\n",
       "    <tr>\n",
       "      <th id=\"T_3f386_level0_row21\" class=\"row_heading level0 row21\" >serror_rate</th>\n",
       "      <td id=\"T_3f386_row21_col0\" class=\"data row21 col0\" >125973.000000</td>\n",
       "      <td id=\"T_3f386_row21_col1\" class=\"data row21 col1\" >35837.370000</td>\n",
       "      <td id=\"T_3f386_row21_col2\" class=\"data row21 col2\" >0.284485</td>\n",
       "      <td id=\"T_3f386_row21_col3\" class=\"data row21 col3\" >0.000000</td>\n",
       "      <td id=\"T_3f386_row21_col4\" class=\"data row21 col4\" >0.000000</td>\n",
       "      <td id=\"T_3f386_row21_col5\" class=\"data row21 col5\" >0.000000</td>\n",
       "      <td id=\"T_3f386_row21_col6\" class=\"data row21 col6\" >0.000000</td>\n",
       "      <td id=\"T_3f386_row21_col7\" class=\"data row21 col7\" >0.000000</td>\n",
       "      <td id=\"T_3f386_row21_col8\" class=\"data row21 col8\" >0.000000</td>\n",
       "      <td id=\"T_3f386_row21_col9\" class=\"data row21 col9\" >0.000000</td>\n",
       "      <td id=\"T_3f386_row21_col10\" class=\"data row21 col10\" >1.000000</td>\n",
       "      <td id=\"T_3f386_row21_col11\" class=\"data row21 col11\" >1.000000</td>\n",
       "      <td id=\"T_3f386_row21_col12\" class=\"data row21 col12\" >1.000000</td>\n",
       "      <td id=\"T_3f386_row21_col13\" class=\"data row21 col13\" >1.000000</td>\n",
       "      <td id=\"T_3f386_row21_col14\" class=\"data row21 col14\" >1.000000</td>\n",
       "      <td id=\"T_3f386_row21_col15\" class=\"data row21 col15\" >0.963201</td>\n",
       "      <td id=\"T_3f386_row21_col16\" class=\"data row21 col16\" >-1.054604</td>\n",
       "      <td id=\"T_3f386_row21_col17\" class=\"data row21 col17\" >0.446456</td>\n",
       "      <td id=\"T_3f386_row21_col18\" class=\"data row21 col18\" >0.199323</td>\n",
       "      <td id=\"T_3f386_row21_col19\" class=\"data row21 col19\" >86829.000000</td>\n",
       "      <td id=\"T_3f386_row21_col20\" class=\"data row21 col20\" >68.926675</td>\n",
       "      <td id=\"T_3f386_row21_col21\" class=\"data row21 col21\" >0.000000</td>\n",
       "      <td id=\"T_3f386_row21_col22\" class=\"data row21 col22\" >0.000000</td>\n",
       "    </tr>\n",
       "    <tr>\n",
       "      <th id=\"T_3f386_level0_row22\" class=\"row_heading level0 row22\" >srv_serror_rate</th>\n",
       "      <td id=\"T_3f386_row22_col0\" class=\"data row22 col0\" >125973.000000</td>\n",
       "      <td id=\"T_3f386_row22_col1\" class=\"data row22 col1\" >35585.530000</td>\n",
       "      <td id=\"T_3f386_row22_col2\" class=\"data row22 col2\" >0.282485</td>\n",
       "      <td id=\"T_3f386_row22_col3\" class=\"data row22 col3\" >0.000000</td>\n",
       "      <td id=\"T_3f386_row22_col4\" class=\"data row22 col4\" >0.000000</td>\n",
       "      <td id=\"T_3f386_row22_col5\" class=\"data row22 col5\" >0.000000</td>\n",
       "      <td id=\"T_3f386_row22_col6\" class=\"data row22 col6\" >0.000000</td>\n",
       "      <td id=\"T_3f386_row22_col7\" class=\"data row22 col7\" >0.000000</td>\n",
       "      <td id=\"T_3f386_row22_col8\" class=\"data row22 col8\" >0.000000</td>\n",
       "      <td id=\"T_3f386_row22_col9\" class=\"data row22 col9\" >0.000000</td>\n",
       "      <td id=\"T_3f386_row22_col10\" class=\"data row22 col10\" >1.000000</td>\n",
       "      <td id=\"T_3f386_row22_col11\" class=\"data row22 col11\" >1.000000</td>\n",
       "      <td id=\"T_3f386_row22_col12\" class=\"data row22 col12\" >1.000000</td>\n",
       "      <td id=\"T_3f386_row22_col13\" class=\"data row22 col13\" >1.000000</td>\n",
       "      <td id=\"T_3f386_row22_col14\" class=\"data row22 col14\" >1.000000</td>\n",
       "      <td id=\"T_3f386_row22_col15\" class=\"data row22 col15\" >0.970597</td>\n",
       "      <td id=\"T_3f386_row22_col16\" class=\"data row22 col16\" >-1.044294</td>\n",
       "      <td id=\"T_3f386_row22_col17\" class=\"data row22 col17\" >0.447022</td>\n",
       "      <td id=\"T_3f386_row22_col18\" class=\"data row22 col18\" >0.199829</td>\n",
       "      <td id=\"T_3f386_row22_col19\" class=\"data row22 col19\" >88754.000000</td>\n",
       "      <td id=\"T_3f386_row22_col20\" class=\"data row22 col20\" >70.454780</td>\n",
       "      <td id=\"T_3f386_row22_col21\" class=\"data row22 col21\" >0.000000</td>\n",
       "      <td id=\"T_3f386_row22_col22\" class=\"data row22 col22\" >0.000000</td>\n",
       "    </tr>\n",
       "    <tr>\n",
       "      <th id=\"T_3f386_level0_row23\" class=\"row_heading level0 row23\" >rerror_rate</th>\n",
       "      <td id=\"T_3f386_row23_col0\" class=\"data row23 col0\" >125973.000000</td>\n",
       "      <td id=\"T_3f386_row23_col1\" class=\"data row23 col1\" >15111.530000</td>\n",
       "      <td id=\"T_3f386_row23_col2\" class=\"data row23 col2\" >0.119958</td>\n",
       "      <td id=\"T_3f386_row23_col3\" class=\"data row23 col3\" >0.000000</td>\n",
       "      <td id=\"T_3f386_row23_col4\" class=\"data row23 col4\" >0.000000</td>\n",
       "      <td id=\"T_3f386_row23_col5\" class=\"data row23 col5\" >0.000000</td>\n",
       "      <td id=\"T_3f386_row23_col6\" class=\"data row23 col6\" >0.000000</td>\n",
       "      <td id=\"T_3f386_row23_col7\" class=\"data row23 col7\" >0.000000</td>\n",
       "      <td id=\"T_3f386_row23_col8\" class=\"data row23 col8\" >0.000000</td>\n",
       "      <td id=\"T_3f386_row23_col9\" class=\"data row23 col9\" >0.000000</td>\n",
       "      <td id=\"T_3f386_row23_col10\" class=\"data row23 col10\" >0.000000</td>\n",
       "      <td id=\"T_3f386_row23_col11\" class=\"data row23 col11\" >1.000000</td>\n",
       "      <td id=\"T_3f386_row23_col12\" class=\"data row23 col12\" >1.000000</td>\n",
       "      <td id=\"T_3f386_row23_col13\" class=\"data row23 col13\" >1.000000</td>\n",
       "      <td id=\"T_3f386_row23_col14\" class=\"data row23 col14\" >1.000000</td>\n",
       "      <td id=\"T_3f386_row23_col15\" class=\"data row23 col15\" >2.325532</td>\n",
       "      <td id=\"T_3f386_row23_col16\" class=\"data row23 col16\" >3.445847</td>\n",
       "      <td id=\"T_3f386_row23_col17\" class=\"data row23 col17\" >0.320436</td>\n",
       "      <td id=\"T_3f386_row23_col18\" class=\"data row23 col18\" >0.102679</td>\n",
       "      <td id=\"T_3f386_row23_col19\" class=\"data row23 col19\" >109783.000000</td>\n",
       "      <td id=\"T_3f386_row23_col20\" class=\"data row23 col20\" >87.148040</td>\n",
       "      <td id=\"T_3f386_row23_col21\" class=\"data row23 col21\" >0.000000</td>\n",
       "      <td id=\"T_3f386_row23_col22\" class=\"data row23 col22\" >0.000000</td>\n",
       "    </tr>\n",
       "    <tr>\n",
       "      <th id=\"T_3f386_level0_row24\" class=\"row_heading level0 row24\" >srv_rerror_rate</th>\n",
       "      <td id=\"T_3f386_row24_col0\" class=\"data row24 col0\" >125973.000000</td>\n",
       "      <td id=\"T_3f386_row24_col1\" class=\"data row24 col1\" >15265.820000</td>\n",
       "      <td id=\"T_3f386_row24_col2\" class=\"data row24 col2\" >0.121183</td>\n",
       "      <td id=\"T_3f386_row24_col3\" class=\"data row24 col3\" >0.000000</td>\n",
       "      <td id=\"T_3f386_row24_col4\" class=\"data row24 col4\" >0.000000</td>\n",
       "      <td id=\"T_3f386_row24_col5\" class=\"data row24 col5\" >0.000000</td>\n",
       "      <td id=\"T_3f386_row24_col6\" class=\"data row24 col6\" >0.000000</td>\n",
       "      <td id=\"T_3f386_row24_col7\" class=\"data row24 col7\" >0.000000</td>\n",
       "      <td id=\"T_3f386_row24_col8\" class=\"data row24 col8\" >0.000000</td>\n",
       "      <td id=\"T_3f386_row24_col9\" class=\"data row24 col9\" >0.000000</td>\n",
       "      <td id=\"T_3f386_row24_col10\" class=\"data row24 col10\" >0.000000</td>\n",
       "      <td id=\"T_3f386_row24_col11\" class=\"data row24 col11\" >1.000000</td>\n",
       "      <td id=\"T_3f386_row24_col12\" class=\"data row24 col12\" >1.000000</td>\n",
       "      <td id=\"T_3f386_row24_col13\" class=\"data row24 col13\" >1.000000</td>\n",
       "      <td id=\"T_3f386_row24_col14\" class=\"data row24 col14\" >1.000000</td>\n",
       "      <td id=\"T_3f386_row24_col15\" class=\"data row24 col15\" >2.327033</td>\n",
       "      <td id=\"T_3f386_row24_col16\" class=\"data row24 col16\" >3.445834</td>\n",
       "      <td id=\"T_3f386_row24_col17\" class=\"data row24 col17\" >0.323647</td>\n",
       "      <td id=\"T_3f386_row24_col18\" class=\"data row24 col18\" >0.104748</td>\n",
       "      <td id=\"T_3f386_row24_col19\" class=\"data row24 col19\" >109767.000000</td>\n",
       "      <td id=\"T_3f386_row24_col20\" class=\"data row24 col20\" >87.135339</td>\n",
       "      <td id=\"T_3f386_row24_col21\" class=\"data row24 col21\" >0.000000</td>\n",
       "      <td id=\"T_3f386_row24_col22\" class=\"data row24 col22\" >0.000000</td>\n",
       "    </tr>\n",
       "    <tr>\n",
       "      <th id=\"T_3f386_level0_row25\" class=\"row_heading level0 row25\" >same_srv_rate</th>\n",
       "      <td id=\"T_3f386_row25_col0\" class=\"data row25 col0\" >125973.000000</td>\n",
       "      <td id=\"T_3f386_row25_col1\" class=\"data row25 col1\" >83259.040000</td>\n",
       "      <td id=\"T_3f386_row25_col2\" class=\"data row25 col2\" >0.660928</td>\n",
       "      <td id=\"T_3f386_row25_col3\" class=\"data row25 col3\" >1.000000</td>\n",
       "      <td id=\"T_3f386_row25_col4\" class=\"data row25 col4\" >0.000000</td>\n",
       "      <td id=\"T_3f386_row25_col5\" class=\"data row25 col5\" >0.000000</td>\n",
       "      <td id=\"T_3f386_row25_col6\" class=\"data row25 col6\" >0.010000</td>\n",
       "      <td id=\"T_3f386_row25_col7\" class=\"data row25 col7\" >0.030000</td>\n",
       "      <td id=\"T_3f386_row25_col8\" class=\"data row25 col8\" >0.090000</td>\n",
       "      <td id=\"T_3f386_row25_col9\" class=\"data row25 col9\" >1.000000</td>\n",
       "      <td id=\"T_3f386_row25_col10\" class=\"data row25 col10\" >1.000000</td>\n",
       "      <td id=\"T_3f386_row25_col11\" class=\"data row25 col11\" >1.000000</td>\n",
       "      <td id=\"T_3f386_row25_col12\" class=\"data row25 col12\" >1.000000</td>\n",
       "      <td id=\"T_3f386_row25_col13\" class=\"data row25 col13\" >1.000000</td>\n",
       "      <td id=\"T_3f386_row25_col14\" class=\"data row25 col14\" >1.000000</td>\n",
       "      <td id=\"T_3f386_row25_col15\" class=\"data row25 col15\" >-0.572499</td>\n",
       "      <td id=\"T_3f386_row25_col16\" class=\"data row25 col16\" >-1.609766</td>\n",
       "      <td id=\"T_3f386_row25_col17\" class=\"data row25 col17\" >0.439623</td>\n",
       "      <td id=\"T_3f386_row25_col18\" class=\"data row25 col18\" >0.193268</td>\n",
       "      <td id=\"T_3f386_row25_col19\" class=\"data row25 col19\" >2766.000000</td>\n",
       "      <td id=\"T_3f386_row25_col20\" class=\"data row25 col20\" >2.195709</td>\n",
       "      <td id=\"T_3f386_row25_col21\" class=\"data row25 col21\" >0.000000</td>\n",
       "      <td id=\"T_3f386_row25_col22\" class=\"data row25 col22\" >0.000000</td>\n",
       "    </tr>\n",
       "    <tr>\n",
       "      <th id=\"T_3f386_level0_row26\" class=\"row_heading level0 row26\" >diff_srv_rate</th>\n",
       "      <td id=\"T_3f386_row26_col0\" class=\"data row26 col0\" >125973.000000</td>\n",
       "      <td id=\"T_3f386_row26_col1\" class=\"data row26 col1\" >7942.930000</td>\n",
       "      <td id=\"T_3f386_row26_col2\" class=\"data row26 col2\" >0.063053</td>\n",
       "      <td id=\"T_3f386_row26_col3\" class=\"data row26 col3\" >0.000000</td>\n",
       "      <td id=\"T_3f386_row26_col4\" class=\"data row26 col4\" >0.000000</td>\n",
       "      <td id=\"T_3f386_row26_col5\" class=\"data row26 col5\" >0.000000</td>\n",
       "      <td id=\"T_3f386_row26_col6\" class=\"data row26 col6\" >0.000000</td>\n",
       "      <td id=\"T_3f386_row26_col7\" class=\"data row26 col7\" >0.000000</td>\n",
       "      <td id=\"T_3f386_row26_col8\" class=\"data row26 col8\" >0.000000</td>\n",
       "      <td id=\"T_3f386_row26_col9\" class=\"data row26 col9\" >0.000000</td>\n",
       "      <td id=\"T_3f386_row26_col10\" class=\"data row26 col10\" >0.060000</td>\n",
       "      <td id=\"T_3f386_row26_col11\" class=\"data row26 col11\" >0.070000</td>\n",
       "      <td id=\"T_3f386_row26_col12\" class=\"data row26 col12\" >0.290000</td>\n",
       "      <td id=\"T_3f386_row26_col13\" class=\"data row26 col13\" >1.000000</td>\n",
       "      <td id=\"T_3f386_row26_col14\" class=\"data row26 col14\" >1.000000</td>\n",
       "      <td id=\"T_3f386_row26_col15\" class=\"data row26 col15\" >4.379815</td>\n",
       "      <td id=\"T_3f386_row26_col16\" class=\"data row26 col16\" >18.899472</td>\n",
       "      <td id=\"T_3f386_row26_col17\" class=\"data row26 col17\" >0.180314</td>\n",
       "      <td id=\"T_3f386_row26_col18\" class=\"data row26 col18\" >0.032513</td>\n",
       "      <td id=\"T_3f386_row26_col19\" class=\"data row26 col19\" >76217.000000</td>\n",
       "      <td id=\"T_3f386_row26_col20\" class=\"data row26 col20\" >60.502647</td>\n",
       "      <td id=\"T_3f386_row26_col21\" class=\"data row26 col21\" >0.000000</td>\n",
       "      <td id=\"T_3f386_row26_col22\" class=\"data row26 col22\" >0.000000</td>\n",
       "    </tr>\n",
       "    <tr>\n",
       "      <th id=\"T_3f386_level0_row27\" class=\"row_heading level0 row27\" >srv_diff_host_rate</th>\n",
       "      <td id=\"T_3f386_row27_col0\" class=\"data row27 col0\" >125973.000000</td>\n",
       "      <td id=\"T_3f386_row27_col1\" class=\"data row27 col1\" >12259.900000</td>\n",
       "      <td id=\"T_3f386_row27_col2\" class=\"data row27 col2\" >0.097322</td>\n",
       "      <td id=\"T_3f386_row27_col3\" class=\"data row27 col3\" >0.000000</td>\n",
       "      <td id=\"T_3f386_row27_col4\" class=\"data row27 col4\" >0.000000</td>\n",
       "      <td id=\"T_3f386_row27_col5\" class=\"data row27 col5\" >0.000000</td>\n",
       "      <td id=\"T_3f386_row27_col6\" class=\"data row27 col6\" >0.000000</td>\n",
       "      <td id=\"T_3f386_row27_col7\" class=\"data row27 col7\" >0.000000</td>\n",
       "      <td id=\"T_3f386_row27_col8\" class=\"data row27 col8\" >0.000000</td>\n",
       "      <td id=\"T_3f386_row27_col9\" class=\"data row27 col9\" >0.000000</td>\n",
       "      <td id=\"T_3f386_row27_col10\" class=\"data row27 col10\" >0.000000</td>\n",
       "      <td id=\"T_3f386_row27_col11\" class=\"data row27 col11\" >0.310000</td>\n",
       "      <td id=\"T_3f386_row27_col12\" class=\"data row27 col12\" >1.000000</td>\n",
       "      <td id=\"T_3f386_row27_col13\" class=\"data row27 col13\" >1.000000</td>\n",
       "      <td id=\"T_3f386_row27_col14\" class=\"data row27 col14\" >1.000000</td>\n",
       "      <td id=\"T_3f386_row27_col15\" class=\"data row27 col15\" >2.860355</td>\n",
       "      <td id=\"T_3f386_row27_col16\" class=\"data row27 col16\" >6.816307</td>\n",
       "      <td id=\"T_3f386_row27_col17\" class=\"data row27 col17\" >0.259830</td>\n",
       "      <td id=\"T_3f386_row27_col18\" class=\"data row27 col18\" >0.067512</td>\n",
       "      <td id=\"T_3f386_row27_col19\" class=\"data row27 col19\" >97574.000000</td>\n",
       "      <td id=\"T_3f386_row27_col20\" class=\"data row27 col20\" >77.456280</td>\n",
       "      <td id=\"T_3f386_row27_col21\" class=\"data row27 col21\" >0.000000</td>\n",
       "      <td id=\"T_3f386_row27_col22\" class=\"data row27 col22\" >0.000000</td>\n",
       "    </tr>\n",
       "    <tr>\n",
       "      <th id=\"T_3f386_level0_row28\" class=\"row_heading level0 row28\" >dst_host_count</th>\n",
       "      <td id=\"T_3f386_row28_col0\" class=\"data row28 col0\" >125973.000000</td>\n",
       "      <td id=\"T_3f386_row28_col1\" class=\"data row28 col1\" >22945849.000000</td>\n",
       "      <td id=\"T_3f386_row28_col2\" class=\"data row28 col2\" >182.148945</td>\n",
       "      <td id=\"T_3f386_row28_col3\" class=\"data row28 col3\" >255.000000</td>\n",
       "      <td id=\"T_3f386_row28_col4\" class=\"data row28 col4\" >0.000000</td>\n",
       "      <td id=\"T_3f386_row28_col5\" class=\"data row28 col5\" >1.000000</td>\n",
       "      <td id=\"T_3f386_row28_col6\" class=\"data row28 col6\" >3.000000</td>\n",
       "      <td id=\"T_3f386_row28_col7\" class=\"data row28 col7\" >11.000000</td>\n",
       "      <td id=\"T_3f386_row28_col8\" class=\"data row28 col8\" >82.000000</td>\n",
       "      <td id=\"T_3f386_row28_col9\" class=\"data row28 col9\" >255.000000</td>\n",
       "      <td id=\"T_3f386_row28_col10\" class=\"data row28 col10\" >255.000000</td>\n",
       "      <td id=\"T_3f386_row28_col11\" class=\"data row28 col11\" >255.000000</td>\n",
       "      <td id=\"T_3f386_row28_col12\" class=\"data row28 col12\" >255.000000</td>\n",
       "      <td id=\"T_3f386_row28_col13\" class=\"data row28 col13\" >255.000000</td>\n",
       "      <td id=\"T_3f386_row28_col14\" class=\"data row28 col14\" >255.000000</td>\n",
       "      <td id=\"T_3f386_row28_col15\" class=\"data row28 col15\" >-0.833438</td>\n",
       "      <td id=\"T_3f386_row28_col16\" class=\"data row28 col16\" >-1.065773</td>\n",
       "      <td id=\"T_3f386_row28_col17\" class=\"data row28 col17\" >99.206213</td>\n",
       "      <td id=\"T_3f386_row28_col18\" class=\"data row28 col18\" >9841.872705</td>\n",
       "      <td id=\"T_3f386_row28_col19\" class=\"data row28 col19\" >3.000000</td>\n",
       "      <td id=\"T_3f386_row28_col20\" class=\"data row28 col20\" >0.002381</td>\n",
       "      <td id=\"T_3f386_row28_col21\" class=\"data row28 col21\" >0.000000</td>\n",
       "      <td id=\"T_3f386_row28_col22\" class=\"data row28 col22\" >0.000000</td>\n",
       "    </tr>\n",
       "    <tr>\n",
       "      <th id=\"T_3f386_level0_row29\" class=\"row_heading level0 row29\" >dst_host_srv_count</th>\n",
       "      <td id=\"T_3f386_row29_col0\" class=\"data row29 col0\" >125973.000000</td>\n",
       "      <td id=\"T_3f386_row29_col1\" class=\"data row29 col1\" >14569156.000000</td>\n",
       "      <td id=\"T_3f386_row29_col2\" class=\"data row29 col2\" >115.653005</td>\n",
       "      <td id=\"T_3f386_row29_col3\" class=\"data row29 col3\" >63.000000</td>\n",
       "      <td id=\"T_3f386_row29_col4\" class=\"data row29 col4\" >0.000000</td>\n",
       "      <td id=\"T_3f386_row29_col5\" class=\"data row29 col5\" >1.000000</td>\n",
       "      <td id=\"T_3f386_row29_col6\" class=\"data row29 col6\" >1.000000</td>\n",
       "      <td id=\"T_3f386_row29_col7\" class=\"data row29 col7\" >2.000000</td>\n",
       "      <td id=\"T_3f386_row29_col8\" class=\"data row29 col8\" >10.000000</td>\n",
       "      <td id=\"T_3f386_row29_col9\" class=\"data row29 col9\" >63.000000</td>\n",
       "      <td id=\"T_3f386_row29_col10\" class=\"data row29 col10\" >255.000000</td>\n",
       "      <td id=\"T_3f386_row29_col11\" class=\"data row29 col11\" >255.000000</td>\n",
       "      <td id=\"T_3f386_row29_col12\" class=\"data row29 col12\" >255.000000</td>\n",
       "      <td id=\"T_3f386_row29_col13\" class=\"data row29 col13\" >255.000000</td>\n",
       "      <td id=\"T_3f386_row29_col14\" class=\"data row29 col14\" >255.000000</td>\n",
       "      <td id=\"T_3f386_row29_col15\" class=\"data row29 col15\" >0.283721</td>\n",
       "      <td id=\"T_3f386_row29_col16\" class=\"data row29 col16\" >-1.756335</td>\n",
       "      <td id=\"T_3f386_row29_col17\" class=\"data row29 col17\" >110.702741</td>\n",
       "      <td id=\"T_3f386_row29_col18\" class=\"data row29 col18\" >12255.096816</td>\n",
       "      <td id=\"T_3f386_row29_col19\" class=\"data row29 col19\" >3.000000</td>\n",
       "      <td id=\"T_3f386_row29_col20\" class=\"data row29 col20\" >0.002381</td>\n",
       "      <td id=\"T_3f386_row29_col21\" class=\"data row29 col21\" >0.000000</td>\n",
       "      <td id=\"T_3f386_row29_col22\" class=\"data row29 col22\" >0.000000</td>\n",
       "    </tr>\n",
       "    <tr>\n",
       "      <th id=\"T_3f386_level0_row30\" class=\"row_heading level0 row30\" >dst_host_same_srv_rate</th>\n",
       "      <td id=\"T_3f386_row30_col0\" class=\"data row30 col0\" >125973.000000</td>\n",
       "      <td id=\"T_3f386_row30_col1\" class=\"data row30 col1\" >65662.380000</td>\n",
       "      <td id=\"T_3f386_row30_col2\" class=\"data row30 col2\" >0.521242</td>\n",
       "      <td id=\"T_3f386_row30_col3\" class=\"data row30 col3\" >0.510000</td>\n",
       "      <td id=\"T_3f386_row30_col4\" class=\"data row30 col4\" >0.000000</td>\n",
       "      <td id=\"T_3f386_row30_col5\" class=\"data row30 col5\" >0.000000</td>\n",
       "      <td id=\"T_3f386_row30_col6\" class=\"data row30 col6\" >0.000000</td>\n",
       "      <td id=\"T_3f386_row30_col7\" class=\"data row30 col7\" >0.010000</td>\n",
       "      <td id=\"T_3f386_row30_col8\" class=\"data row30 col8\" >0.050000</td>\n",
       "      <td id=\"T_3f386_row30_col9\" class=\"data row30 col9\" >0.510000</td>\n",
       "      <td id=\"T_3f386_row30_col10\" class=\"data row30 col10\" >1.000000</td>\n",
       "      <td id=\"T_3f386_row30_col11\" class=\"data row30 col11\" >1.000000</td>\n",
       "      <td id=\"T_3f386_row30_col12\" class=\"data row30 col12\" >1.000000</td>\n",
       "      <td id=\"T_3f386_row30_col13\" class=\"data row30 col13\" >1.000000</td>\n",
       "      <td id=\"T_3f386_row30_col14\" class=\"data row30 col14\" >1.000000</td>\n",
       "      <td id=\"T_3f386_row30_col15\" class=\"data row30 col15\" >-0.010448</td>\n",
       "      <td id=\"T_3f386_row30_col16\" class=\"data row30 col16\" >-1.884046</td>\n",
       "      <td id=\"T_3f386_row30_col17\" class=\"data row30 col17\" >0.448949</td>\n",
       "      <td id=\"T_3f386_row30_col18\" class=\"data row30 col18\" >0.201556</td>\n",
       "      <td id=\"T_3f386_row30_col19\" class=\"data row30 col19\" >6927.000000</td>\n",
       "      <td id=\"T_3f386_row30_col20\" class=\"data row30 col20\" >5.498797</td>\n",
       "      <td id=\"T_3f386_row30_col21\" class=\"data row30 col21\" >0.000000</td>\n",
       "      <td id=\"T_3f386_row30_col22\" class=\"data row30 col22\" >0.000000</td>\n",
       "    </tr>\n",
       "    <tr>\n",
       "      <th id=\"T_3f386_level0_row31\" class=\"row_heading level0 row31\" >dst_host_diff_srv_rate</th>\n",
       "      <td id=\"T_3f386_row31_col0\" class=\"data row31 col0\" >125973.000000</td>\n",
       "      <td id=\"T_3f386_row31_col1\" class=\"data row31 col1\" >10449.600000</td>\n",
       "      <td id=\"T_3f386_row31_col2\" class=\"data row31 col2\" >0.082951</td>\n",
       "      <td id=\"T_3f386_row31_col3\" class=\"data row31 col3\" >0.020000</td>\n",
       "      <td id=\"T_3f386_row31_col4\" class=\"data row31 col4\" >0.000000</td>\n",
       "      <td id=\"T_3f386_row31_col5\" class=\"data row31 col5\" >0.000000</td>\n",
       "      <td id=\"T_3f386_row31_col6\" class=\"data row31 col6\" >0.000000</td>\n",
       "      <td id=\"T_3f386_row31_col7\" class=\"data row31 col7\" >0.000000</td>\n",
       "      <td id=\"T_3f386_row31_col8\" class=\"data row31 col8\" >0.000000</td>\n",
       "      <td id=\"T_3f386_row31_col9\" class=\"data row31 col9\" >0.020000</td>\n",
       "      <td id=\"T_3f386_row31_col10\" class=\"data row31 col10\" >0.070000</td>\n",
       "      <td id=\"T_3f386_row31_col11\" class=\"data row31 col11\" >0.100000</td>\n",
       "      <td id=\"T_3f386_row31_col12\" class=\"data row31 col12\" >0.560000</td>\n",
       "      <td id=\"T_3f386_row31_col13\" class=\"data row31 col13\" >1.000000</td>\n",
       "      <td id=\"T_3f386_row31_col14\" class=\"data row31 col14\" >1.000000</td>\n",
       "      <td id=\"T_3f386_row31_col15\" class=\"data row31 col15\" >3.609600</td>\n",
       "      <td id=\"T_3f386_row31_col16\" class=\"data row31 col16\" >12.634410</td>\n",
       "      <td id=\"T_3f386_row31_col17\" class=\"data row31 col17\" >0.188922</td>\n",
       "      <td id=\"T_3f386_row31_col18\" class=\"data row31 col18\" >0.035691</td>\n",
       "      <td id=\"T_3f386_row31_col19\" class=\"data row31 col19\" >46989.000000</td>\n",
       "      <td id=\"T_3f386_row31_col20\" class=\"data row31 col20\" >37.300850</td>\n",
       "      <td id=\"T_3f386_row31_col21\" class=\"data row31 col21\" >0.000000</td>\n",
       "      <td id=\"T_3f386_row31_col22\" class=\"data row31 col22\" >0.000000</td>\n",
       "    </tr>\n",
       "    <tr>\n",
       "      <th id=\"T_3f386_level0_row32\" class=\"row_heading level0 row32\" >dst_host_same_src_port_rate</th>\n",
       "      <td id=\"T_3f386_row32_col0\" class=\"data row32 col0\" >125973.000000</td>\n",
       "      <td id=\"T_3f386_row32_col1\" class=\"data row32 col1\" >18691.730000</td>\n",
       "      <td id=\"T_3f386_row32_col2\" class=\"data row32 col2\" >0.148379</td>\n",
       "      <td id=\"T_3f386_row32_col3\" class=\"data row32 col3\" >0.000000</td>\n",
       "      <td id=\"T_3f386_row32_col4\" class=\"data row32 col4\" >0.000000</td>\n",
       "      <td id=\"T_3f386_row32_col5\" class=\"data row32 col5\" >0.000000</td>\n",
       "      <td id=\"T_3f386_row32_col6\" class=\"data row32 col6\" >0.000000</td>\n",
       "      <td id=\"T_3f386_row32_col7\" class=\"data row32 col7\" >0.000000</td>\n",
       "      <td id=\"T_3f386_row32_col8\" class=\"data row32 col8\" >0.000000</td>\n",
       "      <td id=\"T_3f386_row32_col9\" class=\"data row32 col9\" >0.000000</td>\n",
       "      <td id=\"T_3f386_row32_col10\" class=\"data row32 col10\" >0.060000</td>\n",
       "      <td id=\"T_3f386_row32_col11\" class=\"data row32 col11\" >0.840000</td>\n",
       "      <td id=\"T_3f386_row32_col12\" class=\"data row32 col12\" >1.000000</td>\n",
       "      <td id=\"T_3f386_row32_col13\" class=\"data row32 col13\" >1.000000</td>\n",
       "      <td id=\"T_3f386_row32_col14\" class=\"data row32 col14\" >1.000000</td>\n",
       "      <td id=\"T_3f386_row32_col15\" class=\"data row32 col15\" >2.087039</td>\n",
       "      <td id=\"T_3f386_row32_col16\" class=\"data row32 col16\" >2.762402</td>\n",
       "      <td id=\"T_3f386_row32_col17\" class=\"data row32 col17\" >0.308997</td>\n",
       "      <td id=\"T_3f386_row32_col18\" class=\"data row32 col18\" >0.095479</td>\n",
       "      <td id=\"T_3f386_row32_col19\" class=\"data row32 col19\" >63023.000000</td>\n",
       "      <td id=\"T_3f386_row32_col20\" class=\"data row32 col20\" >50.028974</td>\n",
       "      <td id=\"T_3f386_row32_col21\" class=\"data row32 col21\" >0.000000</td>\n",
       "      <td id=\"T_3f386_row32_col22\" class=\"data row32 col22\" >0.000000</td>\n",
       "    </tr>\n",
       "    <tr>\n",
       "      <th id=\"T_3f386_level0_row33\" class=\"row_heading level0 row33\" >dst_host_srv_diff_host_rate</th>\n",
       "      <td id=\"T_3f386_row33_col0\" class=\"data row33 col0\" >125973.000000</td>\n",
       "      <td id=\"T_3f386_row33_col1\" class=\"data row33 col1\" >4099.470000</td>\n",
       "      <td id=\"T_3f386_row33_col2\" class=\"data row33 col2\" >0.032542</td>\n",
       "      <td id=\"T_3f386_row33_col3\" class=\"data row33 col3\" >0.000000</td>\n",
       "      <td id=\"T_3f386_row33_col4\" class=\"data row33 col4\" >0.000000</td>\n",
       "      <td id=\"T_3f386_row33_col5\" class=\"data row33 col5\" >0.000000</td>\n",
       "      <td id=\"T_3f386_row33_col6\" class=\"data row33 col6\" >0.000000</td>\n",
       "      <td id=\"T_3f386_row33_col7\" class=\"data row33 col7\" >0.000000</td>\n",
       "      <td id=\"T_3f386_row33_col8\" class=\"data row33 col8\" >0.000000</td>\n",
       "      <td id=\"T_3f386_row33_col9\" class=\"data row33 col9\" >0.000000</td>\n",
       "      <td id=\"T_3f386_row33_col10\" class=\"data row33 col10\" >0.020000</td>\n",
       "      <td id=\"T_3f386_row33_col11\" class=\"data row33 col11\" >0.050000</td>\n",
       "      <td id=\"T_3f386_row33_col12\" class=\"data row33 col12\" >0.180000</td>\n",
       "      <td id=\"T_3f386_row33_col13\" class=\"data row33 col13\" >0.520000</td>\n",
       "      <td id=\"T_3f386_row33_col14\" class=\"data row33 col14\" >1.000000</td>\n",
       "      <td id=\"T_3f386_row33_col15\" class=\"data row33 col15\" >5.548174</td>\n",
       "      <td id=\"T_3f386_row33_col16\" class=\"data row33 col16\" >35.773236</td>\n",
       "      <td id=\"T_3f386_row33_col17\" class=\"data row33 col17\" >0.112564</td>\n",
       "      <td id=\"T_3f386_row33_col18\" class=\"data row33 col18\" >0.012671</td>\n",
       "      <td id=\"T_3f386_row33_col19\" class=\"data row33 col19\" >86904.000000</td>\n",
       "      <td id=\"T_3f386_row33_col20\" class=\"data row33 col20\" >68.986211</td>\n",
       "      <td id=\"T_3f386_row33_col21\" class=\"data row33 col21\" >0.000000</td>\n",
       "      <td id=\"T_3f386_row33_col22\" class=\"data row33 col22\" >0.000000</td>\n",
       "    </tr>\n",
       "    <tr>\n",
       "      <th id=\"T_3f386_level0_row34\" class=\"row_heading level0 row34\" >dst_host_serror_rate</th>\n",
       "      <td id=\"T_3f386_row34_col0\" class=\"data row34 col0\" >125973.000000</td>\n",
       "      <td id=\"T_3f386_row34_col1\" class=\"data row34 col1\" >35833.330000</td>\n",
       "      <td id=\"T_3f386_row34_col2\" class=\"data row34 col2\" >0.284452</td>\n",
       "      <td id=\"T_3f386_row34_col3\" class=\"data row34 col3\" >0.000000</td>\n",
       "      <td id=\"T_3f386_row34_col4\" class=\"data row34 col4\" >0.000000</td>\n",
       "      <td id=\"T_3f386_row34_col5\" class=\"data row34 col5\" >0.000000</td>\n",
       "      <td id=\"T_3f386_row34_col6\" class=\"data row34 col6\" >0.000000</td>\n",
       "      <td id=\"T_3f386_row34_col7\" class=\"data row34 col7\" >0.000000</td>\n",
       "      <td id=\"T_3f386_row34_col8\" class=\"data row34 col8\" >0.000000</td>\n",
       "      <td id=\"T_3f386_row34_col9\" class=\"data row34 col9\" >0.000000</td>\n",
       "      <td id=\"T_3f386_row34_col10\" class=\"data row34 col10\" >1.000000</td>\n",
       "      <td id=\"T_3f386_row34_col11\" class=\"data row34 col11\" >1.000000</td>\n",
       "      <td id=\"T_3f386_row34_col12\" class=\"data row34 col12\" >1.000000</td>\n",
       "      <td id=\"T_3f386_row34_col13\" class=\"data row34 col13\" >1.000000</td>\n",
       "      <td id=\"T_3f386_row34_col14\" class=\"data row34 col14\" >1.000000</td>\n",
       "      <td id=\"T_3f386_row34_col15\" class=\"data row34 col15\" >0.965952</td>\n",
       "      <td id=\"T_3f386_row34_col16\" class=\"data row34 col16\" >-1.046996</td>\n",
       "      <td id=\"T_3f386_row34_col17\" class=\"data row34 col17\" >0.444784</td>\n",
       "      <td id=\"T_3f386_row34_col18\" class=\"data row34 col18\" >0.197833</td>\n",
       "      <td id=\"T_3f386_row34_col19\" class=\"data row34 col19\" >81386.000000</td>\n",
       "      <td id=\"T_3f386_row34_col20\" class=\"data row34 col20\" >64.605908</td>\n",
       "      <td id=\"T_3f386_row34_col21\" class=\"data row34 col21\" >0.000000</td>\n",
       "      <td id=\"T_3f386_row34_col22\" class=\"data row34 col22\" >0.000000</td>\n",
       "    </tr>\n",
       "    <tr>\n",
       "      <th id=\"T_3f386_level0_row35\" class=\"row_heading level0 row35\" >dst_host_srv_serror_rate</th>\n",
       "      <td id=\"T_3f386_row35_col0\" class=\"data row35 col0\" >125973.000000</td>\n",
       "      <td id=\"T_3f386_row35_col1\" class=\"data row35 col1\" >35081.530000</td>\n",
       "      <td id=\"T_3f386_row35_col2\" class=\"data row35 col2\" >0.278485</td>\n",
       "      <td id=\"T_3f386_row35_col3\" class=\"data row35 col3\" >0.000000</td>\n",
       "      <td id=\"T_3f386_row35_col4\" class=\"data row35 col4\" >0.000000</td>\n",
       "      <td id=\"T_3f386_row35_col5\" class=\"data row35 col5\" >0.000000</td>\n",
       "      <td id=\"T_3f386_row35_col6\" class=\"data row35 col6\" >0.000000</td>\n",
       "      <td id=\"T_3f386_row35_col7\" class=\"data row35 col7\" >0.000000</td>\n",
       "      <td id=\"T_3f386_row35_col8\" class=\"data row35 col8\" >0.000000</td>\n",
       "      <td id=\"T_3f386_row35_col9\" class=\"data row35 col9\" >0.000000</td>\n",
       "      <td id=\"T_3f386_row35_col10\" class=\"data row35 col10\" >1.000000</td>\n",
       "      <td id=\"T_3f386_row35_col11\" class=\"data row35 col11\" >1.000000</td>\n",
       "      <td id=\"T_3f386_row35_col12\" class=\"data row35 col12\" >1.000000</td>\n",
       "      <td id=\"T_3f386_row35_col13\" class=\"data row35 col13\" >1.000000</td>\n",
       "      <td id=\"T_3f386_row35_col14\" class=\"data row35 col14\" >1.000000</td>\n",
       "      <td id=\"T_3f386_row35_col15\" class=\"data row35 col15\" >0.991734</td>\n",
       "      <td id=\"T_3f386_row35_col16\" class=\"data row35 col16\" >-1.007992</td>\n",
       "      <td id=\"T_3f386_row35_col17\" class=\"data row35 col17\" >0.445669</td>\n",
       "      <td id=\"T_3f386_row35_col18\" class=\"data row35 col18\" >0.198621</td>\n",
       "      <td id=\"T_3f386_row35_col19\" class=\"data row35 col19\" >85360.000000</td>\n",
       "      <td id=\"T_3f386_row35_col20\" class=\"data row35 col20\" >67.760552</td>\n",
       "      <td id=\"T_3f386_row35_col21\" class=\"data row35 col21\" >0.000000</td>\n",
       "      <td id=\"T_3f386_row35_col22\" class=\"data row35 col22\" >0.000000</td>\n",
       "    </tr>\n",
       "    <tr>\n",
       "      <th id=\"T_3f386_level0_row36\" class=\"row_heading level0 row36\" >dst_host_rerror_rate</th>\n",
       "      <td id=\"T_3f386_row36_col0\" class=\"data row36 col0\" >125973.000000</td>\n",
       "      <td id=\"T_3f386_row36_col1\" class=\"data row36 col1\" >14969.600000</td>\n",
       "      <td id=\"T_3f386_row36_col2\" class=\"data row36 col2\" >0.118832</td>\n",
       "      <td id=\"T_3f386_row36_col3\" class=\"data row36 col3\" >0.000000</td>\n",
       "      <td id=\"T_3f386_row36_col4\" class=\"data row36 col4\" >0.000000</td>\n",
       "      <td id=\"T_3f386_row36_col5\" class=\"data row36 col5\" >0.000000</td>\n",
       "      <td id=\"T_3f386_row36_col6\" class=\"data row36 col6\" >0.000000</td>\n",
       "      <td id=\"T_3f386_row36_col7\" class=\"data row36 col7\" >0.000000</td>\n",
       "      <td id=\"T_3f386_row36_col8\" class=\"data row36 col8\" >0.000000</td>\n",
       "      <td id=\"T_3f386_row36_col9\" class=\"data row36 col9\" >0.000000</td>\n",
       "      <td id=\"T_3f386_row36_col10\" class=\"data row36 col10\" >0.000000</td>\n",
       "      <td id=\"T_3f386_row36_col11\" class=\"data row36 col11\" >0.840000</td>\n",
       "      <td id=\"T_3f386_row36_col12\" class=\"data row36 col12\" >1.000000</td>\n",
       "      <td id=\"T_3f386_row36_col13\" class=\"data row36 col13\" >1.000000</td>\n",
       "      <td id=\"T_3f386_row36_col14\" class=\"data row36 col14\" >1.000000</td>\n",
       "      <td id=\"T_3f386_row36_col15\" class=\"data row36 col15\" >2.347446</td>\n",
       "      <td id=\"T_3f386_row36_col16\" class=\"data row36 col16\" >3.692749</td>\n",
       "      <td id=\"T_3f386_row36_col17\" class=\"data row36 col17\" >0.306557</td>\n",
       "      <td id=\"T_3f386_row36_col18\" class=\"data row36 col18\" >0.093977</td>\n",
       "      <td id=\"T_3f386_row36_col19\" class=\"data row36 col19\" >103178.000000</td>\n",
       "      <td id=\"T_3f386_row36_col20\" class=\"data row36 col20\" >81.904853</td>\n",
       "      <td id=\"T_3f386_row36_col21\" class=\"data row36 col21\" >0.000000</td>\n",
       "      <td id=\"T_3f386_row36_col22\" class=\"data row36 col22\" >0.000000</td>\n",
       "    </tr>\n",
       "    <tr>\n",
       "      <th id=\"T_3f386_level0_row37\" class=\"row_heading level0 row37\" >dst_host_srv_rerror_rate</th>\n",
       "      <td id=\"T_3f386_row37_col0\" class=\"data row37 col0\" >125973.000000</td>\n",
       "      <td id=\"T_3f386_row37_col1\" class=\"data row37 col1\" >15146.980000</td>\n",
       "      <td id=\"T_3f386_row37_col2\" class=\"data row37 col2\" >0.120240</td>\n",
       "      <td id=\"T_3f386_row37_col3\" class=\"data row37 col3\" >0.000000</td>\n",
       "      <td id=\"T_3f386_row37_col4\" class=\"data row37 col4\" >0.000000</td>\n",
       "      <td id=\"T_3f386_row37_col5\" class=\"data row37 col5\" >0.000000</td>\n",
       "      <td id=\"T_3f386_row37_col6\" class=\"data row37 col6\" >0.000000</td>\n",
       "      <td id=\"T_3f386_row37_col7\" class=\"data row37 col7\" >0.000000</td>\n",
       "      <td id=\"T_3f386_row37_col8\" class=\"data row37 col8\" >0.000000</td>\n",
       "      <td id=\"T_3f386_row37_col9\" class=\"data row37 col9\" >0.000000</td>\n",
       "      <td id=\"T_3f386_row37_col10\" class=\"data row37 col10\" >0.000000</td>\n",
       "      <td id=\"T_3f386_row37_col11\" class=\"data row37 col11\" >1.000000</td>\n",
       "      <td id=\"T_3f386_row37_col12\" class=\"data row37 col12\" >1.000000</td>\n",
       "      <td id=\"T_3f386_row37_col13\" class=\"data row37 col13\" >1.000000</td>\n",
       "      <td id=\"T_3f386_row37_col14\" class=\"data row37 col14\" >1.000000</td>\n",
       "      <td id=\"T_3f386_row37_col15\" class=\"data row37 col15\" >2.337926</td>\n",
       "      <td id=\"T_3f386_row37_col16\" class=\"data row37 col16\" >3.520662</td>\n",
       "      <td id=\"T_3f386_row37_col17\" class=\"data row37 col17\" >0.319459</td>\n",
       "      <td id=\"T_3f386_row37_col18\" class=\"data row37 col18\" >0.102054</td>\n",
       "      <td id=\"T_3f386_row37_col19\" class=\"data row37 col19\" >106616.000000</td>\n",
       "      <td id=\"T_3f386_row37_col20\" class=\"data row37 col20\" >84.634009</td>\n",
       "      <td id=\"T_3f386_row37_col21\" class=\"data row37 col21\" >0.000000</td>\n",
       "      <td id=\"T_3f386_row37_col22\" class=\"data row37 col22\" >0.000000</td>\n",
       "    </tr>\n",
       "    <tr>\n",
       "      <th id=\"T_3f386_level0_row38\" class=\"row_heading level0 row38\" >last_flag</th>\n",
       "      <td id=\"T_3f386_row38_col0\" class=\"data row38 col0\" >125973.000000</td>\n",
       "      <td id=\"T_3f386_row38_col1\" class=\"data row38 col1\" >2456985.000000</td>\n",
       "      <td id=\"T_3f386_row38_col2\" class=\"data row38 col2\" >19.504060</td>\n",
       "      <td id=\"T_3f386_row38_col3\" class=\"data row38 col3\" >20.000000</td>\n",
       "      <td id=\"T_3f386_row38_col4\" class=\"data row38 col4\" >0.000000</td>\n",
       "      <td id=\"T_3f386_row38_col5\" class=\"data row38 col5\" >11.000000</td>\n",
       "      <td id=\"T_3f386_row38_col6\" class=\"data row38 col6\" >15.000000</td>\n",
       "      <td id=\"T_3f386_row38_col7\" class=\"data row38 col7\" >17.000000</td>\n",
       "      <td id=\"T_3f386_row38_col8\" class=\"data row38 col8\" >18.000000</td>\n",
       "      <td id=\"T_3f386_row38_col9\" class=\"data row38 col9\" >20.000000</td>\n",
       "      <td id=\"T_3f386_row38_col10\" class=\"data row38 col10\" >21.000000</td>\n",
       "      <td id=\"T_3f386_row38_col11\" class=\"data row38 col11\" >21.000000</td>\n",
       "      <td id=\"T_3f386_row38_col12\" class=\"data row38 col12\" >21.000000</td>\n",
       "      <td id=\"T_3f386_row38_col13\" class=\"data row38 col13\" >21.000000</td>\n",
       "      <td id=\"T_3f386_row38_col14\" class=\"data row38 col14\" >21.000000</td>\n",
       "      <td id=\"T_3f386_row38_col15\" class=\"data row38 col15\" >-2.896775</td>\n",
       "      <td id=\"T_3f386_row38_col16\" class=\"data row38 col16\" >13.369272</td>\n",
       "      <td id=\"T_3f386_row38_col17\" class=\"data row38 col17\" >2.291503</td>\n",
       "      <td id=\"T_3f386_row38_col18\" class=\"data row38 col18\" >5.250986</td>\n",
       "      <td id=\"T_3f386_row38_col19\" class=\"data row38 col19\" >66.000000</td>\n",
       "      <td id=\"T_3f386_row38_col20\" class=\"data row38 col20\" >0.052392</td>\n",
       "      <td id=\"T_3f386_row38_col21\" class=\"data row38 col21\" >0.000000</td>\n",
       "      <td id=\"T_3f386_row38_col22\" class=\"data row38 col22\" >0.000000</td>\n",
       "    </tr>\n",
       "  </tbody>\n",
       "</table>\n"
      ],
      "text/plain": [
       "<pandas.io.formats.style.Styler at 0x1db96cd2e50>"
      ]
     },
     "execution_count": 18,
     "metadata": {},
     "output_type": "execute_result"
    }
   ],
   "source": [
    "# Create Data audit Report for continuous variables\n",
    "def continuous_var_summary(x):\n",
    "    return pd.Series([x.count(), x.sum(), x.mean(), x.median(), x.min(), x.quantile(0.01), x.quantile(0.05),\n",
    "                      x.quantile(0.10),x.quantile(0.25),x.quantile(0.50),x.quantile(0.75), x.quantile(0.90),x.quantile(0.95), \n",
    "                      x.quantile(0.99),x.max(),x.skew(),x.kurt(), x.std(), x.var(), (x==0).sum(), (x==0).sum()*100/len(x),\n",
    "                      x.isnull().sum(),x.isnull().sum()*100/len(x) ], \n",
    "                  index = ['N', 'SUM', 'MEAN','MEDIAN', 'MIN', 'P1', 'P5' ,'P10' ,'P25' ,'P50' ,'P75' ,'P90' ,\n",
    "                          'P95' ,'P99' ,'MAX','SKEW' ,'KURT' ,'STD', 'VAR', 'ZEROS' ,'%ZEROS', 'NMISS', '%NMISS'])\n",
    "\n",
    "num_cols = dfkdd_train.select_dtypes(include='number').columns\n",
    "dfkdd_train[num_cols].apply(continuous_var_summary).T.style.set_sticky(axis='index')"
   ]
  },
  {
   "cell_type": "markdown",
   "metadata": {},
   "source": [
    "<h2 style=\"color:#09439e;\">A significant observation: Since the attack classes R2L  & U2R are extremely sparse, 0.79% and 0.04% respectively, clipping the data even to the 99th percentile could result in the loss of some significanty predictive information, tallying the summary of neumerical features above exposes some features of that nature<h2/>\n",
    "<h3> This observation further encouraged to start with a classification model that is robust to outliers, tree based algorithms might prove to be a reasonable choice<h3/>"
   ]
  },
  {
   "cell_type": "markdown",
   "metadata": {
    "id": "F1iURoX6qyuN"
   },
   "source": [
    "## Exploratory Data Analysis"
   ]
  },
  {
   "cell_type": "code",
   "execution_count": 19,
   "metadata": {},
   "outputs": [
    {
     "name": "stdout",
     "output_type": "stream",
     "text": [
      "Missing cells in training data: 0\n",
      "Missing cells in testing data: 0\n"
     ]
    }
   ],
   "source": [
    "# Inspecting missing data\n",
    "print(\"Missing cells in training data: {}\".format(dfkdd_train.isna().sum().sum()))\n",
    "print(\"Missing cells in testing data: {}\".format(dfkdd_test.isna().sum().sum()))"
   ]
  },
  {
   "cell_type": "code",
   "execution_count": 20,
   "metadata": {},
   "outputs": [
    {
     "data": {
      "text/plain": [
       "Index(['num_outbound_cmds'], dtype='object')"
      ]
     },
     "execution_count": 20,
     "metadata": {},
     "output_type": "execute_result"
    }
   ],
   "source": [
    "# getting rid of features with no variance\n",
    "num_summary = dfkdd_train[num_cols].apply(continuous_var_summary).T\n",
    "constants = num_summary[num_summary.MIN == num_summary.MAX].index\n",
    "constants"
   ]
  },
  {
   "cell_type": "code",
   "execution_count": 21,
   "metadata": {
    "id": "llkOXFR5q8lJ"
   },
   "outputs": [],
   "source": [
    "dfkdd_train.drop(constants, axis=1, inplace=True)\n",
    "dfkdd_test.drop(constants, axis=1, inplace=True)"
   ]
  },
  {
   "cell_type": "code",
   "execution_count": 22,
   "metadata": {},
   "outputs": [
    {
     "data": {
      "text/html": [
       "<div>\n",
       "<style scoped>\n",
       "    .dataframe tbody tr th:only-of-type {\n",
       "        vertical-align: middle;\n",
       "    }\n",
       "\n",
       "    .dataframe tbody tr th {\n",
       "        vertical-align: top;\n",
       "    }\n",
       "\n",
       "    .dataframe thead th {\n",
       "        text-align: right;\n",
       "    }\n",
       "</style>\n",
       "<table border=\"1\" class=\"dataframe\">\n",
       "  <thead>\n",
       "    <tr style=\"text-align: right;\">\n",
       "      <th></th>\n",
       "      <th>attack_class</th>\n",
       "      <th>frequency_percent_train</th>\n",
       "      <th>attack_class</th>\n",
       "      <th>frequency_percent_test</th>\n",
       "    </tr>\n",
       "  </thead>\n",
       "  <tbody>\n",
       "    <tr>\n",
       "      <th>Normal</th>\n",
       "      <td>67343</td>\n",
       "      <td>53.46</td>\n",
       "      <td>9711</td>\n",
       "      <td>43.08</td>\n",
       "    </tr>\n",
       "    <tr>\n",
       "      <th>DoS</th>\n",
       "      <td>45927</td>\n",
       "      <td>36.46</td>\n",
       "      <td>7458</td>\n",
       "      <td>33.08</td>\n",
       "    </tr>\n",
       "    <tr>\n",
       "      <th>Probe</th>\n",
       "      <td>11656</td>\n",
       "      <td>9.25</td>\n",
       "      <td>2421</td>\n",
       "      <td>10.74</td>\n",
       "    </tr>\n",
       "    <tr>\n",
       "      <th>R2L</th>\n",
       "      <td>995</td>\n",
       "      <td>0.79</td>\n",
       "      <td>2754</td>\n",
       "      <td>12.22</td>\n",
       "    </tr>\n",
       "    <tr>\n",
       "      <th>U2R</th>\n",
       "      <td>52</td>\n",
       "      <td>0.04</td>\n",
       "      <td>200</td>\n",
       "      <td>0.89</td>\n",
       "    </tr>\n",
       "  </tbody>\n",
       "</table>\n",
       "</div>"
      ],
      "text/plain": [
       "        attack_class  frequency_percent_train  attack_class  \\\n",
       "Normal         67343                    53.46          9711   \n",
       "DoS            45927                    36.46          7458   \n",
       "Probe          11656                     9.25          2421   \n",
       "R2L              995                     0.79          2754   \n",
       "U2R               52                     0.04           200   \n",
       "\n",
       "        frequency_percent_test  \n",
       "Normal                   43.08  \n",
       "DoS                      33.08  \n",
       "Probe                    10.74  \n",
       "R2L                      12.22  \n",
       "U2R                       0.89  "
      ]
     },
     "execution_count": 22,
     "metadata": {},
     "output_type": "execute_result"
    }
   ],
   "source": [
    "# Attack Class Distribution\n",
    "attack_class_freq_train = dfkdd_train[['attack_class']].apply(lambda x: x.value_counts())\n",
    "attack_class_freq_test = dfkdd_test[['attack_class']].apply(lambda x: x.value_counts())\n",
    "attack_class_freq_train['frequency_percent_train'] = round((100 * attack_class_freq_train / attack_class_freq_train.sum()),2)\n",
    "attack_class_freq_test['frequency_percent_test'] = round((100 * attack_class_freq_test / attack_class_freq_test.sum()),2)\n",
    "\n",
    "attack_class_dist = pd.concat([attack_class_freq_train,attack_class_freq_test], axis=1) \n",
    "attack_class_dist"
   ]
  },
  {
   "cell_type": "code",
   "execution_count": 23,
   "metadata": {
    "scrolled": true
   },
   "outputs": [
    {
     "data": {
      "image/png": "[encoded data removed]",
      "text/plain": [
       "<Figure size 432x288 with 1 Axes>"
      ]
     },
     "metadata": {
      "needs_background": "light"
     },
     "output_type": "display_data"
    }
   ],
   "source": [
    "# Attack class bar plot\n",
    "\n",
    "plot = attack_class_dist[['frequency_percent_train', 'frequency_percent_test']].plot(kind=\"bar\");\n",
    "plot.set_title(\"Attack Class Distribution\", fontsize=20);"
   ]
  },
  {
   "cell_type": "markdown",
   "metadata": {},
   "source": [
    "## Dummy variables"
   ]
  },
  {
   "cell_type": "code",
   "execution_count": 24,
   "metadata": {},
   "outputs": [
    {
     "name": "stdout",
     "output_type": "stream",
     "text": [
      "\n",
      "=============== Unique labels in the respective features ===============\n",
      "\n",
      "protocol_type : 3\n",
      "service : 70\n",
      "flag : 11\n"
     ]
    }
   ],
   "source": [
    "# To avoid the case when distict entries in categorical features dont match in the training and test ing data\n",
    "print(\"\\n=============== Unique labels in the respective features ===============\\n\")\n",
    "\n",
    "dfkdd_full = pd.concat([dfkdd_train, dfkdd_test], keys=[\"train\", \"test\"])\n",
    "cat = ['protocol_type', 'service', 'flag']\n",
    "\n",
    "for i in cat:\n",
    "    print(i,\": {}\".format(dfkdd_full[i].nunique()))"
   ]
  },
  {
   "cell_type": "code",
   "execution_count": 25,
   "metadata": {
    "scrolled": true
   },
   "outputs": [
    {
     "name": "stdout",
     "output_type": "stream",
     "text": [
      "\n",
      "============== Before Dummy Variable Creation ==============\n",
      "\n",
      "Dimensions of training data: (125973, 43)\n",
      "Dimensions of testing data: (22544, 43)\n",
      "\n",
      "=============== After Dummy Variable Creation ===============\n",
      "\n",
      "Dimensions of training data: (125973, 52)\n",
      "Dimensions of testing data: (22544, 52)\n"
     ]
    }
   ],
   "source": [
    "# No of unique values in 'service' is much greater, so dropping it\n",
    "dfkdd_full.drop('service', axis = 1, inplace = True)\n",
    "cat = ['protocol_type', 'flag']\n",
    "    \n",
    "print(\"\\n============== Before Dummy Variable Creation ==============\\n\")\n",
    "print(\"Dimensions of training data: {}\".format(dfkdd_train.shape))\n",
    "print(\"Dimensions of testing data: {}\".format(dfkdd_test.shape))\n",
    "\n",
    "dfkdd_full = pd.get_dummies(dfkdd_full, columns = cat, prefix = cat, drop_first = True)\n",
    "df_train_dum = dfkdd_full.loc[\"train\"]\n",
    "df_test_dum = dfkdd_full.loc[\"test\"]\n",
    "\n",
    "print(\"\\n=============== After Dummy Variable Creation ===============\\n\")\n",
    "print(\"Dimensions of training data: {}\".format(df_train_dum.shape))\n",
    "print(\"Dimensions of testing data: {}\".format(df_test_dum.shape))"
   ]
  },
  {
   "cell_type": "code",
   "execution_count": 26,
   "metadata": {},
   "outputs": [
    {
     "data": {
      "text/html": [
       "<div>\n",
       "<style scoped>\n",
       "    .dataframe tbody tr th:only-of-type {\n",
       "        vertical-align: middle;\n",
       "    }\n",
       "\n",
       "    .dataframe tbody tr th {\n",
       "        vertical-align: top;\n",
       "    }\n",
       "\n",
       "    .dataframe thead th {\n",
       "        text-align: right;\n",
       "    }\n",
       "</style>\n",
       "<table border=\"1\" class=\"dataframe\">\n",
       "  <thead>\n",
       "    <tr style=\"text-align: right;\">\n",
       "      <th></th>\n",
       "      <th>protocol_type</th>\n",
       "      <th>frequency_percent_train</th>\n",
       "      <th>protocol_type</th>\n",
       "      <th>frequency_percent_test</th>\n",
       "    </tr>\n",
       "  </thead>\n",
       "  <tbody>\n",
       "    <tr>\n",
       "      <th>tcp</th>\n",
       "      <td>102689</td>\n",
       "      <td>81.52</td>\n",
       "      <td>18880</td>\n",
       "      <td>83.75</td>\n",
       "    </tr>\n",
       "    <tr>\n",
       "      <th>udp</th>\n",
       "      <td>14993</td>\n",
       "      <td>11.90</td>\n",
       "      <td>2621</td>\n",
       "      <td>11.63</td>\n",
       "    </tr>\n",
       "    <tr>\n",
       "      <th>icmp</th>\n",
       "      <td>8291</td>\n",
       "      <td>6.58</td>\n",
       "      <td>1043</td>\n",
       "      <td>4.63</td>\n",
       "    </tr>\n",
       "  </tbody>\n",
       "</table>\n",
       "</div>"
      ],
      "text/plain": [
       "      protocol_type  frequency_percent_train  protocol_type  \\\n",
       "tcp          102689                    81.52          18880   \n",
       "udp           14993                    11.90           2621   \n",
       "icmp           8291                     6.58           1043   \n",
       "\n",
       "      frequency_percent_test  \n",
       "tcp                    83.75  \n",
       "udp                    11.63  \n",
       "icmp                    4.63  "
      ]
     },
     "execution_count": 26,
     "metadata": {},
     "output_type": "execute_result"
    }
   ],
   "source": [
    "# protocol_type Class Distribution\n",
    "protocol_type_freq_train = dfkdd_train[['protocol_type']].apply(lambda x: x.value_counts())\n",
    "protocol_type_freq_test = dfkdd_test[['protocol_type']].apply(lambda x: x.value_counts())\n",
    "protocol_type_freq_train['frequency_percent_train'] = round((100 * protocol_type_freq_train / protocol_type_freq_train.sum()),2)\n",
    "protocol_type_freq_test['frequency_percent_test'] = round((100 * protocol_type_freq_test / protocol_type_freq_test.sum()),2)\n",
    "\n",
    "protocol_type_dist = pd.concat([protocol_type_freq_train,protocol_type_freq_test], axis=1) \n",
    "protocol_type_dist"
   ]
  },
  {
   "cell_type": "code",
   "execution_count": 27,
   "metadata": {
    "scrolled": true
   },
   "outputs": [
    {
     "data": {
      "text/html": [
       "<div>\n",
       "<style scoped>\n",
       "    .dataframe tbody tr th:only-of-type {\n",
       "        vertical-align: middle;\n",
       "    }\n",
       "\n",
       "    .dataframe tbody tr th {\n",
       "        vertical-align: top;\n",
       "    }\n",
       "\n",
       "    .dataframe thead th {\n",
       "        text-align: right;\n",
       "    }\n",
       "</style>\n",
       "<table border=\"1\" class=\"dataframe\">\n",
       "  <thead>\n",
       "    <tr style=\"text-align: right;\">\n",
       "      <th></th>\n",
       "      <th>flag</th>\n",
       "      <th>frequency_percent_train</th>\n",
       "      <th>flag</th>\n",
       "      <th>frequency_percent_test</th>\n",
       "    </tr>\n",
       "  </thead>\n",
       "  <tbody>\n",
       "    <tr>\n",
       "      <th>SF</th>\n",
       "      <td>74945</td>\n",
       "      <td>59.49</td>\n",
       "      <td>14875</td>\n",
       "      <td>65.98</td>\n",
       "    </tr>\n",
       "    <tr>\n",
       "      <th>S0</th>\n",
       "      <td>34851</td>\n",
       "      <td>27.67</td>\n",
       "      <td>2013</td>\n",
       "      <td>8.93</td>\n",
       "    </tr>\n",
       "    <tr>\n",
       "      <th>REJ</th>\n",
       "      <td>11233</td>\n",
       "      <td>8.92</td>\n",
       "      <td>3850</td>\n",
       "      <td>17.08</td>\n",
       "    </tr>\n",
       "    <tr>\n",
       "      <th>RSTR</th>\n",
       "      <td>2421</td>\n",
       "      <td>1.92</td>\n",
       "      <td>669</td>\n",
       "      <td>2.97</td>\n",
       "    </tr>\n",
       "    <tr>\n",
       "      <th>RSTO</th>\n",
       "      <td>1562</td>\n",
       "      <td>1.24</td>\n",
       "      <td>773</td>\n",
       "      <td>3.43</td>\n",
       "    </tr>\n",
       "    <tr>\n",
       "      <th>S1</th>\n",
       "      <td>365</td>\n",
       "      <td>0.29</td>\n",
       "      <td>21</td>\n",
       "      <td>0.09</td>\n",
       "    </tr>\n",
       "    <tr>\n",
       "      <th>SH</th>\n",
       "      <td>271</td>\n",
       "      <td>0.22</td>\n",
       "      <td>73</td>\n",
       "      <td>0.32</td>\n",
       "    </tr>\n",
       "    <tr>\n",
       "      <th>S2</th>\n",
       "      <td>127</td>\n",
       "      <td>0.10</td>\n",
       "      <td>15</td>\n",
       "      <td>0.07</td>\n",
       "    </tr>\n",
       "    <tr>\n",
       "      <th>RSTOS0</th>\n",
       "      <td>103</td>\n",
       "      <td>0.08</td>\n",
       "      <td>2</td>\n",
       "      <td>0.01</td>\n",
       "    </tr>\n",
       "    <tr>\n",
       "      <th>S3</th>\n",
       "      <td>49</td>\n",
       "      <td>0.04</td>\n",
       "      <td>249</td>\n",
       "      <td>1.10</td>\n",
       "    </tr>\n",
       "    <tr>\n",
       "      <th>OTH</th>\n",
       "      <td>46</td>\n",
       "      <td>0.04</td>\n",
       "      <td>4</td>\n",
       "      <td>0.02</td>\n",
       "    </tr>\n",
       "  </tbody>\n",
       "</table>\n",
       "</div>"
      ],
      "text/plain": [
       "         flag  frequency_percent_train   flag  frequency_percent_test\n",
       "SF      74945                    59.49  14875                   65.98\n",
       "S0      34851                    27.67   2013                    8.93\n",
       "REJ     11233                     8.92   3850                   17.08\n",
       "RSTR     2421                     1.92    669                    2.97\n",
       "RSTO     1562                     1.24    773                    3.43\n",
       "S1        365                     0.29     21                    0.09\n",
       "SH        271                     0.22     73                    0.32\n",
       "S2        127                     0.10     15                    0.07\n",
       "RSTOS0    103                     0.08      2                    0.01\n",
       "S3         49                     0.04    249                    1.10\n",
       "OTH        46                     0.04      4                    0.02"
      ]
     },
     "execution_count": 27,
     "metadata": {},
     "output_type": "execute_result"
    }
   ],
   "source": [
    "# flag Class Distribution\n",
    "protocol_type_freq_train = dfkdd_train[['flag']].apply(lambda x: x.value_counts())\n",
    "protocol_type_freq_test = dfkdd_test[['flag']].apply(lambda x: x.value_counts())\n",
    "protocol_type_freq_train['frequency_percent_train'] = round((100 * protocol_type_freq_train / protocol_type_freq_train.sum()),2)\n",
    "protocol_type_freq_test['frequency_percent_test'] = round((100 * protocol_type_freq_test / protocol_type_freq_test.sum()),2)\n",
    "\n",
    "protocol_type_dist = pd.concat([protocol_type_freq_train,protocol_type_freq_test], axis=1) \n",
    "protocol_type_dist"
   ]
  },
  {
   "cell_type": "markdown",
   "metadata": {},
   "source": [
    "# Binary Classification"
   ]
  },
  {
   "cell_type": "code",
   "execution_count": 28,
   "metadata": {
    "scrolled": true
   },
   "outputs": [
    {
     "data": {
      "image/png": "[encoded data removed]",
      "text/plain": [
       "<Figure size 400x400 with 1 Axes>"
      ]
     },
     "metadata": {},
     "output_type": "display_data"
    }
   ],
   "source": [
    "# pie chart distribution of normal and attack labels\n",
    "plt.figure(figsize=(4,4), dpi=100)\n",
    "plt.pie(dfkdd_train.activity.value_counts().values,labels=dfkdd_train.activity.value_counts().index,autopct='%0.2f%%')\n",
    "plt.title(\"Distribution of activity labels\")\n",
    "plt.show()"
   ]
  },
  {
   "cell_type": "code",
   "execution_count": 29,
   "metadata": {
    "scrolled": true
   },
   "outputs": [
    {
     "data": {
      "text/html": [
       "<div>\n",
       "<style scoped>\n",
       "    .dataframe tbody tr th:only-of-type {\n",
       "        vertical-align: middle;\n",
       "    }\n",
       "\n",
       "    .dataframe tbody tr th {\n",
       "        vertical-align: top;\n",
       "    }\n",
       "\n",
       "    .dataframe thead th {\n",
       "        text-align: right;\n",
       "    }\n",
       "</style>\n",
       "<table border=\"1\" class=\"dataframe\">\n",
       "  <thead>\n",
       "    <tr style=\"text-align: right;\">\n",
       "      <th>Flag</th>\n",
       "      <th>OTH</th>\n",
       "      <th>REJ</th>\n",
       "      <th>RSTO</th>\n",
       "      <th>RSTOS0</th>\n",
       "      <th>RSTR</th>\n",
       "      <th>S0</th>\n",
       "      <th>S1</th>\n",
       "      <th>S2</th>\n",
       "      <th>S3</th>\n",
       "      <th>SF</th>\n",
       "      <th>SH</th>\n",
       "    </tr>\n",
       "    <tr>\n",
       "      <th>Activity</th>\n",
       "      <th></th>\n",
       "      <th></th>\n",
       "      <th></th>\n",
       "      <th></th>\n",
       "      <th></th>\n",
       "      <th></th>\n",
       "      <th></th>\n",
       "      <th></th>\n",
       "      <th></th>\n",
       "      <th></th>\n",
       "      <th></th>\n",
       "    </tr>\n",
       "  </thead>\n",
       "  <tbody>\n",
       "    <tr>\n",
       "      <th>Attack</th>\n",
       "      <td>35</td>\n",
       "      <td>8540</td>\n",
       "      <td>1343</td>\n",
       "      <td>103</td>\n",
       "      <td>2275</td>\n",
       "      <td>34497</td>\n",
       "      <td>4</td>\n",
       "      <td>8</td>\n",
       "      <td>4</td>\n",
       "      <td>11552</td>\n",
       "      <td>269</td>\n",
       "    </tr>\n",
       "    <tr>\n",
       "      <th>Normal</th>\n",
       "      <td>11</td>\n",
       "      <td>2693</td>\n",
       "      <td>219</td>\n",
       "      <td>0</td>\n",
       "      <td>146</td>\n",
       "      <td>354</td>\n",
       "      <td>361</td>\n",
       "      <td>119</td>\n",
       "      <td>45</td>\n",
       "      <td>63393</td>\n",
       "      <td>2</td>\n",
       "    </tr>\n",
       "  </tbody>\n",
       "</table>\n",
       "</div>"
      ],
      "text/plain": [
       "Flag      OTH   REJ  RSTO  RSTOS0  RSTR     S0   S1   S2  S3     SF   SH\n",
       "Activity                                                                \n",
       "Attack     35  8540  1343     103  2275  34497    4    8   4  11552  269\n",
       "Normal     11  2693   219       0   146    354  361  119  45  63393    2"
      ]
     },
     "execution_count": 29,
     "metadata": {},
     "output_type": "execute_result"
    }
   ],
   "source": [
    "pd.crosstab(dfkdd_train.activity, dfkdd_train.flag, rownames=['Activity'], colnames=['Flag'], dropna=False)"
   ]
  },
  {
   "cell_type": "code",
   "execution_count": 30,
   "metadata": {
    "scrolled": true
   },
   "outputs": [
    {
     "data": {
      "text/html": [
       "<div>\n",
       "<style scoped>\n",
       "    .dataframe tbody tr th:only-of-type {\n",
       "        vertical-align: middle;\n",
       "    }\n",
       "\n",
       "    .dataframe tbody tr th {\n",
       "        vertical-align: top;\n",
       "    }\n",
       "\n",
       "    .dataframe thead th {\n",
       "        text-align: right;\n",
       "    }\n",
       "</style>\n",
       "<table border=\"1\" class=\"dataframe\">\n",
       "  <thead>\n",
       "    <tr style=\"text-align: right;\">\n",
       "      <th>Protocol</th>\n",
       "      <th>icmp</th>\n",
       "      <th>tcp</th>\n",
       "      <th>udp</th>\n",
       "    </tr>\n",
       "    <tr>\n",
       "      <th>Activity</th>\n",
       "      <th></th>\n",
       "      <th></th>\n",
       "      <th></th>\n",
       "    </tr>\n",
       "  </thead>\n",
       "  <tbody>\n",
       "    <tr>\n",
       "      <th>Attack</th>\n",
       "      <td>6982</td>\n",
       "      <td>49089</td>\n",
       "      <td>2559</td>\n",
       "    </tr>\n",
       "    <tr>\n",
       "      <th>Normal</th>\n",
       "      <td>1309</td>\n",
       "      <td>53600</td>\n",
       "      <td>12434</td>\n",
       "    </tr>\n",
       "  </tbody>\n",
       "</table>\n",
       "</div>"
      ],
      "text/plain": [
       "Protocol  icmp    tcp    udp\n",
       "Activity                    \n",
       "Attack    6982  49089   2559\n",
       "Normal    1309  53600  12434"
      ]
     },
     "execution_count": 30,
     "metadata": {},
     "output_type": "execute_result"
    }
   ],
   "source": [
    "pd.crosstab(dfkdd_train.activity, dfkdd_train.protocol_type, rownames=['Activity'], colnames=['Protocol'], dropna=False)"
   ]
  },
  {
   "cell_type": "markdown",
   "metadata": {},
   "source": [
    "### Some of the categorical labels seem to be highly predictive "
   ]
  },
  {
   "cell_type": "markdown",
   "metadata": {},
   "source": [
    "###  Data preperation and standardization"
   ]
  },
  {
   "cell_type": "code",
   "execution_count": 31,
   "metadata": {},
   "outputs": [],
   "source": [
    "from sklearn.preprocessing import StandardScaler"
   ]
  },
  {
   "cell_type": "code",
   "execution_count": 32,
   "metadata": {},
   "outputs": [],
   "source": [
    "train_dum_binary = df_train_dum.copy()\n",
    "test_dum_binary = df_test_dum.copy()"
   ]
  },
  {
   "cell_type": "code",
   "execution_count": 33,
   "metadata": {},
   "outputs": [],
   "source": [
    "#Handling Outliers as logistic regression is prone to them\n",
    "\n",
    "def outlier_capping(x):\n",
    "    x = x.clip(upper=x.quantile(0.99))\n",
    "    x = x.clip(lower=x.quantile(0.01))\n",
    "    return x\n",
    "\n",
    "#---------------------------------------------------------------------------\n",
    "\n",
    "num_cols = train_dum_binary.select_dtypes(include='number').columns\n",
    "\n",
    "train_dum_binary[num_cols]=train_dum_binary[num_cols].apply(outlier_capping)\n",
    "test_dum_binary[num_cols]=test_dum_binary[num_cols].apply(outlier_capping)"
   ]
  },
  {
   "cell_type": "code",
   "execution_count": 34,
   "metadata": {},
   "outputs": [
    {
     "data": {
      "text/plain": [
       "Index(['land', 'wrong_fragment', 'urgent', 'num_failed_logins', 'root_shell',\n",
       "       'su_attempted', 'num_root', 'num_file_creations', 'num_shells',\n",
       "       'num_access_files', 'is_host_login', 'is_guest_login', 'flag_RSTOS0',\n",
       "       'flag_S1', 'flag_S2', 'flag_S3', 'flag_SH'],\n",
       "      dtype='object')"
      ]
     },
     "execution_count": 34,
     "metadata": {},
     "output_type": "execute_result"
    }
   ],
   "source": [
    "# getting rid of features with no variance after outlier treatment\n",
    "\n",
    "num_cols = train_dum_binary.select_dtypes(include='number').columns\n",
    "num_summary = train_dum_binary[num_cols].apply(continuous_var_summary).T\n",
    "constants = num_summary[num_summary.MIN == num_summary.MAX].index\n",
    "constants"
   ]
  },
  {
   "cell_type": "code",
   "execution_count": 35,
   "metadata": {},
   "outputs": [],
   "source": [
    "train_dum_binary.drop(constants, axis=1, inplace=True)\n",
    "test_dum_binary.drop(constants, axis=1, inplace=True)"
   ]
  },
  {
   "cell_type": "markdown",
   "metadata": {},
   "source": [
    "### Standardizing Data "
   ]
  },
  {
   "cell_type": "code",
   "execution_count": 36,
   "metadata": {},
   "outputs": [],
   "source": [
    "scaler = StandardScaler()\n",
    "train_unscaled=train_dum_binary.copy()\n",
    "test_unscaled=test_dum_binary.copy()\n",
    "\n",
    "# ------------------------------------------------------------------------------------\n",
    "\n",
    "scaler = StandardScaler()\n",
    "\n",
    "num_cols = train_dum_binary.select_dtypes(include='number').columns\n",
    "\n",
    "sc_train = scaler.fit_transform(train_dum_binary[num_cols])\n",
    "sc_test = scaler.transform(test_dum_binary[num_cols])\n",
    "\n",
    "#turn the result back to a dataframe\n",
    "sc_traindf = pd.DataFrame(sc_train, columns = num_cols)\n",
    "sc_testdf = pd.DataFrame(sc_test, columns = num_cols)\n",
    "\n",
    "train_dum_binary[num_cols] = sc_traindf\n",
    "test_dum_binary[num_cols] = sc_test"
   ]
  },
  {
   "cell_type": "code",
   "execution_count": 37,
   "metadata": {},
   "outputs": [],
   "source": [
    "train_dum_binary['activity'] = train_dum_binary['activity'].apply(lambda x: x=='Normal').astype('int32')\n",
    "test_dum_binary['activity'] = test_dum_binary['activity'].apply(lambda x: x=='Normal').astype('int32')"
   ]
  },
  {
   "cell_type": "code",
   "execution_count": 38,
   "metadata": {
    "scrolled": true
   },
   "outputs": [
    {
     "data": {
      "text/plain": [
       "activity                    1.000000\n",
       "flag_SF                     0.756286\n",
       "same_srv_rate               0.751913\n",
       "dst_host_srv_count          0.722536\n",
       "dst_host_same_srv_rate      0.693803\n",
       "logged_in                   0.690171\n",
       "dst_host_srv_serror_rate    0.654985\n",
       "dst_host_serror_rate        0.651842\n",
       "serror_rate                 0.650652\n",
       "flag_S0                     0.650206\n",
       "srv_serror_rate             0.648289\n",
       "count                       0.576444\n",
       "last_flag                   0.404302\n",
       "dst_host_count              0.375052\n",
       "dst_bytes                   0.289517\n",
       "Name: activity, dtype: float64"
      ]
     },
     "execution_count": 38,
     "metadata": {},
     "output_type": "execute_result"
    }
   ],
   "source": [
    "train_dum_binary.corr().abs()['activity'].sort_values(ascending=False).head(15)"
   ]
  },
  {
   "cell_type": "markdown",
   "metadata": {},
   "source": [
    "### Inspecting correlation "
   ]
  },
  {
   "cell_type": "code",
   "execution_count": 39,
   "metadata": {},
   "outputs": [],
   "source": [
    "correlation = train_dum_binary.corr()\n",
    "correlation.to_excel('correlation.xlsx')"
   ]
  },
  {
   "cell_type": "code",
   "execution_count": 40,
   "metadata": {},
   "outputs": [
    {
     "data": {
      "image/png": "[encoded data removed]",
      "text/plain": [
       "<Figure size 1080x864 with 2 Axes>"
      ]
     },
     "metadata": {
      "needs_background": "light"
     },
     "output_type": "display_data"
    }
   ],
   "source": [
    "# Plotting correlation\n",
    "plt.figure(figsize=(15, 12))\n",
    "sns.heatmap(correlation, cmap='coolwarm')\n",
    "plt.show()"
   ]
  },
  {
   "cell_type": "markdown",
   "metadata": {},
   "source": [
    "## Feature selection using RFE"
   ]
  },
  {
   "cell_type": "code",
   "execution_count": 41,
   "metadata": {},
   "outputs": [
    {
     "name": "stdout",
     "output_type": "stream",
     "text": [
      "['count', 'diff_srv_rate', 'dst_bytes', 'dst_host_count', 'dst_host_diff_srv_rate', 'dst_host_rerror_rate', 'dst_host_same_src_port_rate', 'dst_host_same_srv_rate', 'dst_host_serror_rate', 'dst_host_srv_count', 'dst_host_srv_diff_host_rate', 'dst_host_srv_serror_rate', 'flag_SF', 'last_flag', 'logged_in', 'protocol_type_tcp', 'same_srv_rate', 'src_bytes', 'srv_count', 'srv_serror_rate']\n"
     ]
    }
   ],
   "source": [
    "# Separating features (X-variables) & Y(dependent) variable into 2 separate dataframe\n",
    "features = train_dum_binary[train_dum_binary.columns.difference(['activity', 'attack_class'])]\n",
    "target = train_dum_binary['activity']\n",
    "\n",
    "from sklearn.feature_selection import RFE\n",
    "from sklearn.linear_model import LogisticRegression\n",
    "from sklearn.ensemble import RandomForestClassifier\n",
    "\n",
    "# Using RFE to get importance of each variable\n",
    "rfe = RFE(estimator = RandomForestClassifier(random_state=42), n_features_to_select=20)\n",
    "rfe.fit(features, target)\n",
    "\n",
    "# Getting important features\n",
    "rfe_cols = list(features.columns[rfe.support_])\n",
    "print(rfe_cols)"
   ]
  },
  {
   "cell_type": "markdown",
   "metadata": {},
   "source": [
    "## Multi Collinearity Check - VIF"
   ]
  },
  {
   "cell_type": "code",
   "execution_count": 42,
   "metadata": {
    "scrolled": false
   },
   "outputs": [
    {
     "name": "stdout",
     "output_type": "stream",
     "text": [
      "activity ~ count + diff_srv_rate + dst_bytes + dst_host_count + dst_host_diff_srv_rate + dst_host_rerror_rate + dst_host_same_src_port_rate + dst_host_same_srv_rate + dst_host_serror_rate + dst_host_srv_count + dst_host_srv_diff_host_rate + dst_host_srv_serror_rate + flag_SF + last_flag + logged_in + protocol_type_tcp + same_srv_rate + src_bytes + srv_count + srv_serror_rate\n"
     ]
    }
   ],
   "source": [
    "# High VIF means information in that variable has already been explained by other X variables present in the model\n",
    "from statsmodels.stats.outliers_influence import variance_inflation_factor\n",
    "from patsy import dmatrices\n",
    "\n",
    "model_param = 'activity ~ ' + ' + '.join(rfe_cols)\n",
    "print(model_param)"
   ]
  },
  {
   "cell_type": "code",
   "execution_count": 43,
   "metadata": {
    "scrolled": true
   },
   "outputs": [
    {
     "data": {
      "text/html": [
       "<div>\n",
       "<style scoped>\n",
       "    .dataframe tbody tr th:only-of-type {\n",
       "        vertical-align: middle;\n",
       "    }\n",
       "\n",
       "    .dataframe tbody tr th {\n",
       "        vertical-align: top;\n",
       "    }\n",
       "\n",
       "    .dataframe thead th {\n",
       "        text-align: right;\n",
       "    }\n",
       "</style>\n",
       "<table border=\"1\" class=\"dataframe\">\n",
       "  <thead>\n",
       "    <tr style=\"text-align: right;\">\n",
       "      <th></th>\n",
       "      <th>Features</th>\n",
       "      <th>VIF</th>\n",
       "    </tr>\n",
       "  </thead>\n",
       "  <tbody>\n",
       "    <tr>\n",
       "      <th>11</th>\n",
       "      <td>logged_in</td>\n",
       "      <td>3.632034</td>\n",
       "    </tr>\n",
       "    <tr>\n",
       "      <th>1</th>\n",
       "      <td>count</td>\n",
       "      <td>3.013366</td>\n",
       "    </tr>\n",
       "    <tr>\n",
       "      <th>8</th>\n",
       "      <td>dst_host_srv_count</td>\n",
       "      <td>2.950362</td>\n",
       "    </tr>\n",
       "    <tr>\n",
       "      <th>14</th>\n",
       "      <td>srv_count</td>\n",
       "      <td>2.464710</td>\n",
       "    </tr>\n",
       "    <tr>\n",
       "      <th>4</th>\n",
       "      <td>dst_host_count</td>\n",
       "      <td>1.963027</td>\n",
       "    </tr>\n",
       "  </tbody>\n",
       "</table>\n",
       "</div>"
      ],
      "text/plain": [
       "              Features       VIF\n",
       "11           logged_in  3.632034\n",
       "1                count  3.013366\n",
       "8   dst_host_srv_count  2.950362\n",
       "14           srv_count  2.464710\n",
       "4       dst_host_count  1.963027"
      ]
     },
     "execution_count": 43,
     "metadata": {},
     "output_type": "execute_result"
    }
   ],
   "source": [
    "# First taking all the vaiables and iteratively removing variable with higher VIF we got the final eqn as new_eqn\n",
    "\n",
    "#dropped: dst_host_srv_serror_rate + srv_serror_rate + flag_SF + dst_host_same_srv_rate + same_srv_rate + protocol_type_tcp + \n",
    "#dst_host_serror_rate +\n",
    "\n",
    "model_param = '''activity ~ count + diff_srv_rate + dst_bytes + dst_host_count + dst_host_diff_srv_rate + dst_host_rerror_rate + \n",
    "dst_host_same_src_port_rate + dst_host_srv_count + dst_host_srv_diff_host_rate + last_flag + logged_in + \n",
    "protocol_type_udp + src_bytes + srv_count'''\n",
    "\n",
    "# separate the Y and X variables\n",
    "y, X = dmatrices(model_param, data = train_dum_binary, return_type = 'dataframe')\n",
    "\n",
    "# For each X, calculate VIF and save in dataframe\n",
    "vif = pd.DataFrame()\n",
    "vif['Features'] = X.columns\n",
    "vif['VIF'] = [variance_inflation_factor(X.values, i) for i in range(X.shape[1])]\n",
    "\n",
    "# display the output\n",
    "vif.sort_values('VIF', ascending=False, inplace=True)\n",
    "vif.head()"
   ]
  },
  {
   "cell_type": "code",
   "execution_count": 44,
   "metadata": {},
   "outputs": [
    {
     "name": "stdout",
     "output_type": "stream",
     "text": [
      "numbers of selected features:  14\n",
      "['count', 'diff_srv_rate', 'dst_bytes', 'dst_host_count', 'dst_host_diff_srv_rate', 'dst_host_rerror_rate', 'dst_host_same_src_port_rate', 'dst_host_srv_count', 'dst_host_srv_diff_host_rate', 'last_flag', 'logged_in', 'protocol_type_udp', 'src_bytes', 'srv_count']\n"
     ]
    }
   ],
   "source": [
    "# All the features have less than 4 VIF Factor(low Multicollinearity). using these features for model building.\n",
    "vif_cols = list(set(vif.Features).difference(['Intercept']))\n",
    "vif_cols.sort()\n",
    "print('numbers of selected features: ', len(vif_cols))\n",
    "print(vif_cols)"
   ]
  },
  {
   "cell_type": "markdown",
   "metadata": {},
   "source": [
    "## Modelling and Predictions"
   ]
  },
  {
   "cell_type": "code",
   "execution_count": 45,
   "metadata": {},
   "outputs": [
    {
     "name": "stdout",
     "output_type": "stream",
     "text": [
      "attack ~ count + diff_srv_rate + dst_bytes + dst_host_count + dst_host_diff_srv_rate + dst_host_rerror_rate + dst_host_same_src_port_rate + dst_host_srv_count + dst_host_srv_diff_host_rate + last_flag + logged_in + protocol_type_udp + src_bytes + srv_count\n"
     ]
    }
   ],
   "source": [
    "# get the model equation\n",
    "formula_m1 = 'attack ~ ' + ' + '.join(vif_cols)\n",
    "print(formula_m1)"
   ]
  },
  {
   "cell_type": "code",
   "execution_count": 46,
   "metadata": {
    "scrolled": true
   },
   "outputs": [
    {
     "name": "stdout",
     "output_type": "stream",
     "text": [
      "Optimization terminated successfully.\n",
      "         Current function value: 0.096433\n",
      "         Iterations 11\n",
      "                               Results: Logit\n",
      "============================================================================\n",
      "Model:                   Logit               Pseudo R-squared:    0.860     \n",
      "Dependent Variable:      activity            AIC:                 24326.0087\n",
      "Date:                    2022-09-26 10:50    BIC:                 24472.1660\n",
      "No. Observations:        125973              Log-Likelihood:      -12148.   \n",
      "Df Model:                14                  LL-Null:             -87016.   \n",
      "Df Residuals:            125958              LLR p-value:         0.0000    \n",
      "Converged:               1.0000              Scale:               1.0000    \n",
      "No. Iterations:          11.0000                                            \n",
      "----------------------------------------------------------------------------\n",
      "                             Coef.  Std.Err.    z     P>|z|   [0.025  0.975]\n",
      "----------------------------------------------------------------------------\n",
      "Intercept                    0.2291   0.0591   3.8790 0.0001  0.1133  0.3448\n",
      "count                       -6.0715   0.1098 -55.2927 0.0000 -6.2867 -5.8563\n",
      "diff_srv_rate                0.0601   0.0138   4.3423 0.0000  0.0330  0.0873\n",
      "dst_bytes                    0.1021   0.0299   3.4126 0.0006  0.0435  0.1607\n",
      "dst_host_count              -1.2459   0.0278 -44.7715 0.0000 -1.3005 -1.1914\n",
      "dst_host_diff_srv_rate      -0.1657   0.0192  -8.6460 0.0000 -0.2033 -0.1282\n",
      "dst_host_rerror_rate        -0.2552   0.0229 -11.1574 0.0000 -0.3001 -0.2104\n",
      "dst_host_same_src_port_rate -0.6116   0.0163 -37.5601 0.0000 -0.6436 -0.5797\n",
      "dst_host_srv_count           0.8531   0.0298  28.6458 0.0000  0.7947  0.9115\n",
      "dst_host_srv_diff_host_rate -0.6542   0.0183 -35.7536 0.0000 -0.6901 -0.6184\n",
      "last_flag                    1.6891   0.0192  88.0806 0.0000  1.6516  1.7267\n",
      "logged_in                    2.2627   0.0360  62.8331 0.0000  2.1921  2.3333\n",
      "protocol_type_udp            0.9738   0.0166  58.5942 0.0000  0.9412  1.0064\n",
      "src_bytes                   -0.3431   0.0116 -29.5946 0.0000 -0.3659 -0.3204\n",
      "srv_count                    3.5207   0.0704  49.9818 0.0000  3.3827  3.6588\n",
      "============================================================================\n",
      "\n"
     ]
    }
   ],
   "source": [
    "# the model equation after dropping features with higher pvalue\n",
    "import statsmodels.formula.api as smf\n",
    "\n",
    "formula_m1 = '''activity ~ count + diff_srv_rate + dst_bytes + dst_host_count + dst_host_diff_srv_rate + dst_host_rerror_rate + \n",
    "dst_host_same_src_port_rate + dst_host_srv_count + dst_host_srv_diff_host_rate + last_flag + logged_in + protocol_type_udp + \n",
    "src_bytes + srv_count'''\n",
    "\n",
    "# execute a model for the X variables\n",
    "model1 = smf.logit( formula = formula_m1, data = train_dum_binary ).fit() \n",
    "\n",
    "# print the model summary stats \n",
    "print(model1.summary2())"
   ]
  },
  {
   "cell_type": "code",
   "execution_count": 47,
   "metadata": {},
   "outputs": [
    {
     "name": "stdout",
     "output_type": "stream",
     "text": [
      "length of final features: 14\n",
      "['count', 'diff_srv_rate', 'dst_bytes', 'dst_host_count', 'dst_host_diff_srv_rate', 'dst_host_rerror_rate', 'dst_host_same_src_port_rate', 'dst_host_srv_count', 'dst_host_srv_diff_host_rate', 'last_flag', 'logged_in', 'protocol_type_udp', 'src_bytes', 'srv_count']\n"
     ]
    }
   ],
   "source": [
    "final_features = list(model1.pvalues.index.difference(['Intercept']))\n",
    "print('length of final features:', len(final_features))\n",
    "print(final_features)"
   ]
  },
  {
   "cell_type": "code",
   "execution_count": 48,
   "metadata": {},
   "outputs": [
    {
     "data": {
      "text/html": [
       "<div>\n",
       "<style scoped>\n",
       "    .dataframe tbody tr th:only-of-type {\n",
       "        vertical-align: middle;\n",
       "    }\n",
       "\n",
       "    .dataframe tbody tr th {\n",
       "        vertical-align: top;\n",
       "    }\n",
       "\n",
       "    .dataframe thead th {\n",
       "        text-align: right;\n",
       "    }\n",
       "</style>\n",
       "<table border=\"1\" class=\"dataframe\">\n",
       "  <thead>\n",
       "    <tr style=\"text-align: right;\">\n",
       "      <th></th>\n",
       "      <th>activity</th>\n",
       "      <th>predict_proba</th>\n",
       "    </tr>\n",
       "  </thead>\n",
       "  <tbody>\n",
       "    <tr>\n",
       "      <th>0</th>\n",
       "      <td>1</td>\n",
       "      <td>0.810755</td>\n",
       "    </tr>\n",
       "    <tr>\n",
       "      <th>1</th>\n",
       "      <td>1</td>\n",
       "      <td>0.027506</td>\n",
       "    </tr>\n",
       "    <tr>\n",
       "      <th>2</th>\n",
       "      <td>0</td>\n",
       "      <td>0.001527</td>\n",
       "    </tr>\n",
       "    <tr>\n",
       "      <th>3</th>\n",
       "      <td>1</td>\n",
       "      <td>0.999971</td>\n",
       "    </tr>\n",
       "    <tr>\n",
       "      <th>4</th>\n",
       "      <td>1</td>\n",
       "      <td>0.999583</td>\n",
       "    </tr>\n",
       "  </tbody>\n",
       "</table>\n",
       "</div>"
      ],
      "text/plain": [
       "   activity  predict_proba\n",
       "0         1       0.810755\n",
       "1         1       0.027506\n",
       "2         0       0.001527\n",
       "3         1       0.999971\n",
       "4         1       0.999583"
      ]
     },
     "execution_count": 48,
     "metadata": {},
     "output_type": "execute_result"
    }
   ],
   "source": [
    "trainout = pd.DataFrame(train_dum_binary['activity'])\n",
    "trainout['predict_proba'] = model1.predict(train_dum_binary[final_features])\n",
    "trainout.head()"
   ]
  },
  {
   "cell_type": "code",
   "execution_count": 49,
   "metadata": {},
   "outputs": [
    {
     "data": {
      "text/plain": [
       "0    0.72\n",
       "Name: Cutoff, dtype: float64"
      ]
     },
     "execution_count": 49,
     "metadata": {},
     "output_type": "execute_result"
    }
   ],
   "source": [
    "# declare empty dataframe\n",
    "cm_scores = pd.DataFrame()\n",
    "\n",
    "for iCutoff in np.arange(0, 1, 0.005):\n",
    "    \n",
    "    # do the predictions at the cutoff\n",
    "    y_predict = np.where( trainout.predict_proba >= iCutoff, 1, 0 )\n",
    "    \n",
    "    # create the confusion matrix with predicted y\n",
    "    cm = metrics.confusion_matrix( trainout.activity, y_predict )[::-1, ::-1]\n",
    "    \n",
    "    # get the sentivity + specificity at the cutoff\n",
    "    Total = cm[0, 0]/cm.sum(axis = 1)[0] + cm[1, 1]/cm.sum(axis = 1)[1]\n",
    "    \n",
    "    # append the data row wise in the dataframe\n",
    "    cm_scores = pd.concat( [cm_scores, pd.DataFrame([iCutoff, Total]).T ], axis = 0 )\n",
    "    \n",
    "cm_scores.columns = ['Cutoff', 'Score']\n",
    "cm_scores.loc[ cm_scores.Score == cm_scores.Score.max(), 'Cutoff']"
   ]
  },
  {
   "cell_type": "code",
   "execution_count": 50,
   "metadata": {},
   "outputs": [],
   "source": [
    "lr_train_pred = model1.predict(train_dum_binary[final_features]).map(lambda x: 1 if x >= 0.72 else 0 )\n",
    "lr_test_pred = model1.predict(test_dum_binary[final_features]).map(lambda x: 1 if x >= 0.72 else 0 )"
   ]
  },
  {
   "cell_type": "code",
   "execution_count": 51,
   "metadata": {},
   "outputs": [
    {
     "name": "stdout",
     "output_type": "stream",
     "text": [
      "The overall accuracy score for the Train Data is :  0.9677629333269828\n",
      "The overall accuracy score for the Test Data  is :  0.907957771469127\n"
     ]
    }
   ],
   "source": [
    "print(\"The overall accuracy score for the Train Data is : \", metrics.accuracy_score(train_dum_binary['activity'], lr_train_pred))\n",
    "print(\"The overall accuracy score for the Test Data  is : \", metrics.accuracy_score(test_dum_binary['activity'], lr_test_pred))"
   ]
  },
  {
   "cell_type": "code",
   "execution_count": 52,
   "metadata": {},
   "outputs": [
    {
     "name": "stdout",
     "output_type": "stream",
     "text": [
      "ROC AUC score of train data: 0.9694224831705577\n",
      "ROC AUC score of test data: 0.9068908369192181\n"
     ]
    }
   ],
   "source": [
    "print('ROC AUC score of train data:', metrics.roc_auc_score(train_dum_binary['activity'], lr_train_pred))\n",
    "print('ROC AUC score of test data:', metrics.roc_auc_score(test_dum_binary['activity'], lr_test_pred))"
   ]
  },
  {
   "cell_type": "code",
   "execution_count": 53,
   "metadata": {},
   "outputs": [
    {
     "name": "stdout",
     "output_type": "stream",
     "text": [
      "              precision    recall  f1-score   support\n",
      "\n",
      "           0       0.94      0.99      0.97     58630\n",
      "           1       0.99      0.95      0.97     67343\n",
      "\n",
      "    accuracy                           0.97    125973\n",
      "   macro avg       0.97      0.97      0.97    125973\n",
      "weighted avg       0.97      0.97      0.97    125973\n",
      "\n"
     ]
    }
   ],
   "source": [
    "# Getting classification metrics scores for training dataset\n",
    "print(metrics.classification_report(train_dum_binary['activity'], lr_train_pred))"
   ]
  },
  {
   "cell_type": "code",
   "execution_count": 54,
   "metadata": {},
   "outputs": [
    {
     "name": "stdout",
     "output_type": "stream",
     "text": [
      "              precision    recall  f1-score   support\n",
      "\n",
      "           0       0.92      0.91      0.92     12833\n",
      "           1       0.89      0.90      0.89      9711\n",
      "\n",
      "    accuracy                           0.91     22544\n",
      "   macro avg       0.91      0.91      0.91     22544\n",
      "weighted avg       0.91      0.91      0.91     22544\n",
      "\n"
     ]
    }
   ],
   "source": [
    "# Getting classification metrics scores for testing dataset\n",
    "print(metrics.classification_report(test_dum_binary['activity'], lr_test_pred))"
   ]
  },
  {
   "cell_type": "code",
   "execution_count": 55,
   "metadata": {},
   "outputs": [
    {
     "data": {
      "image/png": "[encoded data removed]",
      "text/plain": [
       "<Figure size 432x288 with 2 Axes>"
      ]
     },
     "metadata": {
      "needs_background": "light"
     },
     "output_type": "display_data"
    }
   ],
   "source": [
    "# confusion matrix of training dataset\n",
    "confusion_matrix = metrics.confusion_matrix(train_dum_binary['activity'], lr_train_pred)\n",
    "sns.heatmap(confusion_matrix, annot = True, fmt = '.2f', \n",
    "            xticklabels = ['Attack', 'Normal'], \n",
    "            yticklabels = ['Attack', 'Normal'])\n",
    "plt.xlabel('Predicted Label')\n",
    "plt.ylabel('Actual Label')\n",
    "plt.show()"
   ]
  },
  {
   "cell_type": "code",
   "execution_count": 56,
   "metadata": {},
   "outputs": [
    {
     "data": {
      "image/png": "[encoded data removed]",
      "text/plain": [
       "<Figure size 432x288 with 2 Axes>"
      ]
     },
     "metadata": {
      "needs_background": "light"
     },
     "output_type": "display_data"
    }
   ],
   "source": [
    "# confusion matrix of testing dataset\n",
    "confusion_matrix = metrics.confusion_matrix(test_dum_binary['activity'], lr_test_pred)\n",
    "sns.heatmap(confusion_matrix, annot = True, fmt = '.2f', \n",
    "            xticklabels = ['Attack', 'Normal'], \n",
    "            yticklabels = ['Attack', 'Normal'])\n",
    "plt.xlabel('Predicted Label')\n",
    "plt.ylabel('Actual Label')\n",
    "plt.show()"
   ]
  },
  {
   "cell_type": "code",
   "execution_count": 57,
   "metadata": {},
   "outputs": [],
   "source": [
    "trainout = train_unscaled[final_features + ['activity', 'attack_class']]\n",
    "\n",
    "testout = test_unscaled[final_features + ['activity', 'attack_class']]\n"
   ]
  },
  {
   "cell_type": "code",
   "execution_count": 58,
   "metadata": {},
   "outputs": [],
   "source": [
    "lr_train_pred=lr_train_pred.apply(lambda x: 'Normal' if x==1 else 'Attack')\n",
    "\n",
    "lr_test_pred=lr_test_pred.apply(lambda x: 'Normal' if x==1 else 'Attack')"
   ]
  },
  {
   "cell_type": "code",
   "execution_count": 65,
   "metadata": {},
   "outputs": [],
   "source": [
    "trainout.loc[:,'lr_activity'] = lr_train_pred.values\n",
    "testout.loc[:,'lr_activity'] = lr_test_pred.values"
   ]
  },
  {
   "cell_type": "markdown",
   "metadata": {},
   "source": [
    "## A few more models"
   ]
  },
  {
   "cell_type": "code",
   "execution_count": 69,
   "metadata": {},
   "outputs": [],
   "source": [
    "final_features = ['count', 'diff_srv_rate', 'dst_bytes', 'dst_host_count', 'dst_host_diff_srv_rate', 'dst_host_rerror_rate', \n",
    "                  'dst_host_same_src_port_rate', 'dst_host_srv_count', 'dst_host_srv_diff_host_rate', 'last_flag', 'logged_in', \n",
    "                  'protocol_type_udp', 'src_bytes', 'srv_count']\n",
    "\n",
    "train_x, test_x, train_y, test_y = train_test_split(train_dum_binary[final_features], train_dum_binary['activity'], \n",
    "                                                    test_size = 0.3, \n",
    "                                                    random_state = 42)"
   ]
  },
  {
   "cell_type": "code",
   "execution_count": 70,
   "metadata": {},
   "outputs": [],
   "source": [
    "# Writing output data into excel\n",
    "output = pd.ExcelWriter('Network_Intrusion_output.xlsx')"
   ]
  },
  {
   "cell_type": "code",
   "execution_count": 71,
   "metadata": {},
   "outputs": [],
   "source": [
    "from sklearn.linear_model import LogisticRegression\n",
    "from sklearn.ensemble import RandomForestClassifier\n",
    "from sklearn.tree import DecisionTreeClassifier\n",
    "from sklearn.ensemble import AdaBoostClassifier\n",
    "from sklearn.tree import ExtraTreeClassifier\n",
    "from sklearn.ensemble import GradientBoostingClassifier\n",
    "from xgboost import XGBRFClassifier\n",
    "from sklearn import svm\n",
    "\n",
    "from sklearn.naive_bayes import GaussianNB\n",
    "from sklearn.neighbors import KNeighborsClassifier\n",
    "from xgboost import XGBClassifier\n",
    "from sklearn.neural_network import MLPClassifier\n",
    "from sklearn.multiclass import OneVsRestClassifier"
   ]
  },
  {
   "cell_type": "code",
   "execution_count": 72,
   "metadata": {},
   "outputs": [],
   "source": [
    "# Different models\n",
    "models = []\n",
    "models.append(('LR', LogisticRegression()))\n",
    "models.append(('RFC', RandomForestClassifier()))\n",
    "models.append(('CART', DecisionTreeClassifier()))\n",
    "models.append(('ADABC', AdaBoostClassifier()))\n",
    "models.append(('ETC', ExtraTreeClassifier()))\n",
    "models.append(('GBC', GradientBoostingClassifier()))\n",
    "models.append(('XGBC', XGBRFClassifier()))"
   ]
  },
  {
   "cell_type": "code",
   "execution_count": 73,
   "metadata": {},
   "outputs": [
    {
     "name": "stdout",
     "output_type": "stream",
     "text": [
      "LR: 0.993750 (0.000135)\n",
      "RFC: 0.999993 (0.000003)\n",
      "CART: 0.997262 (0.000365)\n",
      "ADABC: 0.998992 (0.000155)\n",
      "ETC: 0.995757 (0.000559)\n",
      "GBC: 0.999917 (0.000027)\n",
      "XGBC: 0.999819 (0.000021)\n"
     ]
    }
   ],
   "source": [
    "# evaluate each model in turn\n",
    "names = []\n",
    "results = []\n",
    "\n",
    "for name, model in models:\n",
    "    kfold = StratifiedKFold(n_splits=5, random_state=42, shuffle=True)\n",
    "    cv_results = cross_val_score(model, train_x, train_y, cv=kfold, scoring='roc_auc', n_jobs=-1) \n",
    "    names.append(name)\n",
    "    results.append(cv_results)\n",
    "    print('%s: %f (%f)' % (name, cv_results.mean(), cv_results.std()))"
   ]
  },
  {
   "cell_type": "code",
   "execution_count": 74,
   "metadata": {},
   "outputs": [
    {
     "data": {
      "text/html": [
       "<div>\n",
       "<style scoped>\n",
       "    .dataframe tbody tr th:only-of-type {\n",
       "        vertical-align: middle;\n",
       "    }\n",
       "\n",
       "    .dataframe tbody tr th {\n",
       "        vertical-align: top;\n",
       "    }\n",
       "\n",
       "    .dataframe thead th {\n",
       "        text-align: right;\n",
       "    }\n",
       "</style>\n",
       "<table border=\"1\" class=\"dataframe\">\n",
       "  <thead>\n",
       "    <tr style=\"text-align: right;\">\n",
       "      <th></th>\n",
       "      <th>Model</th>\n",
       "      <th>Score</th>\n",
       "    </tr>\n",
       "  </thead>\n",
       "  <tbody>\n",
       "    <tr>\n",
       "      <th>0</th>\n",
       "      <td>RFC</td>\n",
       "      <td>99.9993</td>\n",
       "    </tr>\n",
       "    <tr>\n",
       "      <th>1</th>\n",
       "      <td>GBC</td>\n",
       "      <td>99.9917</td>\n",
       "    </tr>\n",
       "    <tr>\n",
       "      <th>2</th>\n",
       "      <td>XGBC</td>\n",
       "      <td>99.9819</td>\n",
       "    </tr>\n",
       "    <tr>\n",
       "      <th>3</th>\n",
       "      <td>ADABC</td>\n",
       "      <td>99.8992</td>\n",
       "    </tr>\n",
       "    <tr>\n",
       "      <th>4</th>\n",
       "      <td>CART</td>\n",
       "      <td>99.7262</td>\n",
       "    </tr>\n",
       "    <tr>\n",
       "      <th>5</th>\n",
       "      <td>ETC</td>\n",
       "      <td>99.5757</td>\n",
       "    </tr>\n",
       "    <tr>\n",
       "      <th>6</th>\n",
       "      <td>LR</td>\n",
       "      <td>99.3750</td>\n",
       "    </tr>\n",
       "  </tbody>\n",
       "</table>\n",
       "</div>"
      ],
      "text/plain": [
       "   Model    Score\n",
       "0    RFC  99.9993\n",
       "1    GBC  99.9917\n",
       "2   XGBC  99.9819\n",
       "3  ADABC  99.8992\n",
       "4   CART  99.7262\n",
       "5    ETC  99.5757\n",
       "6     LR  99.3750"
      ]
     },
     "execution_count": 74,
     "metadata": {},
     "output_type": "execute_result"
    }
   ],
   "source": [
    "models_df = pd.DataFrame({'Model': names, 'Score': [round(r.mean()*100,4) for r in results]})\n",
    "models_df.sort_values(by='Score', ascending=False, inplace=True, ignore_index=True)\n",
    "models_df"
   ]
  },
  {
   "cell_type": "markdown",
   "metadata": {},
   "source": [
    "### Random Forrest Classifier takes the cake 🎂 , going ahead with some further hyperparameter tuning "
   ]
  },
  {
   "cell_type": "code",
   "execution_count": 75,
   "metadata": {},
   "outputs": [
    {
     "name": "stdout",
     "output_type": "stream",
     "text": [
      "Fitting 10 folds for each of 9 candidates, totalling 90 fits\n"
     ]
    }
   ],
   "source": [
    "param = {'n_estimators' : [400,500,600],\n",
    "         'max_depth' : [20,30,40]\n",
    "        }\n",
    "gscv_rf = GridSearchCV(estimator = RandomForestClassifier(random_state=42), \n",
    "                     param_grid= param,\n",
    "                     scoring = 'roc_auc',\n",
    "                     cv = 10,\n",
    "                     n_jobs = -1,\n",
    "                     verbose=5).fit(train_x, train_y)"
   ]
  },
  {
   "cell_type": "code",
   "execution_count": 76,
   "metadata": {},
   "outputs": [
    {
     "data": {
      "text/html": [
       "<style>#sk-container-id-1 {color: black;background-color: white;}#sk-container-id-1 pre{padding: 0;}#sk-container-id-1 div.sk-toggleable {background-color: white;}#sk-container-id-1 label.sk-toggleable__label {cursor: pointer;display: block;width: 100%;margin-bottom: 0;padding: 0.3em;box-sizing: border-box;text-align: center;}#sk-container-id-1 label.sk-toggleable__label-arrow:before {content: \"▸\";float: left;margin-right: 0.25em;color: #696969;}#sk-container-id-1 label.sk-toggleable__label-arrow:hover:before {color: black;}#sk-container-id-1 div.sk-estimator:hover label.sk-toggleable__label-arrow:before {color: black;}#sk-container-id-1 div.sk-toggleable__content {max-height: 0;max-width: 0;overflow: hidden;text-align: left;background-color: #f0f8ff;}#sk-container-id-1 div.sk-toggleable__content pre {margin: 0.2em;color: black;border-radius: 0.25em;background-color: #f0f8ff;}#sk-container-id-1 input.sk-toggleable__control:checked~div.sk-toggleable__content {max-height: 200px;max-width: 100%;overflow: auto;}#sk-container-id-1 input.sk-toggleable__control:checked~label.sk-toggleable__label-arrow:before {content: \"▾\";}#sk-container-id-1 div.sk-estimator input.sk-toggleable__control:checked~label.sk-toggleable__label {background-color: #d4ebff;}#sk-container-id-1 div.sk-label input.sk-toggleable__control:checked~label.sk-toggleable__label {background-color: #d4ebff;}#sk-container-id-1 input.sk-hidden--visually {border: 0;clip: rect(1px 1px 1px 1px);clip: rect(1px, 1px, 1px, 1px);height: 1px;margin: -1px;overflow: hidden;padding: 0;position: absolute;width: 1px;}#sk-container-id-1 div.sk-estimator {font-family: monospace;background-color: #f0f8ff;border: 1px dotted black;border-radius: 0.25em;box-sizing: border-box;margin-bottom: 0.5em;}#sk-container-id-1 div.sk-estimator:hover {background-color: #d4ebff;}#sk-container-id-1 div.sk-parallel-item::after {content: \"\";width: 100%;border-bottom: 1px solid gray;flex-grow: 1;}#sk-container-id-1 div.sk-label:hover label.sk-toggleable__label {background-color: #d4ebff;}#sk-container-id-1 div.sk-serial::before {content: \"\";position: absolute;border-left: 1px solid gray;box-sizing: border-box;top: 0;bottom: 0;left: 50%;z-index: 0;}#sk-container-id-1 div.sk-serial {display: flex;flex-direction: column;align-items: center;background-color: white;padding-right: 0.2em;padding-left: 0.2em;position: relative;}#sk-container-id-1 div.sk-item {position: relative;z-index: 1;}#sk-container-id-1 div.sk-parallel {display: flex;align-items: stretch;justify-content: center;background-color: white;position: relative;}#sk-container-id-1 div.sk-item::before, #sk-container-id-1 div.sk-parallel-item::before {content: \"\";position: absolute;border-left: 1px solid gray;box-sizing: border-box;top: 0;bottom: 0;left: 50%;z-index: -1;}#sk-container-id-1 div.sk-parallel-item {display: flex;flex-direction: column;z-index: 1;position: relative;background-color: white;}#sk-container-id-1 div.sk-parallel-item:first-child::after {align-self: flex-end;width: 50%;}#sk-container-id-1 div.sk-parallel-item:last-child::after {align-self: flex-start;width: 50%;}#sk-container-id-1 div.sk-parallel-item:only-child::after {width: 0;}#sk-container-id-1 div.sk-dashed-wrapped {border: 1px dashed gray;margin: 0 0.4em 0.5em 0.4em;box-sizing: border-box;padding-bottom: 0.4em;background-color: white;}#sk-container-id-1 div.sk-label label {font-family: monospace;font-weight: bold;display: inline-block;line-height: 1.2em;}#sk-container-id-1 div.sk-label-container {text-align: center;}#sk-container-id-1 div.sk-container {/* jupyter's `normalize.less` sets `[hidden] { display: none; }` but bootstrap.min.css set `[hidden] { display: none !important; }` so we also need the `!important` here to be able to override the default hidden behavior on the sphinx rendered scikit-learn.org. See: https://github.com/scikit-learn/scikit-learn/issues/21755 */display: inline-block !important;position: relative;}#sk-container-id-1 div.sk-text-repr-fallback {display: none;}</style><div id=\"sk-container-id-1\" class=\"sk-top-container\"><div class=\"sk-text-repr-fallback\"><pre>RandomForestClassifier(max_depth=30, n_estimators=500, random_state=42)</pre><b>In a Jupyter environment, please rerun this cell to show the HTML representation or trust the notebook. <br />On GitHub, the HTML representation is unable to render, please try loading this page with nbviewer.org.</b></div><div class=\"sk-container\" hidden><div class=\"sk-item\"><div class=\"sk-estimator sk-toggleable\"><input class=\"sk-toggleable__control sk-hidden--visually\" id=\"sk-estimator-id-1\" type=\"checkbox\" checked><label for=\"sk-estimator-id-1\" class=\"sk-toggleable__label sk-toggleable__label-arrow\">RandomForestClassifier</label><div class=\"sk-toggleable__content\"><pre>RandomForestClassifier(max_depth=30, n_estimators=500, random_state=42)</pre></div></div></div></div></div>"
      ],
      "text/plain": [
       "RandomForestClassifier(max_depth=30, n_estimators=500, random_state=42)"
      ]
     },
     "execution_count": 76,
     "metadata": {},
     "output_type": "execute_result"
    }
   ],
   "source": [
    "gscv_rf.best_estimator_"
   ]
  },
  {
   "cell_type": "markdown",
   "metadata": {},
   "source": [
    "max_depth=30, n_estimators=500, random_state=42"
   ]
  },
  {
   "cell_type": "code",
   "execution_count": 77,
   "metadata": {},
   "outputs": [
    {
     "data": {
      "text/plain": [
       "0.9999947024986959"
      ]
     },
     "execution_count": 77,
     "metadata": {},
     "output_type": "execute_result"
    }
   ],
   "source": [
    "gscv_rf.best_score_"
   ]
  },
  {
   "cell_type": "code",
   "execution_count": 78,
   "metadata": {},
   "outputs": [
    {
     "name": "stdout",
     "output_type": "stream",
     "text": [
      "Log Loss train:  0.0014208704868755985\n",
      "Log Loss test:  0.004546194206795484\n"
     ]
    }
   ],
   "source": [
    "rf = gscv_rf.best_estimator_\n",
    "rf.fit(train_x, train_y)\n",
    "\n",
    "# Making prediction on train and test data\n",
    "rf_train_pred = rf.predict(train_x)\n",
    "rf_test_pred = rf.predict(test_x)\n",
    "\n",
    "# Calculating log loss\n",
    "print(\"Log Loss train: \", metrics.log_loss(train_y, rf.predict_proba(train_x)))\n",
    "print(\"Log Loss test: \", metrics.log_loss(test_y, rf.predict_proba(test_x)))"
   ]
  },
  {
   "cell_type": "code",
   "execution_count": 79,
   "metadata": {},
   "outputs": [
    {
     "name": "stdout",
     "output_type": "stream",
     "text": [
      "Model Performance\n",
      "Train Dataset\n",
      "Accuracy :  1.0\n",
      "AUC      :  1.0\n",
      "\n",
      "Test Dataset\n",
      "Accuracy :  0.9989151143099069\n",
      "AUC      :  0.9989224977791148\n"
     ]
    }
   ],
   "source": [
    "print(\"Model Performance\")\n",
    "print(\"Train Dataset\")\n",
    "print(\"Accuracy : \", metrics.accuracy_score(train_y, rf_train_pred))\n",
    "print(\"AUC      : \", metrics.roc_auc_score(train_y, rf_train_pred))\n",
    "print(\"\")\n",
    "print(\"Test Dataset\")\n",
    "acc_rf = metrics.accuracy_score(test_y, rf_test_pred)\n",
    "print(\"Accuracy : \", metrics.accuracy_score(test_y, rf_test_pred))\n",
    "print(\"AUC      : \", metrics.roc_auc_score(test_y, rf_test_pred))"
   ]
  },
  {
   "cell_type": "code",
   "execution_count": 80,
   "metadata": {},
   "outputs": [
    {
     "name": "stdout",
     "output_type": "stream",
     "text": [
      "              precision    recall  f1-score   support\n",
      "\n",
      "           0       1.00      1.00      1.00     17709\n",
      "           1       1.00      1.00      1.00     20083\n",
      "\n",
      "    accuracy                           1.00     37792\n",
      "   macro avg       1.00      1.00      1.00     37792\n",
      "weighted avg       1.00      1.00      1.00     37792\n",
      "\n"
     ]
    }
   ],
   "source": [
    "# Getting classification metrics scores\n",
    "print(metrics.classification_report(test_y, rf_test_pred))"
   ]
  },
  {
   "cell_type": "code",
   "execution_count": 82,
   "metadata": {},
   "outputs": [
    {
     "data": {
      "image/png": "[encoded data removed]",
      "text/plain": [
       "<Figure size 432x288 with 2 Axes>"
      ]
     },
     "metadata": {
      "needs_background": "light"
     },
     "output_type": "display_data"
    }
   ],
   "source": [
    "# confusion matrix for testing data\n",
    "confusion_matrix = metrics.confusion_matrix(test_y, rf_test_pred, labels = [0,1])\n",
    "sns.heatmap(confusion_matrix, annot = True, fmt = '.2f', \n",
    "            xticklabels = ['Attack', 'Normal'], \n",
    "            yticklabels = ['Attack', 'Normal'])\n",
    "plt.xlabel('Predicted Label')\n",
    "plt.ylabel('Actual Label')\n",
    "plt.show()"
   ]
  },
  {
   "cell_type": "code",
   "execution_count": 83,
   "metadata": {},
   "outputs": [
    {
     "data": {
      "image/png": "[encoded data removed]",
      "text/plain": [
       "<Figure size 720x360 with 1 Axes>"
      ]
     },
     "metadata": {
      "needs_background": "light"
     },
     "output_type": "display_data"
    }
   ],
   "source": [
    "# Feature Impotance \n",
    "rf_fi = pd.DataFrame({'Features' : train_x.columns ,\n",
    "                      'Importance' : rf.feature_importances_\n",
    "                     }).sort_values(by = 'Importance').reset_index(drop = True)\n",
    "\n",
    "rf_fi.to_excel(output, 'Drivers_Binomial', startrow=2, startcol=1, index = False)\n",
    "plt.figure(figsize=(10,5))\n",
    "plt.barh(width = rf_fi.Importance, y = rf_fi.Features)\n",
    "plt.show()"
   ]
  },
  {
   "cell_type": "markdown",
   "metadata": {},
   "source": [
    "#### Evaluating model on test dataset"
   ]
  },
  {
   "cell_type": "code",
   "execution_count": 86,
   "metadata": {},
   "outputs": [],
   "source": [
    "rf_testfinal_pred = rf.predict(test_dum_binary[final_features])"
   ]
  },
  {
   "cell_type": "code",
   "execution_count": 89,
   "metadata": {},
   "outputs": [
    {
     "name": "stdout",
     "output_type": "stream",
     "text": [
      "              precision    recall  f1-score   support\n",
      "\n",
      "           0       0.97      0.71      0.82     12833\n",
      "           1       0.72      0.97      0.83      9711\n",
      "\n",
      "    accuracy                           0.82     22544\n",
      "   macro avg       0.84      0.84      0.82     22544\n",
      "weighted avg       0.86      0.82      0.82     22544\n",
      "\n"
     ]
    }
   ],
   "source": [
    "# Getting classification metrics scores\n",
    "print(metrics.classification_report(test_dum_binary['activity'], rf_testfinal_pred))"
   ]
  },
  {
   "cell_type": "code",
   "execution_count": 90,
   "metadata": {},
   "outputs": [
    {
     "data": {
      "image/png": "[encoded data removed]",
      "text/plain": [
       "<Figure size 432x288 with 2 Axes>"
      ]
     },
     "metadata": {
      "needs_background": "light"
     },
     "output_type": "display_data"
    }
   ],
   "source": [
    "# confusion matrix for testing data\n",
    "confusion_matrix = metrics.confusion_matrix(test_dum_binary['activity'], rf_testfinal_pred, labels = [0,1])\n",
    "sns.heatmap(confusion_matrix, annot = True, fmt = '.2f', \n",
    "            xticklabels = ['Attack', 'Normal'], \n",
    "            yticklabels = ['Attack', 'Normal'])\n",
    "plt.xlabel('Predicted Label')\n",
    "plt.ylabel('Actual Label')\n",
    "plt.show()"
   ]
  },
  {
   "cell_type": "code",
   "execution_count": 101,
   "metadata": {},
   "outputs": [],
   "source": [
    "trainout.loc[:,'rf_activity'] = rf.predict(train_dum_binary[final_features])\n",
    "testout.loc[:,'rf_activity'] = rf.predict(test_dum_binary[final_features])"
   ]
  },
  {
   "cell_type": "markdown",
   "metadata": {},
   "source": [
    "# Multinomial Classification"
   ]
  },
  {
   "cell_type": "code",
   "execution_count": 103,
   "metadata": {},
   "outputs": [],
   "source": [
    "from imblearn.over_sampling import RandomOverSampler\n",
    "from imblearn.under_sampling import RandomUnderSampler\n",
    "from collections import Counter\n",
    "from sklearn.preprocessing import Normalizer, StandardScaler, LabelEncoder\n",
    "\n",
    "traindata=train_dum_binary\n",
    "testdata=test_dum_binary"
   ]
  },
  {
   "cell_type": "code",
   "execution_count": 104,
   "metadata": {},
   "outputs": [],
   "source": [
    "# Getting Train and Test Datasets\n",
    "train_x, test_x, train_y, test_y = train_test_split(traindata[final_features], traindata['attack_class'], \n",
    "                                                    test_size = 0.3, \n",
    "                                                    random_state = 42)"
   ]
  },
  {
   "cell_type": "code",
   "execution_count": 105,
   "metadata": {},
   "outputs": [
    {
     "name": "stdout",
     "output_type": "stream",
     "text": [
      "Original dataset shape Counter({'Normal': 47260, 'DoS': 32102, 'Probe': 8116, 'R2L': 668, 'U2R': 35})\n",
      "Oversampled dataset shape Counter({'Normal': 47260, 'DoS': 47260, 'Probe': 47260, 'R2L': 47260, 'U2R': 47260})\n"
     ]
    }
   ],
   "source": [
    "# Using RandomOverSampler for rebalancing the data \n",
    "print('Original dataset shape {}'.format(Counter(train_y)))\n",
    "\n",
    "ros = RandomOverSampler(random_state = 42, sampling_strategy = 'auto')\n",
    "train_x, train_y = ros.fit_resample(train_x, train_y)\n",
    "\n",
    "print('Oversampled dataset shape {}'.format(Counter(train_y)))"
   ]
  },
  {
   "cell_type": "code",
   "execution_count": 108,
   "metadata": {},
   "outputs": [],
   "source": [
    "# Different models\n",
    "models = []\n",
    "models.append(('LR', LogisticRegression()))\n",
    "models.append(('RFC', RandomForestClassifier()))\n",
    "models.append(('CART', DecisionTreeClassifier()))\n",
    "models.append(('ADABC', AdaBoostClassifier()))\n",
    "models.append(('ETC', ExtraTreeClassifier()))\n",
    "models.append(('GBC', GradientBoostingClassifier()))"
   ]
  },
  {
   "cell_type": "code",
   "execution_count": 109,
   "metadata": {},
   "outputs": [
    {
     "name": "stdout",
     "output_type": "stream",
     "text": [
      "LR: 0.929242 (0.001684)\n",
      "RFC: 0.999661 (0.000038)\n",
      "CART: 0.999323 (0.000115)\n",
      "ADABC: 0.600127 (0.058199)\n",
      "ETC: 0.998680 (0.000302)\n",
      "GBC: 0.998058 (0.000162)\n"
     ]
    }
   ],
   "source": [
    "# evaluate each model in turn\n",
    "names = []\n",
    "results = []\n",
    "\n",
    "for name, model in models:\n",
    "    kfold = StratifiedKFold(n_splits=5, random_state=42, shuffle=True)\n",
    "    cv_results = cross_val_score(model, train_x, train_y, cv=kfold,  n_jobs=-1)\n",
    "    names.append(name)\n",
    "    results.append(cv_results)\n",
    "    print('%s: %f (%f)' % (name, cv_results.mean(), cv_results.std()))"
   ]
  },
  {
   "cell_type": "code",
   "execution_count": 110,
   "metadata": {},
   "outputs": [
    {
     "data": {
      "text/html": [
       "<div>\n",
       "<style scoped>\n",
       "    .dataframe tbody tr th:only-of-type {\n",
       "        vertical-align: middle;\n",
       "    }\n",
       "\n",
       "    .dataframe tbody tr th {\n",
       "        vertical-align: top;\n",
       "    }\n",
       "\n",
       "    .dataframe thead th {\n",
       "        text-align: right;\n",
       "    }\n",
       "</style>\n",
       "<table border=\"1\" class=\"dataframe\">\n",
       "  <thead>\n",
       "    <tr style=\"text-align: right;\">\n",
       "      <th></th>\n",
       "      <th>Model</th>\n",
       "      <th>Score</th>\n",
       "    </tr>\n",
       "  </thead>\n",
       "  <tbody>\n",
       "    <tr>\n",
       "      <th>0</th>\n",
       "      <td>RFC</td>\n",
       "      <td>99.9661</td>\n",
       "    </tr>\n",
       "    <tr>\n",
       "      <th>1</th>\n",
       "      <td>CART</td>\n",
       "      <td>99.9323</td>\n",
       "    </tr>\n",
       "    <tr>\n",
       "      <th>2</th>\n",
       "      <td>ETC</td>\n",
       "      <td>99.8680</td>\n",
       "    </tr>\n",
       "    <tr>\n",
       "      <th>3</th>\n",
       "      <td>GBC</td>\n",
       "      <td>99.8058</td>\n",
       "    </tr>\n",
       "    <tr>\n",
       "      <th>4</th>\n",
       "      <td>LR</td>\n",
       "      <td>92.9242</td>\n",
       "    </tr>\n",
       "    <tr>\n",
       "      <th>5</th>\n",
       "      <td>ADABC</td>\n",
       "      <td>60.0127</td>\n",
       "    </tr>\n",
       "  </tbody>\n",
       "</table>\n",
       "</div>"
      ],
      "text/plain": [
       "   Model    Score\n",
       "0    RFC  99.9661\n",
       "1   CART  99.9323\n",
       "2    ETC  99.8680\n",
       "3    GBC  99.8058\n",
       "4     LR  92.9242\n",
       "5  ADABC  60.0127"
      ]
     },
     "execution_count": 110,
     "metadata": {},
     "output_type": "execute_result"
    }
   ],
   "source": [
    "models_df = pd.DataFrame({'Model': names, 'Score': [round(r.mean()*100,4) for r in results]})\n",
    "models_df.sort_values(by='Score', ascending=False, inplace=True, ignore_index=True)\n",
    "models_df"
   ]
  },
  {
   "cell_type": "markdown",
   "metadata": {},
   "source": [
    "### Yet gain, Random Forrest Classifier takes the cake 🎂 , going ahead with some further hyperparameter tuning "
   ]
  },
  {
   "cell_type": "code",
   "execution_count": 111,
   "metadata": {},
   "outputs": [
    {
     "name": "stdout",
     "output_type": "stream",
     "text": [
      "Fitting 5 folds for each of 9 candidates, totalling 45 fits\n"
     ]
    }
   ],
   "source": [
    "param = { 'n_estimators' : [400,500,600],\n",
    "         'max_depth' : [20,30,40]\n",
    "        }\n",
    "gscv_rf = GridSearchCV(estimator = RandomForestClassifier(random_state=42), \n",
    "                     param_grid = param,\n",
    "                     cv = 5,\n",
    "                     n_jobs = -1,\n",
    "                     verbose=5).fit(train_x, train_y)"
   ]
  },
  {
   "cell_type": "code",
   "execution_count": 112,
   "metadata": {},
   "outputs": [
    {
     "data": {
      "text/html": [
       "<style>#sk-container-id-2 {color: black;background-color: white;}#sk-container-id-2 pre{padding: 0;}#sk-container-id-2 div.sk-toggleable {background-color: white;}#sk-container-id-2 label.sk-toggleable__label {cursor: pointer;display: block;width: 100%;margin-bottom: 0;padding: 0.3em;box-sizing: border-box;text-align: center;}#sk-container-id-2 label.sk-toggleable__label-arrow:before {content: \"▸\";float: left;margin-right: 0.25em;color: #696969;}#sk-container-id-2 label.sk-toggleable__label-arrow:hover:before {color: black;}#sk-container-id-2 div.sk-estimator:hover label.sk-toggleable__label-arrow:before {color: black;}#sk-container-id-2 div.sk-toggleable__content {max-height: 0;max-width: 0;overflow: hidden;text-align: left;background-color: #f0f8ff;}#sk-container-id-2 div.sk-toggleable__content pre {margin: 0.2em;color: black;border-radius: 0.25em;background-color: #f0f8ff;}#sk-container-id-2 input.sk-toggleable__control:checked~div.sk-toggleable__content {max-height: 200px;max-width: 100%;overflow: auto;}#sk-container-id-2 input.sk-toggleable__control:checked~label.sk-toggleable__label-arrow:before {content: \"▾\";}#sk-container-id-2 div.sk-estimator input.sk-toggleable__control:checked~label.sk-toggleable__label {background-color: #d4ebff;}#sk-container-id-2 div.sk-label input.sk-toggleable__control:checked~label.sk-toggleable__label {background-color: #d4ebff;}#sk-container-id-2 input.sk-hidden--visually {border: 0;clip: rect(1px 1px 1px 1px);clip: rect(1px, 1px, 1px, 1px);height: 1px;margin: -1px;overflow: hidden;padding: 0;position: absolute;width: 1px;}#sk-container-id-2 div.sk-estimator {font-family: monospace;background-color: #f0f8ff;border: 1px dotted black;border-radius: 0.25em;box-sizing: border-box;margin-bottom: 0.5em;}#sk-container-id-2 div.sk-estimator:hover {background-color: #d4ebff;}#sk-container-id-2 div.sk-parallel-item::after {content: \"\";width: 100%;border-bottom: 1px solid gray;flex-grow: 1;}#sk-container-id-2 div.sk-label:hover label.sk-toggleable__label {background-color: #d4ebff;}#sk-container-id-2 div.sk-serial::before {content: \"\";position: absolute;border-left: 1px solid gray;box-sizing: border-box;top: 0;bottom: 0;left: 50%;z-index: 0;}#sk-container-id-2 div.sk-serial {display: flex;flex-direction: column;align-items: center;background-color: white;padding-right: 0.2em;padding-left: 0.2em;position: relative;}#sk-container-id-2 div.sk-item {position: relative;z-index: 1;}#sk-container-id-2 div.sk-parallel {display: flex;align-items: stretch;justify-content: center;background-color: white;position: relative;}#sk-container-id-2 div.sk-item::before, #sk-container-id-2 div.sk-parallel-item::before {content: \"\";position: absolute;border-left: 1px solid gray;box-sizing: border-box;top: 0;bottom: 0;left: 50%;z-index: -1;}#sk-container-id-2 div.sk-parallel-item {display: flex;flex-direction: column;z-index: 1;position: relative;background-color: white;}#sk-container-id-2 div.sk-parallel-item:first-child::after {align-self: flex-end;width: 50%;}#sk-container-id-2 div.sk-parallel-item:last-child::after {align-self: flex-start;width: 50%;}#sk-container-id-2 div.sk-parallel-item:only-child::after {width: 0;}#sk-container-id-2 div.sk-dashed-wrapped {border: 1px dashed gray;margin: 0 0.4em 0.5em 0.4em;box-sizing: border-box;padding-bottom: 0.4em;background-color: white;}#sk-container-id-2 div.sk-label label {font-family: monospace;font-weight: bold;display: inline-block;line-height: 1.2em;}#sk-container-id-2 div.sk-label-container {text-align: center;}#sk-container-id-2 div.sk-container {/* jupyter's `normalize.less` sets `[hidden] { display: none; }` but bootstrap.min.css set `[hidden] { display: none !important; }` so we also need the `!important` here to be able to override the default hidden behavior on the sphinx rendered scikit-learn.org. See: https://github.com/scikit-learn/scikit-learn/issues/21755 */display: inline-block !important;position: relative;}#sk-container-id-2 div.sk-text-repr-fallback {display: none;}</style><div id=\"sk-container-id-2\" class=\"sk-top-container\"><div class=\"sk-text-repr-fallback\"><pre>RandomForestClassifier(max_depth=30, n_estimators=600, random_state=42)</pre><b>In a Jupyter environment, please rerun this cell to show the HTML representation or trust the notebook. <br />On GitHub, the HTML representation is unable to render, please try loading this page with nbviewer.org.</b></div><div class=\"sk-container\" hidden><div class=\"sk-item\"><div class=\"sk-estimator sk-toggleable\"><input class=\"sk-toggleable__control sk-hidden--visually\" id=\"sk-estimator-id-2\" type=\"checkbox\" checked><label for=\"sk-estimator-id-2\" class=\"sk-toggleable__label sk-toggleable__label-arrow\">RandomForestClassifier</label><div class=\"sk-toggleable__content\"><pre>RandomForestClassifier(max_depth=30, n_estimators=600, random_state=42)</pre></div></div></div></div></div>"
      ],
      "text/plain": [
       "RandomForestClassifier(max_depth=30, n_estimators=600, random_state=42)"
      ]
     },
     "execution_count": 112,
     "metadata": {},
     "output_type": "execute_result"
    }
   ],
   "source": [
    "gscv_rf.best_estimator_"
   ]
  },
  {
   "cell_type": "markdown",
   "metadata": {},
   "source": [
    "max_depth=30, n_estimators=600, random_state=42"
   ]
  },
  {
   "cell_type": "code",
   "execution_count": 113,
   "metadata": {},
   "outputs": [
    {
     "data": {
      "text/plain": [
       "0.999678374947101"
      ]
     },
     "execution_count": 113,
     "metadata": {},
     "output_type": "execute_result"
    }
   ],
   "source": [
    "gscv_rf.best_score_"
   ]
  },
  {
   "cell_type": "code",
   "execution_count": 114,
   "metadata": {},
   "outputs": [
    {
     "name": "stdout",
     "output_type": "stream",
     "text": [
      "Log Loss train:  0.00042920853888287483\n",
      "Log Loss test:  0.006001992977782747\n"
     ]
    }
   ],
   "source": [
    "rf_multi = gscv_rf.best_estimator_\n",
    "rf_multi.fit(train_x, train_y)\n",
    "\n",
    "# Making prediction on train and test data\n",
    "rf_train_pred = rf_multi.predict(train_x)\n",
    "rf_test_pred = rf_multi.predict(test_x)\n",
    "\n",
    "# Calculating log loss\n",
    "print(\"Log Loss train: \", metrics.log_loss(train_y, rf_multi.predict_proba(train_x)))\n",
    "print(\"Log Loss test: \", metrics.log_loss(test_y, rf_multi.predict_proba(test_x)))"
   ]
  },
  {
   "cell_type": "code",
   "execution_count": 115,
   "metadata": {},
   "outputs": [
    {
     "name": "stdout",
     "output_type": "stream",
     "text": [
      "Model Performance\n",
      "Train Dataset\n",
      "Accuracy :  1.0\n",
      "AUC      :  1.0\n",
      "\n",
      "Test Dataset\n",
      "Accuracy :  0.9986505080440304\n",
      "AUC      :  0.9999692410866985\n"
     ]
    }
   ],
   "source": [
    "print(\"Model Performance\")\n",
    "print(\"Train Dataset\")\n",
    "print(\"Accuracy : \", metrics.accuracy_score(train_y, rf_train_pred))\n",
    "print(\"AUC      : \", metrics.roc_auc_score(train_y, rf_multi.predict_proba(train_x), multi_class = 'ovr'))\n",
    "print(\"\")\n",
    "print(\"Test Dataset\")\n",
    "print(\"Accuracy : \", metrics.accuracy_score(test_y, rf_test_pred))\n",
    "print(\"AUC      : \", metrics.roc_auc_score(test_y, rf_multi.predict_proba(test_x), multi_class = 'ovr'))"
   ]
  },
  {
   "cell_type": "code",
   "execution_count": 116,
   "metadata": {},
   "outputs": [
    {
     "name": "stdout",
     "output_type": "stream",
     "text": [
      "              precision    recall  f1-score   support\n",
      "\n",
      "         DoS       1.00      1.00      1.00     13825\n",
      "      Normal       1.00      1.00      1.00     20083\n",
      "       Probe       1.00      1.00      1.00      3540\n",
      "         R2L       0.97      0.98      0.98       327\n",
      "         U2R       0.67      0.71      0.69        17\n",
      "\n",
      "    accuracy                           1.00     37792\n",
      "   macro avg       0.93      0.94      0.93     37792\n",
      "weighted avg       1.00      1.00      1.00     37792\n",
      "\n"
     ]
    }
   ],
   "source": [
    "# Getting classification metrics scores for testing\n",
    "print(metrics.classification_report(test_y, rf_test_pred))"
   ]
  },
  {
   "cell_type": "code",
   "execution_count": 140,
   "metadata": {},
   "outputs": [
    {
     "data": {
      "image/png": "[encoded data removed]",
      "text/plain": [
       "<Figure size 700x700 with 2 Axes>"
      ]
     },
     "metadata": {
      "needs_background": "light"
     },
     "output_type": "display_data"
    }
   ],
   "source": [
    "# Confusion Matrix for testing\n",
    "fig, ax = plt.subplots(figsize=(7,7),dpi=100)\n",
    "metrics.ConfusionMatrixDisplay.from_predictions(test_y, rf_test_pred, cmap='rocket', values_format='d', ax=ax);"
   ]
  },
  {
   "cell_type": "code",
   "execution_count": 132,
   "metadata": {},
   "outputs": [
    {
     "data": {
      "image/png": "[encoded data removed]",
      "text/plain": [
       "<Figure size 720x360 with 1 Axes>"
      ]
     },
     "metadata": {
      "needs_background": "light"
     },
     "output_type": "display_data"
    }
   ],
   "source": [
    "# Feature Impotance \n",
    "rf_fi = pd.DataFrame({'Features' : train_x.columns ,\n",
    "                      'Importance' : rf_multi.feature_importances_\n",
    "                     }).sort_values(by = 'Importance').reset_index(drop = True)\n",
    "\n",
    "rf_fi.to_excel(output, 'Drivers_Multinomial', startrow=2, startcol=1, index = False)\n",
    "plt.figure(figsize=(10,5))\n",
    "plt.barh(width = rf_fi.Importance, y = rf_fi.Features)\n",
    "plt.show()"
   ]
  },
  {
   "cell_type": "markdown",
   "metadata": {},
   "source": [
    "#### Evaluating model on test dataset"
   ]
  },
  {
   "cell_type": "code",
   "execution_count": 133,
   "metadata": {},
   "outputs": [],
   "source": [
    "rf_testfinal_pred = rf_multi.predict(testdata[final_features])"
   ]
  },
  {
   "cell_type": "code",
   "execution_count": 134,
   "metadata": {},
   "outputs": [
    {
     "name": "stdout",
     "output_type": "stream",
     "text": [
      "              precision    recall  f1-score   support\n",
      "\n",
      "         DoS       0.97      0.79      0.87      7458\n",
      "      Normal       0.66      0.97      0.79      9711\n",
      "       Probe       0.74      0.65      0.69      2421\n",
      "         R2L       0.82      0.01      0.02      2754\n",
      "         U2R       0.26      0.06      0.09       200\n",
      "\n",
      "    accuracy                           0.75     22544\n",
      "   macro avg       0.69      0.50      0.49     22544\n",
      "weighted avg       0.79      0.75      0.70     22544\n",
      "\n"
     ]
    }
   ],
   "source": [
    "# Getting classification metrics scores for testing\n",
    "print(metrics.classification_report(testdata['attack_class'], rf_testfinal_pred))"
   ]
  },
  {
   "cell_type": "code",
   "execution_count": 141,
   "metadata": {},
   "outputs": [
    {
     "data": {
      "image/png": "[encoded data removed]",
      "text/plain": [
       "<Figure size 700x700 with 2 Axes>"
      ]
     },
     "metadata": {
      "needs_background": "light"
     },
     "output_type": "display_data"
    }
   ],
   "source": [
    "fig, ax = plt.subplots(figsize=(7,7), dpi=100)\n",
    "metrics.ConfusionMatrixDisplay.from_predictions(testdata['attack_class'], rf_testfinal_pred, cmap='rocket', values_format='d', ax=ax);"
   ]
  },
  {
   "cell_type": "code",
   "execution_count": 136,
   "metadata": {},
   "outputs": [],
   "source": [
    "trainout['rf_attack_class'] = rf_multi.predict(traindata[final_features])\n",
    "testout['rf_attack_class'] = rf_multi.predict(testdata[final_features])"
   ]
  },
  {
   "cell_type": "code",
   "execution_count": 137,
   "metadata": {},
   "outputs": [],
   "source": [
    "trainout.to_excel(output, 'training', startrow=2, startcol=0, index = False)\n",
    "testout.to_excel(output, 'testing', startrow=2, startcol=0, index = False)"
   ]
  },
  {
   "cell_type": "code",
   "execution_count": 138,
   "metadata": {},
   "outputs": [],
   "source": [
    "output.save()"
   ]
  },
  {
   "cell_type": "code",
   "execution_count": null,
   "metadata": {},
   "outputs": [],
   "source": []
  }
 ],
 "metadata": {
  "colab": {
   "name": "Network Intrusion Detection.ipynb",
   "provenance": []
  },
  "kernelspec": {
   "display_name": "Python 3",
   "language": "python",
   "name": "python3"
  },
  "language_info": {
   "codemirror_mode": {
    "name": "ipython",
    "version": 3
   },
   "file_extension": ".py",
   "mimetype": "text/x-python",
   "name": "python",
   "nbconvert_exporter": "python",
   "pygments_lexer": "ipython3",
   "version": "3.8.3"
  }
 },
 "nbformat": 4,
 "nbformat_minor": 1
}
